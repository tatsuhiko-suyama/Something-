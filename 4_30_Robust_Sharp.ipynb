{
  "nbformat": 4,
  "nbformat_minor": 0,
  "metadata": {
    "colab": {
      "provenance": [],
      "authorship_tag": "ABX9TyNE0ZX2CRIPtdaSnypN0P2t",
      "include_colab_link": true
    },
    "kernelspec": {
      "name": "python3",
      "display_name": "Python 3"
    },
    "language_info": {
      "name": "python"
    }
  },
  "cells": [
    {
      "cell_type": "markdown",
      "metadata": {
        "id": "view-in-github",
        "colab_type": "text"
      },
      "source": [
        "<a href=\"https://colab.research.google.com/github/tatsuhiko-suyama/Something-/blob/main/4_30_Robust_Sharp.ipynb\" target=\"_parent\"><img src=\"https://colab.research.google.com/assets/colab-badge.svg\" alt=\"Open In Colab\"/></a>"
      ]
    },
    {
      "cell_type": "markdown",
      "source": [
        "#入力パラメータ\n"
      ],
      "metadata": {
        "id": "GLiPJcau7Vcc"
      }
    },
    {
      "cell_type": "code",
      "source": [],
      "metadata": {
        "id": "zX16CyQ67VP8"
      },
      "execution_count": 28,
      "outputs": []
    },
    {
      "cell_type": "markdown",
      "source": [
        "#Classical MVP"
      ],
      "metadata": {
        "id": "lyhAwwFp00AT"
      }
    },
    {
      "cell_type": "code",
      "source": [
        "#!/usr/bin/env python3\n",
        "# -*- coding: utf-8 -*-\n",
        "\"\"\"\n",
        "alpha0_classical_mv_unconstrained_target.py  –  α = 0 （古典的平均–分散ポートフォリオ、和の制約なし、目標リターンあり）\n",
        "    • sum pi = 1 の制約を外し、目標リターン mu_tilde を達成しつつ分散を最小化するポートフォリオを計算\n",
        "    • alpha_sweep_K4M4_SR.csv と互換な列構成で 1 行だけの CSV を生成\n",
        "    • SR_rob には計算されたポートフォリオの Sharpe を格納\n",
        "    • w*, λ, dpi* は NaN で空欄（robust 問題に固有の列のため）\n",
        "\"\"\"\n",
        "\n",
        "# ---------------------------------------------------------------------\n",
        "# 0. IMPORTS & CONSTANTS\n",
        "# ---------------------------------------------------------------------\n",
        "import numpy as np\n",
        "import pandas as pd\n",
        "\n",
        "K, M        = 4, 4\n",
        "mu_tilde    = 0.03           # 目標リターン (必要)\n",
        "alpha0      = 0.0            # 古典設定\n",
        "\n",
        "# ---------------------------------------------------------------------\n",
        "# 1. SYNTHETIC DATA（元スクリプトと同一）\n",
        "# ---------------------------------------------------------------------\n",
        "r_base = np.array([0.02, 0.03, 0.04, 0.05])\n",
        "Delta_A = np.array([[+1, 1, -1, -1],\n",
        "                    [+1, 1, -1, -1],\n",
        "                    [+2, -2, +2, -2],\n",
        "                    [+2, -2, +2, -2]], dtype=float)\n",
        "Delta_r_m     = Delta_A / 1000\n",
        "sigma_base    = np.array([0.20, 0.25, 0.30, 0.35])\n",
        "Delta_sigma_m = Delta_A / 100\n",
        "\n",
        "def block_corr(rho_in: float, rho_out: float) -> np.ndarray:\n",
        "    C = np.full((K, K), rho_out)\n",
        "    np.fill_diagonal(C, 1.0)\n",
        "    sectA, sectB = [0, 1], [2, 3]\n",
        "    for i in sectA:\n",
        "        for j in sectA:\n",
        "            if i != j:\n",
        "                C[i, j] = rho_in\n",
        "    for i in sectB:\n",
        "        for j in sectB:\n",
        "            if i != j:\n",
        "                C[i, j] = rho_in\n",
        "    return C\n",
        "\n",
        "C_base = block_corr(0.75, 0.50)\n",
        "tilde_C_list = [\n",
        "    block_corr(0.85, 0.40),\n",
        "    block_corr(0.65, 0.40),\n",
        "    block_corr(0.65, 0.60),\n",
        "    block_corr(0.85, 0.60),\n",
        "]\n",
        "\n",
        "def mix_corr(C0, C1, alpha, beta=0.5, eps=1e-4):\n",
        "    C = (1 - beta * alpha) * C0 + beta * alpha * C1\n",
        "    eigval, eigvec = np.linalg.eigh(C)\n",
        "    eigval_clip = np.clip(eigval, eps, None)\n",
        "    C_spd = eigvec @ np.diag(eigval_clip) @ eigvec.T\n",
        "    D = np.sqrt(np.diag(C_spd))\n",
        "    return C_spd / np.outer(D, D)\n",
        "\n",
        "def build_params(alpha: float):\n",
        "    \"\"\"Return mean matrix R (K×M) and second-moment matrices Σ (K×K×M).\"\"\"\n",
        "    R = r_base[:, None] + alpha * Delta_r_m\n",
        "    Sigma = np.zeros((K, K, M))\n",
        "    for m in range(M):\n",
        "        sig_vec = sigma_base + alpha * Delta_sigma_m[:, m]\n",
        "        diag_sig = np.diag(sig_vec)\n",
        "        C_alpha = mix_corr(C_base, tilde_C_list[m], alpha, beta=0.5)\n",
        "        Sigma[:, :, m] = diag_sig @ C_alpha @ diag_sig + np.outer(R[:, m], R[:, m])\n",
        "    return R, Sigma\n",
        "\n",
        "# ---------------------------------------------------------------------\n",
        "# 2. α = 0 の古典 MVP を厳密に解く（和の制約なし、目標リターン制約あり）\n",
        "# ---------------------------------------------------------------------\n",
        "R0, Sigma0_arr = build_params(alpha0)\n",
        "\n",
        "# モデル重みは一様  w_m = 1/M\n",
        "w_uniform = np.ones(M) / M\n",
        "# 平均リターンベクトルは、各モデルの期待リターンの平均とする\n",
        "r_bar     = R0 @ w_uniform\n",
        "\n",
        "# 共分散行列は、古典設定ではモデル0のデータから計算（元のスクリプトに従う）\n",
        "Cov_bar   = Sigma0_arr[:,:,0]-np.outer(R0[:,0],R0[:,0])\n",
        "\n",
        "# ---- 目標リターン mu_tilde を達成し、分散を最小化（和の制約なし）----\n",
        "# 最適解は pi = lambda * inv(Cov_bar) @ r_bar\n",
        "# 制約: r_bar^T @ pi = mu_tilde\n",
        "# r_bar^T @ (lambda * inv(Cov_bar) @ r_bar) = mu_tilde\n",
        "# lambda * (r_bar^T @ inv(Cov_bar) @ r_bar) = mu_tilde\n",
        "# lambda = mu_tilde / (r_bar^T @ inv(Cov_bar) @ r_bar)\n",
        "\n",
        "invC = np.linalg.inv(Cov_bar)\n",
        "\n",
        "# B_prime = r_bar^T @ invC @ r_bar  (これは元のスクリプトのCに等しい)\n",
        "B_prime = r_bar @ invC @ r_bar\n",
        "\n",
        "# lambda を計算 (ただし B_prime がゼロでないことを仮定)\n",
        "if B_prime < 1e-9: # ゼロに近い場合のエラー回避\n",
        "     raise ValueError(\"r_bar @ inv(Cov_bar) @ r_bar is close to zero. Cannot achieve target return.\")\n",
        "\n",
        "lam = mu_tilde / B_prime\n",
        "\n",
        "# 最適ポートフォリオベクトル (和の制約なし)\n",
        "pi_star_unconstrained = lam * invC @ r_bar\n",
        "\n",
        "# このポートフォリオベクトルの期待リターン (mu_tilde )\n",
        "expected_ret_star = r_bar @ pi_star_unconstrained\n",
        "\n",
        "# このポートフォリオベクトルの分散\n",
        "var_star_unconstrained = pi_star_unconstrained @ Cov_bar @ pi_star_unconstrained\n",
        "\n",
        "# 計算されたポートフォリオの Sharpe Ratio (リスクフリーレート0)\n",
        "# SR = Expected Return / sqrt(Variance)\n",
        "# Expected Return は mu_tilde に設定されている\n",
        "# SR = mu_tilde / sqrt(var_star_unconstrained)\n",
        "# var_star_unconstrained = (lambda * invC @ r_bar)^T @ Cov_bar @ (lambda * invC @ r_bar)\n",
        "# = lambda^2 * (invC @ r_bar)^T @ Cov_bar @ (invC @ r_bar)\n",
        "# = lambda^2 * (r_bar^T @ invC @ Cov_bar @ invC @ r_bar)\n",
        "# = lambda^2 * (r_bar^T @ invC @ r_bar) = lambda^2 * B_prime\n",
        "# SR = mu_tilde / sqrt(lambda^2 * B_prime) = mu_tilde / (abs(lambda) * sqrt(B_prime))\n",
        "# lambda = mu_tilde / B_prime なので\n",
        "# SR = mu_tilde / (abs(mu_tilde / B_prime) * sqrt(B_prime))\n",
        "# If mu_tilde > 0, SR = mu_tilde / ((mu_tilde / B_prime) * sqrt(B_prime)) = B_prime / sqrt(B_prime) = sqrt(B_prime)\n",
        "# If mu_tilde < 0, SR = mu_tilde / ((-mu_tilde / B_prime) * sqrt(B_prime)) = -B_prime / sqrt(B_prime) = -sqrt(B_prime)\n",
        "# Generally, SR = sign(mu_tilde) * sqrt(B_prime)\n",
        "\n",
        "SR_calc = np.sign(mu_tilde) * np.sqrt(B_prime) if B_prime > 0 else 0 # B_prime <= 0 の場合はSR定義が問題になる\n",
        "\n",
        "# ---- λ_min ----\n",
        "lambda_min_cov = np.min(np.linalg.eigvalsh(Cov_bar))\n",
        "\n",
        "# ---------------------------------------------------------------------\n",
        "# 3. CSV 生成 – α-sweep 互換フォーマット\n",
        "# ---------------------------------------------------------------------\n",
        "cols_w   = [f\"w*_m{m}\"   for m in range(M)]\n",
        "cols_pi  = [f\"pi*_k{k}\"  for k in range(K)]\n",
        "cols_ret = [f\"cstr_ret_m{m}\" for m in range(M)]\n",
        "cols_lam = [f\"lam_m{m}\"  for m in range(M)] # ここでの lam は上記の lambda\n",
        "cols_dpi = [f\"dpi*_k{k}\" for k in range(K)]\n",
        "\n",
        "columns = ([\"alpha\", \"H_star\", \"supp_w\", \"lambda_min\",\n",
        "            \"iterations\", \"SR_rob\", \"SR_bound\"]\n",
        "           + cols_w + cols_pi + cols_ret + cols_lam + cols_dpi)\n",
        "\n",
        "# lam_m は robust 問題の各モデルに対するラグランジュ乗数だが、\n",
        "# ここでは和の制約なしMV問題の単一のラグランジュ乗数 lambda を格納する\n",
        "# フォーマット互換性のため、lambda を cols_lam の最初の要素に入れる\n",
        "lam_output = [lam] + [np.nan] * (len(cols_lam) - 1)\n",
        "\n",
        "\n",
        "row = [alpha0,\n",
        "       var_star_unconstrained,                    # H_star = 計算されたポートフォリオベクトルの分散\n",
        "       np.nan,                                  # supp_w   – 固定しないので空欄\n",
        "       lambda_min_cov,                          # lambda_min of Cov_bar\n",
        "       np.nan,                                  # iterations – 求解回数無し\n",
        "       SR_calc,                                 # SR_rob (計算されたポートフォリオのSharpe)\n",
        "       np.sqrt(B_prime) if B_prime > 0 else np.nan] # SR_bound (理論上限、sqrt(C) または sqrt(B_prime))\n",
        "row += [np.nan] * len(cols_w)                   # w*  — robust 特有 → NaN\n",
        "row += list(pi_star_unconstrained)              # pi* 4 つ (和の制約なし、目標リターン達成ベクトル)\n",
        "# 各モデル m = 0..M-1 における計算されたポートフォリオの期待リターン\n",
        "row += list(R0.T @ pi_star_unconstrained)       # 各モデル制約リターン\n",
        "row += lam_output                               # λ   — 単一の lambda を格納\n",
        "row += [np.nan] * len(cols_dpi)                 # dpi* — NaN\n",
        "\n",
        "df = pd.DataFrame([row], columns=columns)\n",
        "df.to_csv(\"alpha0_classical_mv_unconstrained_target.csv\", index=False, float_format=\"%.10g\")\n",
        "print(\"CSV written to alpha0_classical_mv_unconstrained_target.csv\")"
      ],
      "metadata": {
        "colab": {
          "base_uri": "https://localhost:8080/"
        },
        "id": "iYtjaoiDuTIO",
        "outputId": "e76a19c9-d043-4703-98d1-2e3995cdd76c"
      },
      "execution_count": 29,
      "outputs": [
        {
          "output_type": "stream",
          "name": "stdout",
          "text": [
            "CSV written to alpha0_classical_mv_unconstrained_target.csv\n"
          ]
        }
      ]
    },
    {
      "cell_type": "code",
      "source": [],
      "metadata": {
        "id": "nN1kzEbW_y87"
      },
      "execution_count": 29,
      "outputs": []
    },
    {
      "cell_type": "markdown",
      "source": [
        "#Robust MBP $r^m ,\\sigma^m,C^m$全てが異なる場合"
      ],
      "metadata": {
        "id": "IQ-J8egL05eR"
      }
    },
    {
      "cell_type": "code",
      "execution_count": null,
      "metadata": {
        "colab": {
          "base_uri": "https://localhost:8080/"
        },
        "id": "L136rWnhmkkC",
        "outputId": "3483600d-0f28-4027-f129-1d6b87bb2084"
      },
      "outputs": [
        {
          "output_type": "stream",
          "name": "stdout",
          "text": [
            "========== α-Sweep START ==========\n",
            "========== α-Sweep START ==========\n",
            "========== α-Sweep START ==========\n",
            "========== α-Sweep START ==========\n",
            "========== α-Sweep START ==========\n",
            "========== α-Sweep START ==========\n",
            "========== α-Sweep START ==========\n"
          ]
        },
        {
          "output_type": "stream",
          "name": "stderr",
          "text": [
            "INFO:sweep:========== α-Sweep START ==========\n"
          ]
        },
        {
          "output_type": "stream",
          "name": "stdout",
          "text": [
            "α = 0.01000  (1/501)\n",
            "α = 0.01000  (1/501)\n",
            "α = 0.01000  (1/501)\n",
            "α = 0.01000  (1/501)\n",
            "α = 0.01000  (1/501)\n",
            "α = 0.01000  (1/501)\n",
            "α = 0.01000  (1/501)\n"
          ]
        },
        {
          "output_type": "stream",
          "name": "stderr",
          "text": [
            "INFO:sweep:α = 0.01000  (1/501)\n"
          ]
        },
        {
          "output_type": "stream",
          "name": "stdout",
          "text": [
            "α = 0.01098  (2/501)\n",
            "α = 0.01098  (2/501)\n",
            "α = 0.01098  (2/501)\n",
            "α = 0.01098  (2/501)\n",
            "α = 0.01098  (2/501)\n",
            "α = 0.01098  (2/501)\n",
            "α = 0.01098  (2/501)\n"
          ]
        },
        {
          "output_type": "stream",
          "name": "stderr",
          "text": [
            "INFO:sweep:α = 0.01098  (2/501)\n"
          ]
        },
        {
          "output_type": "stream",
          "name": "stdout",
          "text": [
            "α = 0.01196  (3/501)\n",
            "α = 0.01196  (3/501)\n",
            "α = 0.01196  (3/501)\n",
            "α = 0.01196  (3/501)\n",
            "α = 0.01196  (3/501)\n",
            "α = 0.01196  (3/501)\n",
            "α = 0.01196  (3/501)\n"
          ]
        },
        {
          "output_type": "stream",
          "name": "stderr",
          "text": [
            "INFO:sweep:α = 0.01196  (3/501)\n"
          ]
        },
        {
          "output_type": "stream",
          "name": "stdout",
          "text": [
            "α = 0.01294  (4/501)\n",
            "α = 0.01294  (4/501)\n",
            "α = 0.01294  (4/501)\n",
            "α = 0.01294  (4/501)\n",
            "α = 0.01294  (4/501)\n",
            "α = 0.01294  (4/501)\n",
            "α = 0.01294  (4/501)\n"
          ]
        },
        {
          "output_type": "stream",
          "name": "stderr",
          "text": [
            "INFO:sweep:α = 0.01294  (4/501)\n"
          ]
        },
        {
          "output_type": "stream",
          "name": "stdout",
          "text": [
            "α = 0.01392  (5/501)\n",
            "α = 0.01392  (5/501)\n",
            "α = 0.01392  (5/501)\n",
            "α = 0.01392  (5/501)\n",
            "α = 0.01392  (5/501)\n",
            "α = 0.01392  (5/501)\n",
            "α = 0.01392  (5/501)\n"
          ]
        },
        {
          "output_type": "stream",
          "name": "stderr",
          "text": [
            "INFO:sweep:α = 0.01392  (5/501)\n"
          ]
        },
        {
          "output_type": "stream",
          "name": "stdout",
          "text": [
            "α = 0.01490  (6/501)\n",
            "α = 0.01490  (6/501)\n",
            "α = 0.01490  (6/501)\n",
            "α = 0.01490  (6/501)\n",
            "α = 0.01490  (6/501)\n",
            "α = 0.01490  (6/501)\n",
            "α = 0.01490  (6/501)\n"
          ]
        },
        {
          "output_type": "stream",
          "name": "stderr",
          "text": [
            "INFO:sweep:α = 0.01490  (6/501)\n"
          ]
        },
        {
          "output_type": "stream",
          "name": "stdout",
          "text": [
            "α = 0.01588  (7/501)\n",
            "α = 0.01588  (7/501)\n",
            "α = 0.01588  (7/501)\n",
            "α = 0.01588  (7/501)\n",
            "α = 0.01588  (7/501)\n",
            "α = 0.01588  (7/501)\n",
            "α = 0.01588  (7/501)\n"
          ]
        },
        {
          "output_type": "stream",
          "name": "stderr",
          "text": [
            "INFO:sweep:α = 0.01588  (7/501)\n"
          ]
        },
        {
          "output_type": "stream",
          "name": "stdout",
          "text": [
            "α = 0.01686  (8/501)\n",
            "α = 0.01686  (8/501)\n",
            "α = 0.01686  (8/501)\n",
            "α = 0.01686  (8/501)\n",
            "α = 0.01686  (8/501)\n",
            "α = 0.01686  (8/501)\n",
            "α = 0.01686  (8/501)\n"
          ]
        },
        {
          "output_type": "stream",
          "name": "stderr",
          "text": [
            "INFO:sweep:α = 0.01686  (8/501)\n"
          ]
        },
        {
          "output_type": "stream",
          "name": "stdout",
          "text": [
            "α = 0.01784  (9/501)\n",
            "α = 0.01784  (9/501)\n",
            "α = 0.01784  (9/501)\n",
            "α = 0.01784  (9/501)\n",
            "α = 0.01784  (9/501)\n",
            "α = 0.01784  (9/501)\n",
            "α = 0.01784  (9/501)\n"
          ]
        },
        {
          "output_type": "stream",
          "name": "stderr",
          "text": [
            "INFO:sweep:α = 0.01784  (9/501)\n"
          ]
        },
        {
          "output_type": "stream",
          "name": "stdout",
          "text": [
            "α = 0.01882  (10/501)\n",
            "α = 0.01882  (10/501)\n",
            "α = 0.01882  (10/501)\n",
            "α = 0.01882  (10/501)\n",
            "α = 0.01882  (10/501)\n",
            "α = 0.01882  (10/501)\n",
            "α = 0.01882  (10/501)\n"
          ]
        },
        {
          "output_type": "stream",
          "name": "stderr",
          "text": [
            "INFO:sweep:α = 0.01882  (10/501)\n"
          ]
        },
        {
          "output_type": "stream",
          "name": "stdout",
          "text": [
            "α = 0.01980  (11/501)\n",
            "α = 0.01980  (11/501)\n",
            "α = 0.01980  (11/501)\n",
            "α = 0.01980  (11/501)\n",
            "α = 0.01980  (11/501)\n",
            "α = 0.01980  (11/501)\n",
            "α = 0.01980  (11/501)\n"
          ]
        },
        {
          "output_type": "stream",
          "name": "stderr",
          "text": [
            "INFO:sweep:α = 0.01980  (11/501)\n"
          ]
        },
        {
          "output_type": "stream",
          "name": "stdout",
          "text": [
            "α = 0.02078  (12/501)\n",
            "α = 0.02078  (12/501)\n",
            "α = 0.02078  (12/501)\n",
            "α = 0.02078  (12/501)\n",
            "α = 0.02078  (12/501)\n",
            "α = 0.02078  (12/501)\n",
            "α = 0.02078  (12/501)\n"
          ]
        },
        {
          "output_type": "stream",
          "name": "stderr",
          "text": [
            "INFO:sweep:α = 0.02078  (12/501)\n"
          ]
        },
        {
          "output_type": "stream",
          "name": "stdout",
          "text": [
            "α = 0.02176  (13/501)\n",
            "α = 0.02176  (13/501)\n",
            "α = 0.02176  (13/501)\n",
            "α = 0.02176  (13/501)\n",
            "α = 0.02176  (13/501)\n",
            "α = 0.02176  (13/501)\n",
            "α = 0.02176  (13/501)\n"
          ]
        },
        {
          "output_type": "stream",
          "name": "stderr",
          "text": [
            "INFO:sweep:α = 0.02176  (13/501)\n"
          ]
        },
        {
          "output_type": "stream",
          "name": "stdout",
          "text": [
            "α = 0.02274  (14/501)\n",
            "α = 0.02274  (14/501)\n",
            "α = 0.02274  (14/501)\n",
            "α = 0.02274  (14/501)\n",
            "α = 0.02274  (14/501)\n",
            "α = 0.02274  (14/501)\n",
            "α = 0.02274  (14/501)\n"
          ]
        },
        {
          "output_type": "stream",
          "name": "stderr",
          "text": [
            "INFO:sweep:α = 0.02274  (14/501)\n"
          ]
        },
        {
          "output_type": "stream",
          "name": "stdout",
          "text": [
            "α = 0.02372  (15/501)\n",
            "α = 0.02372  (15/501)\n",
            "α = 0.02372  (15/501)\n",
            "α = 0.02372  (15/501)\n",
            "α = 0.02372  (15/501)\n",
            "α = 0.02372  (15/501)\n",
            "α = 0.02372  (15/501)\n"
          ]
        },
        {
          "output_type": "stream",
          "name": "stderr",
          "text": [
            "INFO:sweep:α = 0.02372  (15/501)\n"
          ]
        },
        {
          "output_type": "stream",
          "name": "stdout",
          "text": [
            "α = 0.02470  (16/501)\n",
            "α = 0.02470  (16/501)\n",
            "α = 0.02470  (16/501)\n",
            "α = 0.02470  (16/501)\n",
            "α = 0.02470  (16/501)\n",
            "α = 0.02470  (16/501)\n",
            "α = 0.02470  (16/501)\n"
          ]
        },
        {
          "output_type": "stream",
          "name": "stderr",
          "text": [
            "INFO:sweep:α = 0.02470  (16/501)\n"
          ]
        },
        {
          "output_type": "stream",
          "name": "stdout",
          "text": [
            "α = 0.02568  (17/501)\n",
            "α = 0.02568  (17/501)\n",
            "α = 0.02568  (17/501)\n",
            "α = 0.02568  (17/501)\n",
            "α = 0.02568  (17/501)\n",
            "α = 0.02568  (17/501)\n",
            "α = 0.02568  (17/501)\n"
          ]
        },
        {
          "output_type": "stream",
          "name": "stderr",
          "text": [
            "INFO:sweep:α = 0.02568  (17/501)\n"
          ]
        },
        {
          "output_type": "stream",
          "name": "stdout",
          "text": [
            "α = 0.02666  (18/501)\n",
            "α = 0.02666  (18/501)\n",
            "α = 0.02666  (18/501)\n",
            "α = 0.02666  (18/501)\n",
            "α = 0.02666  (18/501)\n",
            "α = 0.02666  (18/501)\n",
            "α = 0.02666  (18/501)\n"
          ]
        },
        {
          "output_type": "stream",
          "name": "stderr",
          "text": [
            "INFO:sweep:α = 0.02666  (18/501)\n"
          ]
        },
        {
          "output_type": "stream",
          "name": "stdout",
          "text": [
            "α = 0.02764  (19/501)\n",
            "α = 0.02764  (19/501)\n",
            "α = 0.02764  (19/501)\n",
            "α = 0.02764  (19/501)\n",
            "α = 0.02764  (19/501)\n",
            "α = 0.02764  (19/501)\n",
            "α = 0.02764  (19/501)\n"
          ]
        },
        {
          "output_type": "stream",
          "name": "stderr",
          "text": [
            "INFO:sweep:α = 0.02764  (19/501)\n"
          ]
        },
        {
          "output_type": "stream",
          "name": "stdout",
          "text": [
            "α = 0.02862  (20/501)\n",
            "α = 0.02862  (20/501)\n",
            "α = 0.02862  (20/501)\n",
            "α = 0.02862  (20/501)\n",
            "α = 0.02862  (20/501)\n",
            "α = 0.02862  (20/501)\n",
            "α = 0.02862  (20/501)\n"
          ]
        },
        {
          "output_type": "stream",
          "name": "stderr",
          "text": [
            "INFO:sweep:α = 0.02862  (20/501)\n"
          ]
        },
        {
          "output_type": "stream",
          "name": "stdout",
          "text": [
            "α = 0.02960  (21/501)\n",
            "α = 0.02960  (21/501)\n",
            "α = 0.02960  (21/501)\n",
            "α = 0.02960  (21/501)\n",
            "α = 0.02960  (21/501)\n",
            "α = 0.02960  (21/501)\n",
            "α = 0.02960  (21/501)\n"
          ]
        },
        {
          "output_type": "stream",
          "name": "stderr",
          "text": [
            "INFO:sweep:α = 0.02960  (21/501)\n"
          ]
        },
        {
          "output_type": "stream",
          "name": "stdout",
          "text": [
            "α = 0.03058  (22/501)\n",
            "α = 0.03058  (22/501)\n",
            "α = 0.03058  (22/501)\n",
            "α = 0.03058  (22/501)\n",
            "α = 0.03058  (22/501)\n",
            "α = 0.03058  (22/501)\n",
            "α = 0.03058  (22/501)\n"
          ]
        },
        {
          "output_type": "stream",
          "name": "stderr",
          "text": [
            "INFO:sweep:α = 0.03058  (22/501)\n"
          ]
        },
        {
          "output_type": "stream",
          "name": "stdout",
          "text": [
            "α = 0.03156  (23/501)\n",
            "α = 0.03156  (23/501)\n",
            "α = 0.03156  (23/501)\n",
            "α = 0.03156  (23/501)\n",
            "α = 0.03156  (23/501)\n",
            "α = 0.03156  (23/501)\n",
            "α = 0.03156  (23/501)\n"
          ]
        },
        {
          "output_type": "stream",
          "name": "stderr",
          "text": [
            "INFO:sweep:α = 0.03156  (23/501)\n"
          ]
        },
        {
          "output_type": "stream",
          "name": "stdout",
          "text": [
            "α = 0.03254  (24/501)\n",
            "α = 0.03254  (24/501)\n",
            "α = 0.03254  (24/501)\n",
            "α = 0.03254  (24/501)\n",
            "α = 0.03254  (24/501)\n",
            "α = 0.03254  (24/501)\n",
            "α = 0.03254  (24/501)\n"
          ]
        },
        {
          "output_type": "stream",
          "name": "stderr",
          "text": [
            "INFO:sweep:α = 0.03254  (24/501)\n"
          ]
        },
        {
          "output_type": "stream",
          "name": "stdout",
          "text": [
            "α = 0.03352  (25/501)\n",
            "α = 0.03352  (25/501)\n",
            "α = 0.03352  (25/501)\n",
            "α = 0.03352  (25/501)\n",
            "α = 0.03352  (25/501)\n",
            "α = 0.03352  (25/501)\n",
            "α = 0.03352  (25/501)\n"
          ]
        },
        {
          "output_type": "stream",
          "name": "stderr",
          "text": [
            "INFO:sweep:α = 0.03352  (25/501)\n"
          ]
        },
        {
          "output_type": "stream",
          "name": "stdout",
          "text": [
            "α = 0.03450  (26/501)\n",
            "α = 0.03450  (26/501)\n",
            "α = 0.03450  (26/501)\n",
            "α = 0.03450  (26/501)\n",
            "α = 0.03450  (26/501)\n",
            "α = 0.03450  (26/501)\n",
            "α = 0.03450  (26/501)\n"
          ]
        },
        {
          "output_type": "stream",
          "name": "stderr",
          "text": [
            "INFO:sweep:α = 0.03450  (26/501)\n"
          ]
        },
        {
          "output_type": "stream",
          "name": "stdout",
          "text": [
            "α = 0.03548  (27/501)\n",
            "α = 0.03548  (27/501)\n",
            "α = 0.03548  (27/501)\n",
            "α = 0.03548  (27/501)\n",
            "α = 0.03548  (27/501)\n",
            "α = 0.03548  (27/501)\n",
            "α = 0.03548  (27/501)\n"
          ]
        },
        {
          "output_type": "stream",
          "name": "stderr",
          "text": [
            "INFO:sweep:α = 0.03548  (27/501)\n"
          ]
        },
        {
          "output_type": "stream",
          "name": "stdout",
          "text": [
            "α = 0.03646  (28/501)\n",
            "α = 0.03646  (28/501)\n",
            "α = 0.03646  (28/501)\n",
            "α = 0.03646  (28/501)\n",
            "α = 0.03646  (28/501)\n",
            "α = 0.03646  (28/501)\n",
            "α = 0.03646  (28/501)\n"
          ]
        },
        {
          "output_type": "stream",
          "name": "stderr",
          "text": [
            "INFO:sweep:α = 0.03646  (28/501)\n"
          ]
        },
        {
          "output_type": "stream",
          "name": "stdout",
          "text": [
            "α = 0.03744  (29/501)\n",
            "α = 0.03744  (29/501)\n",
            "α = 0.03744  (29/501)\n",
            "α = 0.03744  (29/501)\n",
            "α = 0.03744  (29/501)\n",
            "α = 0.03744  (29/501)\n",
            "α = 0.03744  (29/501)\n"
          ]
        },
        {
          "output_type": "stream",
          "name": "stderr",
          "text": [
            "INFO:sweep:α = 0.03744  (29/501)\n"
          ]
        },
        {
          "output_type": "stream",
          "name": "stdout",
          "text": [
            "α = 0.03842  (30/501)\n",
            "α = 0.03842  (30/501)\n",
            "α = 0.03842  (30/501)\n",
            "α = 0.03842  (30/501)\n",
            "α = 0.03842  (30/501)\n",
            "α = 0.03842  (30/501)\n",
            "α = 0.03842  (30/501)\n"
          ]
        },
        {
          "output_type": "stream",
          "name": "stderr",
          "text": [
            "INFO:sweep:α = 0.03842  (30/501)\n"
          ]
        },
        {
          "output_type": "stream",
          "name": "stdout",
          "text": [
            "α = 0.03940  (31/501)\n",
            "α = 0.03940  (31/501)\n",
            "α = 0.03940  (31/501)\n",
            "α = 0.03940  (31/501)\n",
            "α = 0.03940  (31/501)\n",
            "α = 0.03940  (31/501)\n",
            "α = 0.03940  (31/501)\n"
          ]
        },
        {
          "output_type": "stream",
          "name": "stderr",
          "text": [
            "INFO:sweep:α = 0.03940  (31/501)\n"
          ]
        },
        {
          "output_type": "stream",
          "name": "stdout",
          "text": [
            "α = 0.04038  (32/501)\n",
            "α = 0.04038  (32/501)\n",
            "α = 0.04038  (32/501)\n",
            "α = 0.04038  (32/501)\n",
            "α = 0.04038  (32/501)\n",
            "α = 0.04038  (32/501)\n",
            "α = 0.04038  (32/501)\n"
          ]
        },
        {
          "output_type": "stream",
          "name": "stderr",
          "text": [
            "INFO:sweep:α = 0.04038  (32/501)\n"
          ]
        },
        {
          "output_type": "stream",
          "name": "stdout",
          "text": [
            "α = 0.04136  (33/501)\n",
            "α = 0.04136  (33/501)\n",
            "α = 0.04136  (33/501)\n",
            "α = 0.04136  (33/501)\n",
            "α = 0.04136  (33/501)\n",
            "α = 0.04136  (33/501)\n",
            "α = 0.04136  (33/501)\n"
          ]
        },
        {
          "output_type": "stream",
          "name": "stderr",
          "text": [
            "INFO:sweep:α = 0.04136  (33/501)\n"
          ]
        },
        {
          "output_type": "stream",
          "name": "stdout",
          "text": [
            "α = 0.04234  (34/501)\n",
            "α = 0.04234  (34/501)\n",
            "α = 0.04234  (34/501)\n",
            "α = 0.04234  (34/501)\n",
            "α = 0.04234  (34/501)\n",
            "α = 0.04234  (34/501)\n",
            "α = 0.04234  (34/501)\n"
          ]
        },
        {
          "output_type": "stream",
          "name": "stderr",
          "text": [
            "INFO:sweep:α = 0.04234  (34/501)\n"
          ]
        },
        {
          "output_type": "stream",
          "name": "stdout",
          "text": [
            "α = 0.04332  (35/501)\n",
            "α = 0.04332  (35/501)\n",
            "α = 0.04332  (35/501)\n",
            "α = 0.04332  (35/501)\n",
            "α = 0.04332  (35/501)\n",
            "α = 0.04332  (35/501)\n",
            "α = 0.04332  (35/501)\n"
          ]
        },
        {
          "output_type": "stream",
          "name": "stderr",
          "text": [
            "INFO:sweep:α = 0.04332  (35/501)\n"
          ]
        },
        {
          "output_type": "stream",
          "name": "stdout",
          "text": [
            "α = 0.04430  (36/501)\n",
            "α = 0.04430  (36/501)\n",
            "α = 0.04430  (36/501)\n",
            "α = 0.04430  (36/501)\n",
            "α = 0.04430  (36/501)\n",
            "α = 0.04430  (36/501)\n",
            "α = 0.04430  (36/501)\n"
          ]
        },
        {
          "output_type": "stream",
          "name": "stderr",
          "text": [
            "INFO:sweep:α = 0.04430  (36/501)\n"
          ]
        },
        {
          "output_type": "stream",
          "name": "stdout",
          "text": [
            "α = 0.04528  (37/501)\n",
            "α = 0.04528  (37/501)\n",
            "α = 0.04528  (37/501)\n",
            "α = 0.04528  (37/501)\n",
            "α = 0.04528  (37/501)\n",
            "α = 0.04528  (37/501)\n",
            "α = 0.04528  (37/501)\n"
          ]
        },
        {
          "output_type": "stream",
          "name": "stderr",
          "text": [
            "INFO:sweep:α = 0.04528  (37/501)\n"
          ]
        },
        {
          "output_type": "stream",
          "name": "stdout",
          "text": [
            "α = 0.04626  (38/501)\n",
            "α = 0.04626  (38/501)\n",
            "α = 0.04626  (38/501)\n",
            "α = 0.04626  (38/501)\n",
            "α = 0.04626  (38/501)\n",
            "α = 0.04626  (38/501)\n",
            "α = 0.04626  (38/501)\n"
          ]
        },
        {
          "output_type": "stream",
          "name": "stderr",
          "text": [
            "INFO:sweep:α = 0.04626  (38/501)\n"
          ]
        },
        {
          "output_type": "stream",
          "name": "stdout",
          "text": [
            "α = 0.04724  (39/501)\n",
            "α = 0.04724  (39/501)\n",
            "α = 0.04724  (39/501)\n",
            "α = 0.04724  (39/501)\n",
            "α = 0.04724  (39/501)\n",
            "α = 0.04724  (39/501)\n",
            "α = 0.04724  (39/501)\n"
          ]
        },
        {
          "output_type": "stream",
          "name": "stderr",
          "text": [
            "INFO:sweep:α = 0.04724  (39/501)\n"
          ]
        },
        {
          "output_type": "stream",
          "name": "stdout",
          "text": [
            "α = 0.04822  (40/501)\n",
            "α = 0.04822  (40/501)\n",
            "α = 0.04822  (40/501)\n",
            "α = 0.04822  (40/501)\n",
            "α = 0.04822  (40/501)\n",
            "α = 0.04822  (40/501)\n",
            "α = 0.04822  (40/501)\n"
          ]
        },
        {
          "output_type": "stream",
          "name": "stderr",
          "text": [
            "INFO:sweep:α = 0.04822  (40/501)\n"
          ]
        },
        {
          "output_type": "stream",
          "name": "stdout",
          "text": [
            "α = 0.04920  (41/501)\n",
            "α = 0.04920  (41/501)\n",
            "α = 0.04920  (41/501)\n",
            "α = 0.04920  (41/501)\n",
            "α = 0.04920  (41/501)\n",
            "α = 0.04920  (41/501)\n",
            "α = 0.04920  (41/501)\n"
          ]
        },
        {
          "output_type": "stream",
          "name": "stderr",
          "text": [
            "INFO:sweep:α = 0.04920  (41/501)\n"
          ]
        },
        {
          "output_type": "stream",
          "name": "stdout",
          "text": [
            "α = 0.05018  (42/501)\n",
            "α = 0.05018  (42/501)\n",
            "α = 0.05018  (42/501)\n",
            "α = 0.05018  (42/501)\n",
            "α = 0.05018  (42/501)\n",
            "α = 0.05018  (42/501)\n",
            "α = 0.05018  (42/501)\n"
          ]
        },
        {
          "output_type": "stream",
          "name": "stderr",
          "text": [
            "INFO:sweep:α = 0.05018  (42/501)\n"
          ]
        },
        {
          "output_type": "stream",
          "name": "stdout",
          "text": [
            "α = 0.05116  (43/501)\n",
            "α = 0.05116  (43/501)\n",
            "α = 0.05116  (43/501)\n",
            "α = 0.05116  (43/501)\n",
            "α = 0.05116  (43/501)\n",
            "α = 0.05116  (43/501)\n",
            "α = 0.05116  (43/501)\n"
          ]
        },
        {
          "output_type": "stream",
          "name": "stderr",
          "text": [
            "INFO:sweep:α = 0.05116  (43/501)\n"
          ]
        },
        {
          "output_type": "stream",
          "name": "stdout",
          "text": [
            "α = 0.05214  (44/501)\n",
            "α = 0.05214  (44/501)\n",
            "α = 0.05214  (44/501)\n",
            "α = 0.05214  (44/501)\n",
            "α = 0.05214  (44/501)\n",
            "α = 0.05214  (44/501)\n",
            "α = 0.05214  (44/501)\n"
          ]
        },
        {
          "output_type": "stream",
          "name": "stderr",
          "text": [
            "INFO:sweep:α = 0.05214  (44/501)\n"
          ]
        },
        {
          "output_type": "stream",
          "name": "stdout",
          "text": [
            "α = 0.05312  (45/501)\n",
            "α = 0.05312  (45/501)\n",
            "α = 0.05312  (45/501)\n",
            "α = 0.05312  (45/501)\n",
            "α = 0.05312  (45/501)\n",
            "α = 0.05312  (45/501)\n",
            "α = 0.05312  (45/501)\n"
          ]
        },
        {
          "output_type": "stream",
          "name": "stderr",
          "text": [
            "INFO:sweep:α = 0.05312  (45/501)\n"
          ]
        },
        {
          "output_type": "stream",
          "name": "stdout",
          "text": [
            "α = 0.05410  (46/501)\n",
            "α = 0.05410  (46/501)\n",
            "α = 0.05410  (46/501)\n",
            "α = 0.05410  (46/501)\n",
            "α = 0.05410  (46/501)\n",
            "α = 0.05410  (46/501)\n",
            "α = 0.05410  (46/501)\n"
          ]
        },
        {
          "output_type": "stream",
          "name": "stderr",
          "text": [
            "INFO:sweep:α = 0.05410  (46/501)\n"
          ]
        },
        {
          "output_type": "stream",
          "name": "stdout",
          "text": [
            "α = 0.05508  (47/501)\n",
            "α = 0.05508  (47/501)\n",
            "α = 0.05508  (47/501)\n",
            "α = 0.05508  (47/501)\n",
            "α = 0.05508  (47/501)\n",
            "α = 0.05508  (47/501)\n",
            "α = 0.05508  (47/501)\n"
          ]
        },
        {
          "output_type": "stream",
          "name": "stderr",
          "text": [
            "INFO:sweep:α = 0.05508  (47/501)\n"
          ]
        },
        {
          "output_type": "stream",
          "name": "stdout",
          "text": [
            "α = 0.05606  (48/501)\n",
            "α = 0.05606  (48/501)\n",
            "α = 0.05606  (48/501)\n",
            "α = 0.05606  (48/501)\n",
            "α = 0.05606  (48/501)\n",
            "α = 0.05606  (48/501)\n",
            "α = 0.05606  (48/501)\n"
          ]
        },
        {
          "output_type": "stream",
          "name": "stderr",
          "text": [
            "INFO:sweep:α = 0.05606  (48/501)\n"
          ]
        },
        {
          "output_type": "stream",
          "name": "stdout",
          "text": [
            "α = 0.05704  (49/501)\n",
            "α = 0.05704  (49/501)\n",
            "α = 0.05704  (49/501)\n",
            "α = 0.05704  (49/501)\n",
            "α = 0.05704  (49/501)\n",
            "α = 0.05704  (49/501)\n",
            "α = 0.05704  (49/501)\n"
          ]
        },
        {
          "output_type": "stream",
          "name": "stderr",
          "text": [
            "INFO:sweep:α = 0.05704  (49/501)\n"
          ]
        },
        {
          "output_type": "stream",
          "name": "stdout",
          "text": [
            "α = 0.05802  (50/501)\n",
            "α = 0.05802  (50/501)\n",
            "α = 0.05802  (50/501)\n",
            "α = 0.05802  (50/501)\n",
            "α = 0.05802  (50/501)\n",
            "α = 0.05802  (50/501)\n",
            "α = 0.05802  (50/501)\n"
          ]
        },
        {
          "output_type": "stream",
          "name": "stderr",
          "text": [
            "INFO:sweep:α = 0.05802  (50/501)\n"
          ]
        },
        {
          "output_type": "stream",
          "name": "stdout",
          "text": [
            "α = 0.05900  (51/501)\n",
            "α = 0.05900  (51/501)\n",
            "α = 0.05900  (51/501)\n",
            "α = 0.05900  (51/501)\n",
            "α = 0.05900  (51/501)\n",
            "α = 0.05900  (51/501)\n",
            "α = 0.05900  (51/501)\n"
          ]
        },
        {
          "output_type": "stream",
          "name": "stderr",
          "text": [
            "INFO:sweep:α = 0.05900  (51/501)\n"
          ]
        },
        {
          "output_type": "stream",
          "name": "stdout",
          "text": [
            "α = 0.05998  (52/501)\n",
            "α = 0.05998  (52/501)\n",
            "α = 0.05998  (52/501)\n",
            "α = 0.05998  (52/501)\n",
            "α = 0.05998  (52/501)\n",
            "α = 0.05998  (52/501)\n",
            "α = 0.05998  (52/501)\n"
          ]
        },
        {
          "output_type": "stream",
          "name": "stderr",
          "text": [
            "INFO:sweep:α = 0.05998  (52/501)\n"
          ]
        },
        {
          "output_type": "stream",
          "name": "stdout",
          "text": [
            "α = 0.06096  (53/501)\n",
            "α = 0.06096  (53/501)\n",
            "α = 0.06096  (53/501)\n",
            "α = 0.06096  (53/501)\n",
            "α = 0.06096  (53/501)\n",
            "α = 0.06096  (53/501)\n",
            "α = 0.06096  (53/501)\n"
          ]
        },
        {
          "output_type": "stream",
          "name": "stderr",
          "text": [
            "INFO:sweep:α = 0.06096  (53/501)\n"
          ]
        },
        {
          "output_type": "stream",
          "name": "stdout",
          "text": [
            "α = 0.06194  (54/501)\n",
            "α = 0.06194  (54/501)\n",
            "α = 0.06194  (54/501)\n",
            "α = 0.06194  (54/501)\n",
            "α = 0.06194  (54/501)\n",
            "α = 0.06194  (54/501)\n",
            "α = 0.06194  (54/501)\n"
          ]
        },
        {
          "output_type": "stream",
          "name": "stderr",
          "text": [
            "INFO:sweep:α = 0.06194  (54/501)\n"
          ]
        },
        {
          "output_type": "stream",
          "name": "stdout",
          "text": [
            "α = 0.06292  (55/501)\n",
            "α = 0.06292  (55/501)\n",
            "α = 0.06292  (55/501)\n",
            "α = 0.06292  (55/501)\n",
            "α = 0.06292  (55/501)\n",
            "α = 0.06292  (55/501)\n",
            "α = 0.06292  (55/501)\n"
          ]
        },
        {
          "output_type": "stream",
          "name": "stderr",
          "text": [
            "INFO:sweep:α = 0.06292  (55/501)\n"
          ]
        },
        {
          "output_type": "stream",
          "name": "stdout",
          "text": [
            "α = 0.06390  (56/501)\n",
            "α = 0.06390  (56/501)\n",
            "α = 0.06390  (56/501)\n",
            "α = 0.06390  (56/501)\n",
            "α = 0.06390  (56/501)\n",
            "α = 0.06390  (56/501)\n",
            "α = 0.06390  (56/501)\n"
          ]
        },
        {
          "output_type": "stream",
          "name": "stderr",
          "text": [
            "INFO:sweep:α = 0.06390  (56/501)\n"
          ]
        },
        {
          "output_type": "stream",
          "name": "stdout",
          "text": [
            "α = 0.06488  (57/501)\n",
            "α = 0.06488  (57/501)\n",
            "α = 0.06488  (57/501)\n",
            "α = 0.06488  (57/501)\n",
            "α = 0.06488  (57/501)\n",
            "α = 0.06488  (57/501)\n",
            "α = 0.06488  (57/501)\n"
          ]
        },
        {
          "output_type": "stream",
          "name": "stderr",
          "text": [
            "INFO:sweep:α = 0.06488  (57/501)\n"
          ]
        },
        {
          "output_type": "stream",
          "name": "stdout",
          "text": [
            "α = 0.06586  (58/501)\n",
            "α = 0.06586  (58/501)\n",
            "α = 0.06586  (58/501)\n",
            "α = 0.06586  (58/501)\n",
            "α = 0.06586  (58/501)\n",
            "α = 0.06586  (58/501)\n",
            "α = 0.06586  (58/501)\n"
          ]
        },
        {
          "output_type": "stream",
          "name": "stderr",
          "text": [
            "INFO:sweep:α = 0.06586  (58/501)\n"
          ]
        },
        {
          "output_type": "stream",
          "name": "stdout",
          "text": [
            "α = 0.06684  (59/501)\n",
            "α = 0.06684  (59/501)\n",
            "α = 0.06684  (59/501)\n",
            "α = 0.06684  (59/501)\n",
            "α = 0.06684  (59/501)\n",
            "α = 0.06684  (59/501)\n",
            "α = 0.06684  (59/501)\n"
          ]
        },
        {
          "output_type": "stream",
          "name": "stderr",
          "text": [
            "INFO:sweep:α = 0.06684  (59/501)\n"
          ]
        },
        {
          "output_type": "stream",
          "name": "stdout",
          "text": [
            "α = 0.06782  (60/501)\n",
            "α = 0.06782  (60/501)\n",
            "α = 0.06782  (60/501)\n",
            "α = 0.06782  (60/501)\n",
            "α = 0.06782  (60/501)\n",
            "α = 0.06782  (60/501)\n",
            "α = 0.06782  (60/501)\n"
          ]
        },
        {
          "output_type": "stream",
          "name": "stderr",
          "text": [
            "INFO:sweep:α = 0.06782  (60/501)\n"
          ]
        },
        {
          "output_type": "stream",
          "name": "stdout",
          "text": [
            "α = 0.06880  (61/501)\n",
            "α = 0.06880  (61/501)\n",
            "α = 0.06880  (61/501)\n",
            "α = 0.06880  (61/501)\n",
            "α = 0.06880  (61/501)\n",
            "α = 0.06880  (61/501)\n",
            "α = 0.06880  (61/501)\n"
          ]
        },
        {
          "output_type": "stream",
          "name": "stderr",
          "text": [
            "INFO:sweep:α = 0.06880  (61/501)\n"
          ]
        },
        {
          "output_type": "stream",
          "name": "stdout",
          "text": [
            "α = 0.06978  (62/501)\n",
            "α = 0.06978  (62/501)\n",
            "α = 0.06978  (62/501)\n",
            "α = 0.06978  (62/501)\n",
            "α = 0.06978  (62/501)\n",
            "α = 0.06978  (62/501)\n",
            "α = 0.06978  (62/501)\n"
          ]
        },
        {
          "output_type": "stream",
          "name": "stderr",
          "text": [
            "INFO:sweep:α = 0.06978  (62/501)\n"
          ]
        },
        {
          "output_type": "stream",
          "name": "stdout",
          "text": [
            "α = 0.07076  (63/501)\n",
            "α = 0.07076  (63/501)\n",
            "α = 0.07076  (63/501)\n",
            "α = 0.07076  (63/501)\n",
            "α = 0.07076  (63/501)\n",
            "α = 0.07076  (63/501)\n",
            "α = 0.07076  (63/501)\n"
          ]
        },
        {
          "output_type": "stream",
          "name": "stderr",
          "text": [
            "INFO:sweep:α = 0.07076  (63/501)\n"
          ]
        },
        {
          "output_type": "stream",
          "name": "stdout",
          "text": [
            "α = 0.07174  (64/501)\n",
            "α = 0.07174  (64/501)\n",
            "α = 0.07174  (64/501)\n",
            "α = 0.07174  (64/501)\n",
            "α = 0.07174  (64/501)\n",
            "α = 0.07174  (64/501)\n",
            "α = 0.07174  (64/501)\n"
          ]
        },
        {
          "output_type": "stream",
          "name": "stderr",
          "text": [
            "INFO:sweep:α = 0.07174  (64/501)\n"
          ]
        },
        {
          "output_type": "stream",
          "name": "stdout",
          "text": [
            "α = 0.07272  (65/501)\n",
            "α = 0.07272  (65/501)\n",
            "α = 0.07272  (65/501)\n",
            "α = 0.07272  (65/501)\n",
            "α = 0.07272  (65/501)\n",
            "α = 0.07272  (65/501)\n",
            "α = 0.07272  (65/501)\n"
          ]
        },
        {
          "output_type": "stream",
          "name": "stderr",
          "text": [
            "INFO:sweep:α = 0.07272  (65/501)\n"
          ]
        },
        {
          "output_type": "stream",
          "name": "stdout",
          "text": [
            "α = 0.07370  (66/501)\n",
            "α = 0.07370  (66/501)\n",
            "α = 0.07370  (66/501)\n",
            "α = 0.07370  (66/501)\n",
            "α = 0.07370  (66/501)\n",
            "α = 0.07370  (66/501)\n",
            "α = 0.07370  (66/501)\n"
          ]
        },
        {
          "output_type": "stream",
          "name": "stderr",
          "text": [
            "INFO:sweep:α = 0.07370  (66/501)\n"
          ]
        },
        {
          "output_type": "stream",
          "name": "stdout",
          "text": [
            "α = 0.07468  (67/501)\n",
            "α = 0.07468  (67/501)\n",
            "α = 0.07468  (67/501)\n",
            "α = 0.07468  (67/501)\n",
            "α = 0.07468  (67/501)\n",
            "α = 0.07468  (67/501)\n",
            "α = 0.07468  (67/501)\n"
          ]
        },
        {
          "output_type": "stream",
          "name": "stderr",
          "text": [
            "INFO:sweep:α = 0.07468  (67/501)\n"
          ]
        },
        {
          "output_type": "stream",
          "name": "stdout",
          "text": [
            "α = 0.07566  (68/501)\n",
            "α = 0.07566  (68/501)\n",
            "α = 0.07566  (68/501)\n",
            "α = 0.07566  (68/501)\n",
            "α = 0.07566  (68/501)\n",
            "α = 0.07566  (68/501)\n",
            "α = 0.07566  (68/501)\n"
          ]
        },
        {
          "output_type": "stream",
          "name": "stderr",
          "text": [
            "INFO:sweep:α = 0.07566  (68/501)\n"
          ]
        },
        {
          "output_type": "stream",
          "name": "stdout",
          "text": [
            "α = 0.07664  (69/501)\n",
            "α = 0.07664  (69/501)\n",
            "α = 0.07664  (69/501)\n",
            "α = 0.07664  (69/501)\n",
            "α = 0.07664  (69/501)\n",
            "α = 0.07664  (69/501)\n",
            "α = 0.07664  (69/501)\n"
          ]
        },
        {
          "output_type": "stream",
          "name": "stderr",
          "text": [
            "INFO:sweep:α = 0.07664  (69/501)\n"
          ]
        },
        {
          "output_type": "stream",
          "name": "stdout",
          "text": [
            "α = 0.07762  (70/501)\n",
            "α = 0.07762  (70/501)\n",
            "α = 0.07762  (70/501)\n",
            "α = 0.07762  (70/501)\n",
            "α = 0.07762  (70/501)\n",
            "α = 0.07762  (70/501)\n",
            "α = 0.07762  (70/501)\n"
          ]
        },
        {
          "output_type": "stream",
          "name": "stderr",
          "text": [
            "INFO:sweep:α = 0.07762  (70/501)\n"
          ]
        },
        {
          "output_type": "stream",
          "name": "stdout",
          "text": [
            "α = 0.07860  (71/501)\n",
            "α = 0.07860  (71/501)\n",
            "α = 0.07860  (71/501)\n",
            "α = 0.07860  (71/501)\n",
            "α = 0.07860  (71/501)\n",
            "α = 0.07860  (71/501)\n",
            "α = 0.07860  (71/501)\n"
          ]
        },
        {
          "output_type": "stream",
          "name": "stderr",
          "text": [
            "INFO:sweep:α = 0.07860  (71/501)\n"
          ]
        },
        {
          "output_type": "stream",
          "name": "stdout",
          "text": [
            "α = 0.07958  (72/501)\n",
            "α = 0.07958  (72/501)\n",
            "α = 0.07958  (72/501)\n",
            "α = 0.07958  (72/501)\n",
            "α = 0.07958  (72/501)\n",
            "α = 0.07958  (72/501)\n",
            "α = 0.07958  (72/501)\n"
          ]
        },
        {
          "output_type": "stream",
          "name": "stderr",
          "text": [
            "INFO:sweep:α = 0.07958  (72/501)\n"
          ]
        },
        {
          "output_type": "stream",
          "name": "stdout",
          "text": [
            "α = 0.08056  (73/501)\n",
            "α = 0.08056  (73/501)\n",
            "α = 0.08056  (73/501)\n",
            "α = 0.08056  (73/501)\n",
            "α = 0.08056  (73/501)\n",
            "α = 0.08056  (73/501)\n",
            "α = 0.08056  (73/501)\n"
          ]
        },
        {
          "output_type": "stream",
          "name": "stderr",
          "text": [
            "INFO:sweep:α = 0.08056  (73/501)\n"
          ]
        },
        {
          "output_type": "stream",
          "name": "stdout",
          "text": [
            "α = 0.08154  (74/501)\n",
            "α = 0.08154  (74/501)\n",
            "α = 0.08154  (74/501)\n",
            "α = 0.08154  (74/501)\n",
            "α = 0.08154  (74/501)\n",
            "α = 0.08154  (74/501)\n",
            "α = 0.08154  (74/501)\n"
          ]
        },
        {
          "output_type": "stream",
          "name": "stderr",
          "text": [
            "INFO:sweep:α = 0.08154  (74/501)\n"
          ]
        },
        {
          "output_type": "stream",
          "name": "stdout",
          "text": [
            "α = 0.08252  (75/501)\n",
            "α = 0.08252  (75/501)\n",
            "α = 0.08252  (75/501)\n",
            "α = 0.08252  (75/501)\n",
            "α = 0.08252  (75/501)\n",
            "α = 0.08252  (75/501)\n",
            "α = 0.08252  (75/501)\n"
          ]
        },
        {
          "output_type": "stream",
          "name": "stderr",
          "text": [
            "INFO:sweep:α = 0.08252  (75/501)\n"
          ]
        },
        {
          "output_type": "stream",
          "name": "stdout",
          "text": [
            "α = 0.08350  (76/501)\n",
            "α = 0.08350  (76/501)\n",
            "α = 0.08350  (76/501)\n",
            "α = 0.08350  (76/501)\n",
            "α = 0.08350  (76/501)\n",
            "α = 0.08350  (76/501)\n",
            "α = 0.08350  (76/501)\n"
          ]
        },
        {
          "output_type": "stream",
          "name": "stderr",
          "text": [
            "INFO:sweep:α = 0.08350  (76/501)\n"
          ]
        },
        {
          "output_type": "stream",
          "name": "stdout",
          "text": [
            "α = 0.08448  (77/501)\n",
            "α = 0.08448  (77/501)\n",
            "α = 0.08448  (77/501)\n",
            "α = 0.08448  (77/501)\n",
            "α = 0.08448  (77/501)\n",
            "α = 0.08448  (77/501)\n",
            "α = 0.08448  (77/501)\n"
          ]
        },
        {
          "output_type": "stream",
          "name": "stderr",
          "text": [
            "INFO:sweep:α = 0.08448  (77/501)\n"
          ]
        },
        {
          "output_type": "stream",
          "name": "stdout",
          "text": [
            "α = 0.08546  (78/501)\n",
            "α = 0.08546  (78/501)\n",
            "α = 0.08546  (78/501)\n",
            "α = 0.08546  (78/501)\n",
            "α = 0.08546  (78/501)\n",
            "α = 0.08546  (78/501)\n",
            "α = 0.08546  (78/501)\n"
          ]
        },
        {
          "output_type": "stream",
          "name": "stderr",
          "text": [
            "INFO:sweep:α = 0.08546  (78/501)\n"
          ]
        },
        {
          "output_type": "stream",
          "name": "stdout",
          "text": [
            "α = 0.08644  (79/501)\n",
            "α = 0.08644  (79/501)\n",
            "α = 0.08644  (79/501)\n",
            "α = 0.08644  (79/501)\n",
            "α = 0.08644  (79/501)\n",
            "α = 0.08644  (79/501)\n",
            "α = 0.08644  (79/501)\n"
          ]
        },
        {
          "output_type": "stream",
          "name": "stderr",
          "text": [
            "INFO:sweep:α = 0.08644  (79/501)\n"
          ]
        },
        {
          "output_type": "stream",
          "name": "stdout",
          "text": [
            "α = 0.08742  (80/501)\n",
            "α = 0.08742  (80/501)\n",
            "α = 0.08742  (80/501)\n",
            "α = 0.08742  (80/501)\n",
            "α = 0.08742  (80/501)\n",
            "α = 0.08742  (80/501)\n",
            "α = 0.08742  (80/501)\n"
          ]
        },
        {
          "output_type": "stream",
          "name": "stderr",
          "text": [
            "INFO:sweep:α = 0.08742  (80/501)\n"
          ]
        },
        {
          "output_type": "stream",
          "name": "stdout",
          "text": [
            "α = 0.08840  (81/501)\n",
            "α = 0.08840  (81/501)\n",
            "α = 0.08840  (81/501)\n",
            "α = 0.08840  (81/501)\n",
            "α = 0.08840  (81/501)\n",
            "α = 0.08840  (81/501)\n",
            "α = 0.08840  (81/501)\n"
          ]
        },
        {
          "output_type": "stream",
          "name": "stderr",
          "text": [
            "INFO:sweep:α = 0.08840  (81/501)\n"
          ]
        },
        {
          "output_type": "stream",
          "name": "stdout",
          "text": [
            "α = 0.08938  (82/501)\n",
            "α = 0.08938  (82/501)\n",
            "α = 0.08938  (82/501)\n",
            "α = 0.08938  (82/501)\n",
            "α = 0.08938  (82/501)\n",
            "α = 0.08938  (82/501)\n",
            "α = 0.08938  (82/501)\n"
          ]
        },
        {
          "output_type": "stream",
          "name": "stderr",
          "text": [
            "INFO:sweep:α = 0.08938  (82/501)\n"
          ]
        },
        {
          "output_type": "stream",
          "name": "stdout",
          "text": [
            "α = 0.09036  (83/501)\n",
            "α = 0.09036  (83/501)\n",
            "α = 0.09036  (83/501)\n",
            "α = 0.09036  (83/501)\n",
            "α = 0.09036  (83/501)\n",
            "α = 0.09036  (83/501)\n",
            "α = 0.09036  (83/501)\n"
          ]
        },
        {
          "output_type": "stream",
          "name": "stderr",
          "text": [
            "INFO:sweep:α = 0.09036  (83/501)\n"
          ]
        },
        {
          "output_type": "stream",
          "name": "stdout",
          "text": [
            "α = 0.09134  (84/501)\n",
            "α = 0.09134  (84/501)\n",
            "α = 0.09134  (84/501)\n",
            "α = 0.09134  (84/501)\n",
            "α = 0.09134  (84/501)\n",
            "α = 0.09134  (84/501)\n",
            "α = 0.09134  (84/501)\n"
          ]
        },
        {
          "output_type": "stream",
          "name": "stderr",
          "text": [
            "INFO:sweep:α = 0.09134  (84/501)\n"
          ]
        },
        {
          "output_type": "stream",
          "name": "stdout",
          "text": [
            "α = 0.09232  (85/501)\n",
            "α = 0.09232  (85/501)\n",
            "α = 0.09232  (85/501)\n",
            "α = 0.09232  (85/501)\n",
            "α = 0.09232  (85/501)\n",
            "α = 0.09232  (85/501)\n",
            "α = 0.09232  (85/501)\n"
          ]
        },
        {
          "output_type": "stream",
          "name": "stderr",
          "text": [
            "INFO:sweep:α = 0.09232  (85/501)\n"
          ]
        },
        {
          "output_type": "stream",
          "name": "stdout",
          "text": [
            "α = 0.09330  (86/501)\n",
            "α = 0.09330  (86/501)\n",
            "α = 0.09330  (86/501)\n",
            "α = 0.09330  (86/501)\n",
            "α = 0.09330  (86/501)\n",
            "α = 0.09330  (86/501)\n",
            "α = 0.09330  (86/501)\n"
          ]
        },
        {
          "output_type": "stream",
          "name": "stderr",
          "text": [
            "INFO:sweep:α = 0.09330  (86/501)\n"
          ]
        },
        {
          "output_type": "stream",
          "name": "stdout",
          "text": [
            "α = 0.09428  (87/501)\n",
            "α = 0.09428  (87/501)\n",
            "α = 0.09428  (87/501)\n",
            "α = 0.09428  (87/501)\n",
            "α = 0.09428  (87/501)\n",
            "α = 0.09428  (87/501)\n",
            "α = 0.09428  (87/501)\n"
          ]
        },
        {
          "output_type": "stream",
          "name": "stderr",
          "text": [
            "INFO:sweep:α = 0.09428  (87/501)\n"
          ]
        },
        {
          "output_type": "stream",
          "name": "stdout",
          "text": [
            "α = 0.09526  (88/501)\n",
            "α = 0.09526  (88/501)\n",
            "α = 0.09526  (88/501)\n",
            "α = 0.09526  (88/501)\n",
            "α = 0.09526  (88/501)\n",
            "α = 0.09526  (88/501)\n",
            "α = 0.09526  (88/501)\n"
          ]
        },
        {
          "output_type": "stream",
          "name": "stderr",
          "text": [
            "INFO:sweep:α = 0.09526  (88/501)\n"
          ]
        },
        {
          "output_type": "stream",
          "name": "stdout",
          "text": [
            "α = 0.09624  (89/501)\n",
            "α = 0.09624  (89/501)\n",
            "α = 0.09624  (89/501)\n",
            "α = 0.09624  (89/501)\n",
            "α = 0.09624  (89/501)\n",
            "α = 0.09624  (89/501)\n",
            "α = 0.09624  (89/501)\n"
          ]
        },
        {
          "output_type": "stream",
          "name": "stderr",
          "text": [
            "INFO:sweep:α = 0.09624  (89/501)\n"
          ]
        },
        {
          "output_type": "stream",
          "name": "stdout",
          "text": [
            "α = 0.09722  (90/501)\n",
            "α = 0.09722  (90/501)\n",
            "α = 0.09722  (90/501)\n",
            "α = 0.09722  (90/501)\n",
            "α = 0.09722  (90/501)\n",
            "α = 0.09722  (90/501)\n",
            "α = 0.09722  (90/501)\n"
          ]
        },
        {
          "output_type": "stream",
          "name": "stderr",
          "text": [
            "INFO:sweep:α = 0.09722  (90/501)\n"
          ]
        },
        {
          "output_type": "stream",
          "name": "stdout",
          "text": [
            "α = 0.09820  (91/501)\n",
            "α = 0.09820  (91/501)\n",
            "α = 0.09820  (91/501)\n",
            "α = 0.09820  (91/501)\n",
            "α = 0.09820  (91/501)\n",
            "α = 0.09820  (91/501)\n",
            "α = 0.09820  (91/501)\n"
          ]
        },
        {
          "output_type": "stream",
          "name": "stderr",
          "text": [
            "INFO:sweep:α = 0.09820  (91/501)\n"
          ]
        },
        {
          "output_type": "stream",
          "name": "stdout",
          "text": [
            "α = 0.09918  (92/501)\n",
            "α = 0.09918  (92/501)\n",
            "α = 0.09918  (92/501)\n",
            "α = 0.09918  (92/501)\n",
            "α = 0.09918  (92/501)\n",
            "α = 0.09918  (92/501)\n",
            "α = 0.09918  (92/501)\n"
          ]
        },
        {
          "output_type": "stream",
          "name": "stderr",
          "text": [
            "INFO:sweep:α = 0.09918  (92/501)\n"
          ]
        },
        {
          "output_type": "stream",
          "name": "stdout",
          "text": [
            "α = 0.10016  (93/501)\n",
            "α = 0.10016  (93/501)\n",
            "α = 0.10016  (93/501)\n",
            "α = 0.10016  (93/501)\n",
            "α = 0.10016  (93/501)\n",
            "α = 0.10016  (93/501)\n",
            "α = 0.10016  (93/501)\n"
          ]
        },
        {
          "output_type": "stream",
          "name": "stderr",
          "text": [
            "INFO:sweep:α = 0.10016  (93/501)\n"
          ]
        },
        {
          "output_type": "stream",
          "name": "stdout",
          "text": [
            "α = 0.10114  (94/501)\n",
            "α = 0.10114  (94/501)\n",
            "α = 0.10114  (94/501)\n",
            "α = 0.10114  (94/501)\n",
            "α = 0.10114  (94/501)\n",
            "α = 0.10114  (94/501)\n",
            "α = 0.10114  (94/501)\n"
          ]
        },
        {
          "output_type": "stream",
          "name": "stderr",
          "text": [
            "INFO:sweep:α = 0.10114  (94/501)\n"
          ]
        },
        {
          "output_type": "stream",
          "name": "stdout",
          "text": [
            "α = 0.10212  (95/501)\n",
            "α = 0.10212  (95/501)\n",
            "α = 0.10212  (95/501)\n",
            "α = 0.10212  (95/501)\n",
            "α = 0.10212  (95/501)\n",
            "α = 0.10212  (95/501)\n",
            "α = 0.10212  (95/501)\n"
          ]
        },
        {
          "output_type": "stream",
          "name": "stderr",
          "text": [
            "INFO:sweep:α = 0.10212  (95/501)\n"
          ]
        },
        {
          "output_type": "stream",
          "name": "stdout",
          "text": [
            "α = 0.10310  (96/501)\n",
            "α = 0.10310  (96/501)\n",
            "α = 0.10310  (96/501)\n",
            "α = 0.10310  (96/501)\n",
            "α = 0.10310  (96/501)\n",
            "α = 0.10310  (96/501)\n",
            "α = 0.10310  (96/501)\n"
          ]
        },
        {
          "output_type": "stream",
          "name": "stderr",
          "text": [
            "INFO:sweep:α = 0.10310  (96/501)\n"
          ]
        },
        {
          "output_type": "stream",
          "name": "stdout",
          "text": [
            "α = 0.10408  (97/501)\n",
            "α = 0.10408  (97/501)\n",
            "α = 0.10408  (97/501)\n",
            "α = 0.10408  (97/501)\n",
            "α = 0.10408  (97/501)\n",
            "α = 0.10408  (97/501)\n",
            "α = 0.10408  (97/501)\n"
          ]
        },
        {
          "output_type": "stream",
          "name": "stderr",
          "text": [
            "INFO:sweep:α = 0.10408  (97/501)\n"
          ]
        },
        {
          "output_type": "stream",
          "name": "stdout",
          "text": [
            "α = 0.10506  (98/501)\n",
            "α = 0.10506  (98/501)\n",
            "α = 0.10506  (98/501)\n",
            "α = 0.10506  (98/501)\n",
            "α = 0.10506  (98/501)\n",
            "α = 0.10506  (98/501)\n",
            "α = 0.10506  (98/501)\n"
          ]
        },
        {
          "output_type": "stream",
          "name": "stderr",
          "text": [
            "INFO:sweep:α = 0.10506  (98/501)\n"
          ]
        },
        {
          "output_type": "stream",
          "name": "stdout",
          "text": [
            "α = 0.10604  (99/501)\n",
            "α = 0.10604  (99/501)\n",
            "α = 0.10604  (99/501)\n",
            "α = 0.10604  (99/501)\n",
            "α = 0.10604  (99/501)\n",
            "α = 0.10604  (99/501)\n",
            "α = 0.10604  (99/501)\n"
          ]
        },
        {
          "output_type": "stream",
          "name": "stderr",
          "text": [
            "INFO:sweep:α = 0.10604  (99/501)\n"
          ]
        },
        {
          "output_type": "stream",
          "name": "stdout",
          "text": [
            "α = 0.10702  (100/501)\n",
            "α = 0.10702  (100/501)\n",
            "α = 0.10702  (100/501)\n",
            "α = 0.10702  (100/501)\n",
            "α = 0.10702  (100/501)\n",
            "α = 0.10702  (100/501)\n",
            "α = 0.10702  (100/501)\n"
          ]
        },
        {
          "output_type": "stream",
          "name": "stderr",
          "text": [
            "INFO:sweep:α = 0.10702  (100/501)\n"
          ]
        },
        {
          "output_type": "stream",
          "name": "stdout",
          "text": [
            "α = 0.10800  (101/501)\n",
            "α = 0.10800  (101/501)\n",
            "α = 0.10800  (101/501)\n",
            "α = 0.10800  (101/501)\n",
            "α = 0.10800  (101/501)\n",
            "α = 0.10800  (101/501)\n",
            "α = 0.10800  (101/501)\n"
          ]
        },
        {
          "output_type": "stream",
          "name": "stderr",
          "text": [
            "INFO:sweep:α = 0.10800  (101/501)\n"
          ]
        },
        {
          "output_type": "stream",
          "name": "stdout",
          "text": [
            "α = 0.10898  (102/501)\n",
            "α = 0.10898  (102/501)\n",
            "α = 0.10898  (102/501)\n",
            "α = 0.10898  (102/501)\n",
            "α = 0.10898  (102/501)\n",
            "α = 0.10898  (102/501)\n",
            "α = 0.10898  (102/501)\n"
          ]
        },
        {
          "output_type": "stream",
          "name": "stderr",
          "text": [
            "INFO:sweep:α = 0.10898  (102/501)\n"
          ]
        },
        {
          "output_type": "stream",
          "name": "stdout",
          "text": [
            "α = 0.10996  (103/501)\n",
            "α = 0.10996  (103/501)\n",
            "α = 0.10996  (103/501)\n",
            "α = 0.10996  (103/501)\n",
            "α = 0.10996  (103/501)\n",
            "α = 0.10996  (103/501)\n",
            "α = 0.10996  (103/501)\n"
          ]
        },
        {
          "output_type": "stream",
          "name": "stderr",
          "text": [
            "INFO:sweep:α = 0.10996  (103/501)\n"
          ]
        },
        {
          "output_type": "stream",
          "name": "stdout",
          "text": [
            "α = 0.11094  (104/501)\n",
            "α = 0.11094  (104/501)\n",
            "α = 0.11094  (104/501)\n",
            "α = 0.11094  (104/501)\n",
            "α = 0.11094  (104/501)\n",
            "α = 0.11094  (104/501)\n",
            "α = 0.11094  (104/501)\n"
          ]
        },
        {
          "output_type": "stream",
          "name": "stderr",
          "text": [
            "INFO:sweep:α = 0.11094  (104/501)\n"
          ]
        },
        {
          "output_type": "stream",
          "name": "stdout",
          "text": [
            "α = 0.11192  (105/501)\n",
            "α = 0.11192  (105/501)\n",
            "α = 0.11192  (105/501)\n",
            "α = 0.11192  (105/501)\n",
            "α = 0.11192  (105/501)\n",
            "α = 0.11192  (105/501)\n",
            "α = 0.11192  (105/501)\n"
          ]
        },
        {
          "output_type": "stream",
          "name": "stderr",
          "text": [
            "INFO:sweep:α = 0.11192  (105/501)\n"
          ]
        },
        {
          "output_type": "stream",
          "name": "stdout",
          "text": [
            "α = 0.11290  (106/501)\n",
            "α = 0.11290  (106/501)\n",
            "α = 0.11290  (106/501)\n",
            "α = 0.11290  (106/501)\n",
            "α = 0.11290  (106/501)\n",
            "α = 0.11290  (106/501)\n",
            "α = 0.11290  (106/501)\n"
          ]
        },
        {
          "output_type": "stream",
          "name": "stderr",
          "text": [
            "INFO:sweep:α = 0.11290  (106/501)\n"
          ]
        },
        {
          "output_type": "stream",
          "name": "stdout",
          "text": [
            "α = 0.11388  (107/501)\n",
            "α = 0.11388  (107/501)\n",
            "α = 0.11388  (107/501)\n",
            "α = 0.11388  (107/501)\n",
            "α = 0.11388  (107/501)\n",
            "α = 0.11388  (107/501)\n",
            "α = 0.11388  (107/501)\n"
          ]
        },
        {
          "output_type": "stream",
          "name": "stderr",
          "text": [
            "INFO:sweep:α = 0.11388  (107/501)\n"
          ]
        },
        {
          "output_type": "stream",
          "name": "stdout",
          "text": [
            "α = 0.11486  (108/501)\n",
            "α = 0.11486  (108/501)\n",
            "α = 0.11486  (108/501)\n",
            "α = 0.11486  (108/501)\n",
            "α = 0.11486  (108/501)\n",
            "α = 0.11486  (108/501)\n",
            "α = 0.11486  (108/501)\n"
          ]
        },
        {
          "output_type": "stream",
          "name": "stderr",
          "text": [
            "INFO:sweep:α = 0.11486  (108/501)\n"
          ]
        },
        {
          "output_type": "stream",
          "name": "stdout",
          "text": [
            "α = 0.11584  (109/501)\n",
            "α = 0.11584  (109/501)\n",
            "α = 0.11584  (109/501)\n",
            "α = 0.11584  (109/501)\n",
            "α = 0.11584  (109/501)\n",
            "α = 0.11584  (109/501)\n",
            "α = 0.11584  (109/501)\n"
          ]
        },
        {
          "output_type": "stream",
          "name": "stderr",
          "text": [
            "INFO:sweep:α = 0.11584  (109/501)\n"
          ]
        },
        {
          "output_type": "stream",
          "name": "stdout",
          "text": [
            "α = 0.11682  (110/501)\n",
            "α = 0.11682  (110/501)\n",
            "α = 0.11682  (110/501)\n",
            "α = 0.11682  (110/501)\n",
            "α = 0.11682  (110/501)\n",
            "α = 0.11682  (110/501)\n",
            "α = 0.11682  (110/501)\n"
          ]
        },
        {
          "output_type": "stream",
          "name": "stderr",
          "text": [
            "INFO:sweep:α = 0.11682  (110/501)\n"
          ]
        },
        {
          "output_type": "stream",
          "name": "stdout",
          "text": [
            "α = 0.11780  (111/501)\n",
            "α = 0.11780  (111/501)\n",
            "α = 0.11780  (111/501)\n",
            "α = 0.11780  (111/501)\n",
            "α = 0.11780  (111/501)\n",
            "α = 0.11780  (111/501)\n",
            "α = 0.11780  (111/501)\n"
          ]
        },
        {
          "output_type": "stream",
          "name": "stderr",
          "text": [
            "INFO:sweep:α = 0.11780  (111/501)\n"
          ]
        },
        {
          "output_type": "stream",
          "name": "stdout",
          "text": [
            "α = 0.11878  (112/501)\n",
            "α = 0.11878  (112/501)\n",
            "α = 0.11878  (112/501)\n",
            "α = 0.11878  (112/501)\n",
            "α = 0.11878  (112/501)\n",
            "α = 0.11878  (112/501)\n",
            "α = 0.11878  (112/501)\n"
          ]
        },
        {
          "output_type": "stream",
          "name": "stderr",
          "text": [
            "INFO:sweep:α = 0.11878  (112/501)\n"
          ]
        },
        {
          "output_type": "stream",
          "name": "stdout",
          "text": [
            "α = 0.11976  (113/501)\n",
            "α = 0.11976  (113/501)\n",
            "α = 0.11976  (113/501)\n",
            "α = 0.11976  (113/501)\n",
            "α = 0.11976  (113/501)\n",
            "α = 0.11976  (113/501)\n",
            "α = 0.11976  (113/501)\n"
          ]
        },
        {
          "output_type": "stream",
          "name": "stderr",
          "text": [
            "INFO:sweep:α = 0.11976  (113/501)\n"
          ]
        },
        {
          "output_type": "stream",
          "name": "stdout",
          "text": [
            "α = 0.12074  (114/501)\n",
            "α = 0.12074  (114/501)\n",
            "α = 0.12074  (114/501)\n",
            "α = 0.12074  (114/501)\n",
            "α = 0.12074  (114/501)\n",
            "α = 0.12074  (114/501)\n",
            "α = 0.12074  (114/501)\n"
          ]
        },
        {
          "output_type": "stream",
          "name": "stderr",
          "text": [
            "INFO:sweep:α = 0.12074  (114/501)\n"
          ]
        },
        {
          "output_type": "stream",
          "name": "stdout",
          "text": [
            "α = 0.12172  (115/501)\n",
            "α = 0.12172  (115/501)\n",
            "α = 0.12172  (115/501)\n",
            "α = 0.12172  (115/501)\n",
            "α = 0.12172  (115/501)\n",
            "α = 0.12172  (115/501)\n",
            "α = 0.12172  (115/501)\n"
          ]
        },
        {
          "output_type": "stream",
          "name": "stderr",
          "text": [
            "INFO:sweep:α = 0.12172  (115/501)\n"
          ]
        },
        {
          "output_type": "stream",
          "name": "stdout",
          "text": [
            "α = 0.12270  (116/501)\n",
            "α = 0.12270  (116/501)\n",
            "α = 0.12270  (116/501)\n",
            "α = 0.12270  (116/501)\n",
            "α = 0.12270  (116/501)\n",
            "α = 0.12270  (116/501)\n",
            "α = 0.12270  (116/501)\n"
          ]
        },
        {
          "output_type": "stream",
          "name": "stderr",
          "text": [
            "INFO:sweep:α = 0.12270  (116/501)\n"
          ]
        },
        {
          "output_type": "stream",
          "name": "stdout",
          "text": [
            "α = 0.12368  (117/501)\n",
            "α = 0.12368  (117/501)\n",
            "α = 0.12368  (117/501)\n",
            "α = 0.12368  (117/501)\n",
            "α = 0.12368  (117/501)\n",
            "α = 0.12368  (117/501)\n",
            "α = 0.12368  (117/501)\n"
          ]
        },
        {
          "output_type": "stream",
          "name": "stderr",
          "text": [
            "INFO:sweep:α = 0.12368  (117/501)\n"
          ]
        },
        {
          "output_type": "stream",
          "name": "stdout",
          "text": [
            "α = 0.12466  (118/501)\n",
            "α = 0.12466  (118/501)\n",
            "α = 0.12466  (118/501)\n",
            "α = 0.12466  (118/501)\n",
            "α = 0.12466  (118/501)\n",
            "α = 0.12466  (118/501)\n",
            "α = 0.12466  (118/501)\n"
          ]
        },
        {
          "output_type": "stream",
          "name": "stderr",
          "text": [
            "INFO:sweep:α = 0.12466  (118/501)\n"
          ]
        },
        {
          "output_type": "stream",
          "name": "stdout",
          "text": [
            "α = 0.12564  (119/501)\n",
            "α = 0.12564  (119/501)\n",
            "α = 0.12564  (119/501)\n",
            "α = 0.12564  (119/501)\n",
            "α = 0.12564  (119/501)\n",
            "α = 0.12564  (119/501)\n",
            "α = 0.12564  (119/501)\n"
          ]
        },
        {
          "output_type": "stream",
          "name": "stderr",
          "text": [
            "INFO:sweep:α = 0.12564  (119/501)\n"
          ]
        },
        {
          "output_type": "stream",
          "name": "stdout",
          "text": [
            "α = 0.12662  (120/501)\n",
            "α = 0.12662  (120/501)\n",
            "α = 0.12662  (120/501)\n",
            "α = 0.12662  (120/501)\n",
            "α = 0.12662  (120/501)\n",
            "α = 0.12662  (120/501)\n",
            "α = 0.12662  (120/501)\n"
          ]
        },
        {
          "output_type": "stream",
          "name": "stderr",
          "text": [
            "INFO:sweep:α = 0.12662  (120/501)\n"
          ]
        },
        {
          "output_type": "stream",
          "name": "stdout",
          "text": [
            "α = 0.12760  (121/501)\n",
            "α = 0.12760  (121/501)\n",
            "α = 0.12760  (121/501)\n",
            "α = 0.12760  (121/501)\n",
            "α = 0.12760  (121/501)\n",
            "α = 0.12760  (121/501)\n",
            "α = 0.12760  (121/501)\n"
          ]
        },
        {
          "output_type": "stream",
          "name": "stderr",
          "text": [
            "INFO:sweep:α = 0.12760  (121/501)\n"
          ]
        },
        {
          "output_type": "stream",
          "name": "stdout",
          "text": [
            "α = 0.12858  (122/501)\n",
            "α = 0.12858  (122/501)\n",
            "α = 0.12858  (122/501)\n",
            "α = 0.12858  (122/501)\n",
            "α = 0.12858  (122/501)\n",
            "α = 0.12858  (122/501)\n",
            "α = 0.12858  (122/501)\n"
          ]
        },
        {
          "output_type": "stream",
          "name": "stderr",
          "text": [
            "INFO:sweep:α = 0.12858  (122/501)\n"
          ]
        },
        {
          "output_type": "stream",
          "name": "stdout",
          "text": [
            "α = 0.12956  (123/501)\n",
            "α = 0.12956  (123/501)\n",
            "α = 0.12956  (123/501)\n",
            "α = 0.12956  (123/501)\n",
            "α = 0.12956  (123/501)\n",
            "α = 0.12956  (123/501)\n",
            "α = 0.12956  (123/501)\n"
          ]
        },
        {
          "output_type": "stream",
          "name": "stderr",
          "text": [
            "INFO:sweep:α = 0.12956  (123/501)\n"
          ]
        },
        {
          "output_type": "stream",
          "name": "stdout",
          "text": [
            "α = 0.13054  (124/501)\n",
            "α = 0.13054  (124/501)\n",
            "α = 0.13054  (124/501)\n",
            "α = 0.13054  (124/501)\n",
            "α = 0.13054  (124/501)\n",
            "α = 0.13054  (124/501)\n",
            "α = 0.13054  (124/501)\n"
          ]
        },
        {
          "output_type": "stream",
          "name": "stderr",
          "text": [
            "INFO:sweep:α = 0.13054  (124/501)\n"
          ]
        },
        {
          "output_type": "stream",
          "name": "stdout",
          "text": [
            "α = 0.13152  (125/501)\n",
            "α = 0.13152  (125/501)\n",
            "α = 0.13152  (125/501)\n",
            "α = 0.13152  (125/501)\n",
            "α = 0.13152  (125/501)\n",
            "α = 0.13152  (125/501)\n",
            "α = 0.13152  (125/501)\n"
          ]
        },
        {
          "output_type": "stream",
          "name": "stderr",
          "text": [
            "INFO:sweep:α = 0.13152  (125/501)\n"
          ]
        },
        {
          "output_type": "stream",
          "name": "stdout",
          "text": [
            "α = 0.13250  (126/501)\n",
            "α = 0.13250  (126/501)\n",
            "α = 0.13250  (126/501)\n",
            "α = 0.13250  (126/501)\n",
            "α = 0.13250  (126/501)\n",
            "α = 0.13250  (126/501)\n",
            "α = 0.13250  (126/501)\n"
          ]
        },
        {
          "output_type": "stream",
          "name": "stderr",
          "text": [
            "INFO:sweep:α = 0.13250  (126/501)\n"
          ]
        },
        {
          "output_type": "stream",
          "name": "stdout",
          "text": [
            "α = 0.13348  (127/501)\n",
            "α = 0.13348  (127/501)\n",
            "α = 0.13348  (127/501)\n",
            "α = 0.13348  (127/501)\n",
            "α = 0.13348  (127/501)\n",
            "α = 0.13348  (127/501)\n",
            "α = 0.13348  (127/501)\n"
          ]
        },
        {
          "output_type": "stream",
          "name": "stderr",
          "text": [
            "INFO:sweep:α = 0.13348  (127/501)\n"
          ]
        },
        {
          "output_type": "stream",
          "name": "stdout",
          "text": [
            "α = 0.13446  (128/501)\n",
            "α = 0.13446  (128/501)\n",
            "α = 0.13446  (128/501)\n",
            "α = 0.13446  (128/501)\n",
            "α = 0.13446  (128/501)\n",
            "α = 0.13446  (128/501)\n",
            "α = 0.13446  (128/501)\n"
          ]
        },
        {
          "output_type": "stream",
          "name": "stderr",
          "text": [
            "INFO:sweep:α = 0.13446  (128/501)\n"
          ]
        },
        {
          "output_type": "stream",
          "name": "stdout",
          "text": [
            "α = 0.13544  (129/501)\n",
            "α = 0.13544  (129/501)\n",
            "α = 0.13544  (129/501)\n",
            "α = 0.13544  (129/501)\n",
            "α = 0.13544  (129/501)\n",
            "α = 0.13544  (129/501)\n",
            "α = 0.13544  (129/501)\n"
          ]
        },
        {
          "output_type": "stream",
          "name": "stderr",
          "text": [
            "INFO:sweep:α = 0.13544  (129/501)\n"
          ]
        },
        {
          "output_type": "stream",
          "name": "stdout",
          "text": [
            "α = 0.13642  (130/501)\n",
            "α = 0.13642  (130/501)\n",
            "α = 0.13642  (130/501)\n",
            "α = 0.13642  (130/501)\n",
            "α = 0.13642  (130/501)\n",
            "α = 0.13642  (130/501)\n",
            "α = 0.13642  (130/501)\n"
          ]
        },
        {
          "output_type": "stream",
          "name": "stderr",
          "text": [
            "INFO:sweep:α = 0.13642  (130/501)\n"
          ]
        },
        {
          "output_type": "stream",
          "name": "stdout",
          "text": [
            "α = 0.13740  (131/501)\n",
            "α = 0.13740  (131/501)\n",
            "α = 0.13740  (131/501)\n",
            "α = 0.13740  (131/501)\n",
            "α = 0.13740  (131/501)\n",
            "α = 0.13740  (131/501)\n",
            "α = 0.13740  (131/501)\n"
          ]
        },
        {
          "output_type": "stream",
          "name": "stderr",
          "text": [
            "INFO:sweep:α = 0.13740  (131/501)\n"
          ]
        },
        {
          "output_type": "stream",
          "name": "stdout",
          "text": [
            "α = 0.13838  (132/501)\n",
            "α = 0.13838  (132/501)\n",
            "α = 0.13838  (132/501)\n",
            "α = 0.13838  (132/501)\n",
            "α = 0.13838  (132/501)\n",
            "α = 0.13838  (132/501)\n",
            "α = 0.13838  (132/501)\n"
          ]
        },
        {
          "output_type": "stream",
          "name": "stderr",
          "text": [
            "INFO:sweep:α = 0.13838  (132/501)\n"
          ]
        },
        {
          "output_type": "stream",
          "name": "stdout",
          "text": [
            "α = 0.13936  (133/501)\n",
            "α = 0.13936  (133/501)\n",
            "α = 0.13936  (133/501)\n",
            "α = 0.13936  (133/501)\n",
            "α = 0.13936  (133/501)\n",
            "α = 0.13936  (133/501)\n",
            "α = 0.13936  (133/501)\n"
          ]
        },
        {
          "output_type": "stream",
          "name": "stderr",
          "text": [
            "INFO:sweep:α = 0.13936  (133/501)\n"
          ]
        },
        {
          "output_type": "stream",
          "name": "stdout",
          "text": [
            "α = 0.14034  (134/501)\n",
            "α = 0.14034  (134/501)\n",
            "α = 0.14034  (134/501)\n",
            "α = 0.14034  (134/501)\n",
            "α = 0.14034  (134/501)\n",
            "α = 0.14034  (134/501)\n",
            "α = 0.14034  (134/501)\n"
          ]
        },
        {
          "output_type": "stream",
          "name": "stderr",
          "text": [
            "INFO:sweep:α = 0.14034  (134/501)\n"
          ]
        },
        {
          "output_type": "stream",
          "name": "stdout",
          "text": [
            "α = 0.14132  (135/501)\n",
            "α = 0.14132  (135/501)\n",
            "α = 0.14132  (135/501)\n",
            "α = 0.14132  (135/501)\n",
            "α = 0.14132  (135/501)\n",
            "α = 0.14132  (135/501)\n",
            "α = 0.14132  (135/501)\n"
          ]
        },
        {
          "output_type": "stream",
          "name": "stderr",
          "text": [
            "INFO:sweep:α = 0.14132  (135/501)\n"
          ]
        },
        {
          "output_type": "stream",
          "name": "stdout",
          "text": [
            "α = 0.14230  (136/501)\n",
            "α = 0.14230  (136/501)\n",
            "α = 0.14230  (136/501)\n",
            "α = 0.14230  (136/501)\n",
            "α = 0.14230  (136/501)\n",
            "α = 0.14230  (136/501)\n",
            "α = 0.14230  (136/501)\n"
          ]
        },
        {
          "output_type": "stream",
          "name": "stderr",
          "text": [
            "INFO:sweep:α = 0.14230  (136/501)\n"
          ]
        },
        {
          "output_type": "stream",
          "name": "stdout",
          "text": [
            "α = 0.14328  (137/501)\n",
            "α = 0.14328  (137/501)\n",
            "α = 0.14328  (137/501)\n",
            "α = 0.14328  (137/501)\n",
            "α = 0.14328  (137/501)\n",
            "α = 0.14328  (137/501)\n",
            "α = 0.14328  (137/501)\n"
          ]
        },
        {
          "output_type": "stream",
          "name": "stderr",
          "text": [
            "INFO:sweep:α = 0.14328  (137/501)\n"
          ]
        },
        {
          "output_type": "stream",
          "name": "stdout",
          "text": [
            "α = 0.14426  (138/501)\n",
            "α = 0.14426  (138/501)\n",
            "α = 0.14426  (138/501)\n",
            "α = 0.14426  (138/501)\n",
            "α = 0.14426  (138/501)\n",
            "α = 0.14426  (138/501)\n",
            "α = 0.14426  (138/501)\n"
          ]
        },
        {
          "output_type": "stream",
          "name": "stderr",
          "text": [
            "INFO:sweep:α = 0.14426  (138/501)\n"
          ]
        },
        {
          "output_type": "stream",
          "name": "stdout",
          "text": [
            "α = 0.14524  (139/501)\n",
            "α = 0.14524  (139/501)\n",
            "α = 0.14524  (139/501)\n",
            "α = 0.14524  (139/501)\n",
            "α = 0.14524  (139/501)\n",
            "α = 0.14524  (139/501)\n",
            "α = 0.14524  (139/501)\n"
          ]
        },
        {
          "output_type": "stream",
          "name": "stderr",
          "text": [
            "INFO:sweep:α = 0.14524  (139/501)\n"
          ]
        },
        {
          "output_type": "stream",
          "name": "stdout",
          "text": [
            "α = 0.14622  (140/501)\n",
            "α = 0.14622  (140/501)\n",
            "α = 0.14622  (140/501)\n",
            "α = 0.14622  (140/501)\n",
            "α = 0.14622  (140/501)\n",
            "α = 0.14622  (140/501)\n",
            "α = 0.14622  (140/501)\n"
          ]
        },
        {
          "output_type": "stream",
          "name": "stderr",
          "text": [
            "INFO:sweep:α = 0.14622  (140/501)\n"
          ]
        },
        {
          "output_type": "stream",
          "name": "stdout",
          "text": [
            "α = 0.14720  (141/501)\n",
            "α = 0.14720  (141/501)\n",
            "α = 0.14720  (141/501)\n",
            "α = 0.14720  (141/501)\n",
            "α = 0.14720  (141/501)\n",
            "α = 0.14720  (141/501)\n",
            "α = 0.14720  (141/501)\n"
          ]
        },
        {
          "output_type": "stream",
          "name": "stderr",
          "text": [
            "INFO:sweep:α = 0.14720  (141/501)\n"
          ]
        },
        {
          "output_type": "stream",
          "name": "stdout",
          "text": [
            "α = 0.14818  (142/501)\n",
            "α = 0.14818  (142/501)\n",
            "α = 0.14818  (142/501)\n",
            "α = 0.14818  (142/501)\n",
            "α = 0.14818  (142/501)\n",
            "α = 0.14818  (142/501)\n",
            "α = 0.14818  (142/501)\n"
          ]
        },
        {
          "output_type": "stream",
          "name": "stderr",
          "text": [
            "INFO:sweep:α = 0.14818  (142/501)\n"
          ]
        },
        {
          "output_type": "stream",
          "name": "stdout",
          "text": [
            "α = 0.14916  (143/501)\n",
            "α = 0.14916  (143/501)\n",
            "α = 0.14916  (143/501)\n",
            "α = 0.14916  (143/501)\n",
            "α = 0.14916  (143/501)\n",
            "α = 0.14916  (143/501)\n",
            "α = 0.14916  (143/501)\n"
          ]
        },
        {
          "output_type": "stream",
          "name": "stderr",
          "text": [
            "INFO:sweep:α = 0.14916  (143/501)\n"
          ]
        },
        {
          "output_type": "stream",
          "name": "stdout",
          "text": [
            "α = 0.15014  (144/501)\n",
            "α = 0.15014  (144/501)\n",
            "α = 0.15014  (144/501)\n",
            "α = 0.15014  (144/501)\n",
            "α = 0.15014  (144/501)\n",
            "α = 0.15014  (144/501)\n",
            "α = 0.15014  (144/501)\n"
          ]
        },
        {
          "output_type": "stream",
          "name": "stderr",
          "text": [
            "INFO:sweep:α = 0.15014  (144/501)\n"
          ]
        },
        {
          "output_type": "stream",
          "name": "stdout",
          "text": [
            "α = 0.15112  (145/501)\n",
            "α = 0.15112  (145/501)\n",
            "α = 0.15112  (145/501)\n",
            "α = 0.15112  (145/501)\n",
            "α = 0.15112  (145/501)\n",
            "α = 0.15112  (145/501)\n",
            "α = 0.15112  (145/501)\n"
          ]
        },
        {
          "output_type": "stream",
          "name": "stderr",
          "text": [
            "INFO:sweep:α = 0.15112  (145/501)\n"
          ]
        },
        {
          "output_type": "stream",
          "name": "stdout",
          "text": [
            "α = 0.15210  (146/501)\n",
            "α = 0.15210  (146/501)\n",
            "α = 0.15210  (146/501)\n",
            "α = 0.15210  (146/501)\n",
            "α = 0.15210  (146/501)\n",
            "α = 0.15210  (146/501)\n",
            "α = 0.15210  (146/501)\n"
          ]
        },
        {
          "output_type": "stream",
          "name": "stderr",
          "text": [
            "INFO:sweep:α = 0.15210  (146/501)\n"
          ]
        },
        {
          "output_type": "stream",
          "name": "stdout",
          "text": [
            "α = 0.15308  (147/501)\n",
            "α = 0.15308  (147/501)\n",
            "α = 0.15308  (147/501)\n",
            "α = 0.15308  (147/501)\n",
            "α = 0.15308  (147/501)\n",
            "α = 0.15308  (147/501)\n",
            "α = 0.15308  (147/501)\n"
          ]
        },
        {
          "output_type": "stream",
          "name": "stderr",
          "text": [
            "INFO:sweep:α = 0.15308  (147/501)\n"
          ]
        },
        {
          "output_type": "stream",
          "name": "stdout",
          "text": [
            "α = 0.15406  (148/501)\n",
            "α = 0.15406  (148/501)\n",
            "α = 0.15406  (148/501)\n",
            "α = 0.15406  (148/501)\n",
            "α = 0.15406  (148/501)\n",
            "α = 0.15406  (148/501)\n",
            "α = 0.15406  (148/501)\n"
          ]
        },
        {
          "output_type": "stream",
          "name": "stderr",
          "text": [
            "INFO:sweep:α = 0.15406  (148/501)\n"
          ]
        },
        {
          "output_type": "stream",
          "name": "stdout",
          "text": [
            "α = 0.15504  (149/501)\n",
            "α = 0.15504  (149/501)\n",
            "α = 0.15504  (149/501)\n",
            "α = 0.15504  (149/501)\n",
            "α = 0.15504  (149/501)\n",
            "α = 0.15504  (149/501)\n",
            "α = 0.15504  (149/501)\n"
          ]
        },
        {
          "output_type": "stream",
          "name": "stderr",
          "text": [
            "INFO:sweep:α = 0.15504  (149/501)\n"
          ]
        },
        {
          "output_type": "stream",
          "name": "stdout",
          "text": [
            "α = 0.15602  (150/501)\n",
            "α = 0.15602  (150/501)\n",
            "α = 0.15602  (150/501)\n",
            "α = 0.15602  (150/501)\n",
            "α = 0.15602  (150/501)\n",
            "α = 0.15602  (150/501)\n",
            "α = 0.15602  (150/501)\n"
          ]
        },
        {
          "output_type": "stream",
          "name": "stderr",
          "text": [
            "INFO:sweep:α = 0.15602  (150/501)\n"
          ]
        },
        {
          "output_type": "stream",
          "name": "stdout",
          "text": [
            "α = 0.15700  (151/501)\n",
            "α = 0.15700  (151/501)\n",
            "α = 0.15700  (151/501)\n",
            "α = 0.15700  (151/501)\n",
            "α = 0.15700  (151/501)\n",
            "α = 0.15700  (151/501)\n",
            "α = 0.15700  (151/501)\n"
          ]
        },
        {
          "output_type": "stream",
          "name": "stderr",
          "text": [
            "INFO:sweep:α = 0.15700  (151/501)\n"
          ]
        },
        {
          "output_type": "stream",
          "name": "stdout",
          "text": [
            "α = 0.15798  (152/501)\n",
            "α = 0.15798  (152/501)\n",
            "α = 0.15798  (152/501)\n",
            "α = 0.15798  (152/501)\n",
            "α = 0.15798  (152/501)\n",
            "α = 0.15798  (152/501)\n",
            "α = 0.15798  (152/501)\n"
          ]
        },
        {
          "output_type": "stream",
          "name": "stderr",
          "text": [
            "INFO:sweep:α = 0.15798  (152/501)\n"
          ]
        },
        {
          "output_type": "stream",
          "name": "stdout",
          "text": [
            "α = 0.15896  (153/501)\n",
            "α = 0.15896  (153/501)\n",
            "α = 0.15896  (153/501)\n",
            "α = 0.15896  (153/501)\n",
            "α = 0.15896  (153/501)\n",
            "α = 0.15896  (153/501)\n",
            "α = 0.15896  (153/501)\n"
          ]
        },
        {
          "output_type": "stream",
          "name": "stderr",
          "text": [
            "INFO:sweep:α = 0.15896  (153/501)\n"
          ]
        },
        {
          "output_type": "stream",
          "name": "stdout",
          "text": [
            "α = 0.15994  (154/501)\n",
            "α = 0.15994  (154/501)\n",
            "α = 0.15994  (154/501)\n",
            "α = 0.15994  (154/501)\n",
            "α = 0.15994  (154/501)\n",
            "α = 0.15994  (154/501)\n",
            "α = 0.15994  (154/501)\n"
          ]
        },
        {
          "output_type": "stream",
          "name": "stderr",
          "text": [
            "INFO:sweep:α = 0.15994  (154/501)\n"
          ]
        },
        {
          "output_type": "stream",
          "name": "stdout",
          "text": [
            "α = 0.16092  (155/501)\n",
            "α = 0.16092  (155/501)\n",
            "α = 0.16092  (155/501)\n",
            "α = 0.16092  (155/501)\n",
            "α = 0.16092  (155/501)\n",
            "α = 0.16092  (155/501)\n",
            "α = 0.16092  (155/501)\n"
          ]
        },
        {
          "output_type": "stream",
          "name": "stderr",
          "text": [
            "INFO:sweep:α = 0.16092  (155/501)\n"
          ]
        },
        {
          "output_type": "stream",
          "name": "stdout",
          "text": [
            "α = 0.16190  (156/501)\n",
            "α = 0.16190  (156/501)\n",
            "α = 0.16190  (156/501)\n",
            "α = 0.16190  (156/501)\n",
            "α = 0.16190  (156/501)\n",
            "α = 0.16190  (156/501)\n",
            "α = 0.16190  (156/501)\n"
          ]
        },
        {
          "output_type": "stream",
          "name": "stderr",
          "text": [
            "INFO:sweep:α = 0.16190  (156/501)\n"
          ]
        },
        {
          "output_type": "stream",
          "name": "stdout",
          "text": [
            "α = 0.16288  (157/501)\n",
            "α = 0.16288  (157/501)\n",
            "α = 0.16288  (157/501)\n",
            "α = 0.16288  (157/501)\n",
            "α = 0.16288  (157/501)\n",
            "α = 0.16288  (157/501)\n",
            "α = 0.16288  (157/501)\n"
          ]
        },
        {
          "output_type": "stream",
          "name": "stderr",
          "text": [
            "INFO:sweep:α = 0.16288  (157/501)\n"
          ]
        },
        {
          "output_type": "stream",
          "name": "stdout",
          "text": [
            "α = 0.16386  (158/501)\n",
            "α = 0.16386  (158/501)\n",
            "α = 0.16386  (158/501)\n",
            "α = 0.16386  (158/501)\n",
            "α = 0.16386  (158/501)\n",
            "α = 0.16386  (158/501)\n",
            "α = 0.16386  (158/501)\n"
          ]
        },
        {
          "output_type": "stream",
          "name": "stderr",
          "text": [
            "INFO:sweep:α = 0.16386  (158/501)\n"
          ]
        },
        {
          "output_type": "stream",
          "name": "stdout",
          "text": [
            "α = 0.16484  (159/501)\n",
            "α = 0.16484  (159/501)\n",
            "α = 0.16484  (159/501)\n",
            "α = 0.16484  (159/501)\n",
            "α = 0.16484  (159/501)\n",
            "α = 0.16484  (159/501)\n",
            "α = 0.16484  (159/501)\n"
          ]
        },
        {
          "output_type": "stream",
          "name": "stderr",
          "text": [
            "INFO:sweep:α = 0.16484  (159/501)\n"
          ]
        },
        {
          "output_type": "stream",
          "name": "stdout",
          "text": [
            "α = 0.16582  (160/501)\n",
            "α = 0.16582  (160/501)\n",
            "α = 0.16582  (160/501)\n",
            "α = 0.16582  (160/501)\n",
            "α = 0.16582  (160/501)\n",
            "α = 0.16582  (160/501)\n",
            "α = 0.16582  (160/501)\n"
          ]
        },
        {
          "output_type": "stream",
          "name": "stderr",
          "text": [
            "INFO:sweep:α = 0.16582  (160/501)\n"
          ]
        },
        {
          "output_type": "stream",
          "name": "stdout",
          "text": [
            "α = 0.16680  (161/501)\n",
            "α = 0.16680  (161/501)\n",
            "α = 0.16680  (161/501)\n",
            "α = 0.16680  (161/501)\n",
            "α = 0.16680  (161/501)\n",
            "α = 0.16680  (161/501)\n",
            "α = 0.16680  (161/501)\n"
          ]
        },
        {
          "output_type": "stream",
          "name": "stderr",
          "text": [
            "INFO:sweep:α = 0.16680  (161/501)\n"
          ]
        },
        {
          "output_type": "stream",
          "name": "stdout",
          "text": [
            "α = 0.16778  (162/501)\n",
            "α = 0.16778  (162/501)\n",
            "α = 0.16778  (162/501)\n",
            "α = 0.16778  (162/501)\n",
            "α = 0.16778  (162/501)\n",
            "α = 0.16778  (162/501)\n",
            "α = 0.16778  (162/501)\n"
          ]
        },
        {
          "output_type": "stream",
          "name": "stderr",
          "text": [
            "INFO:sweep:α = 0.16778  (162/501)\n"
          ]
        },
        {
          "output_type": "stream",
          "name": "stdout",
          "text": [
            "α = 0.16876  (163/501)\n",
            "α = 0.16876  (163/501)\n",
            "α = 0.16876  (163/501)\n",
            "α = 0.16876  (163/501)\n",
            "α = 0.16876  (163/501)\n",
            "α = 0.16876  (163/501)\n",
            "α = 0.16876  (163/501)\n"
          ]
        },
        {
          "output_type": "stream",
          "name": "stderr",
          "text": [
            "INFO:sweep:α = 0.16876  (163/501)\n"
          ]
        },
        {
          "output_type": "stream",
          "name": "stdout",
          "text": [
            "α = 0.16974  (164/501)\n",
            "α = 0.16974  (164/501)\n",
            "α = 0.16974  (164/501)\n",
            "α = 0.16974  (164/501)\n",
            "α = 0.16974  (164/501)\n",
            "α = 0.16974  (164/501)\n",
            "α = 0.16974  (164/501)\n"
          ]
        },
        {
          "output_type": "stream",
          "name": "stderr",
          "text": [
            "INFO:sweep:α = 0.16974  (164/501)\n"
          ]
        },
        {
          "output_type": "stream",
          "name": "stdout",
          "text": [
            "α = 0.17072  (165/501)\n",
            "α = 0.17072  (165/501)\n",
            "α = 0.17072  (165/501)\n",
            "α = 0.17072  (165/501)\n",
            "α = 0.17072  (165/501)\n",
            "α = 0.17072  (165/501)\n",
            "α = 0.17072  (165/501)\n"
          ]
        },
        {
          "output_type": "stream",
          "name": "stderr",
          "text": [
            "INFO:sweep:α = 0.17072  (165/501)\n"
          ]
        },
        {
          "output_type": "stream",
          "name": "stdout",
          "text": [
            "α = 0.17170  (166/501)\n",
            "α = 0.17170  (166/501)\n",
            "α = 0.17170  (166/501)\n",
            "α = 0.17170  (166/501)\n",
            "α = 0.17170  (166/501)\n",
            "α = 0.17170  (166/501)\n",
            "α = 0.17170  (166/501)\n"
          ]
        },
        {
          "output_type": "stream",
          "name": "stderr",
          "text": [
            "INFO:sweep:α = 0.17170  (166/501)\n"
          ]
        },
        {
          "output_type": "stream",
          "name": "stdout",
          "text": [
            "α = 0.17268  (167/501)\n",
            "α = 0.17268  (167/501)\n",
            "α = 0.17268  (167/501)\n",
            "α = 0.17268  (167/501)\n",
            "α = 0.17268  (167/501)\n",
            "α = 0.17268  (167/501)\n",
            "α = 0.17268  (167/501)\n"
          ]
        },
        {
          "output_type": "stream",
          "name": "stderr",
          "text": [
            "INFO:sweep:α = 0.17268  (167/501)\n"
          ]
        },
        {
          "output_type": "stream",
          "name": "stdout",
          "text": [
            "α = 0.17366  (168/501)\n",
            "α = 0.17366  (168/501)\n",
            "α = 0.17366  (168/501)\n",
            "α = 0.17366  (168/501)\n",
            "α = 0.17366  (168/501)\n",
            "α = 0.17366  (168/501)\n",
            "α = 0.17366  (168/501)\n"
          ]
        },
        {
          "output_type": "stream",
          "name": "stderr",
          "text": [
            "INFO:sweep:α = 0.17366  (168/501)\n"
          ]
        },
        {
          "output_type": "stream",
          "name": "stdout",
          "text": [
            "α = 0.17464  (169/501)\n",
            "α = 0.17464  (169/501)\n",
            "α = 0.17464  (169/501)\n",
            "α = 0.17464  (169/501)\n",
            "α = 0.17464  (169/501)\n",
            "α = 0.17464  (169/501)\n",
            "α = 0.17464  (169/501)\n"
          ]
        },
        {
          "output_type": "stream",
          "name": "stderr",
          "text": [
            "INFO:sweep:α = 0.17464  (169/501)\n"
          ]
        },
        {
          "output_type": "stream",
          "name": "stdout",
          "text": [
            "α = 0.17562  (170/501)\n",
            "α = 0.17562  (170/501)\n",
            "α = 0.17562  (170/501)\n",
            "α = 0.17562  (170/501)\n",
            "α = 0.17562  (170/501)\n",
            "α = 0.17562  (170/501)\n",
            "α = 0.17562  (170/501)\n"
          ]
        },
        {
          "output_type": "stream",
          "name": "stderr",
          "text": [
            "INFO:sweep:α = 0.17562  (170/501)\n"
          ]
        },
        {
          "output_type": "stream",
          "name": "stdout",
          "text": [
            "α = 0.17660  (171/501)\n",
            "α = 0.17660  (171/501)\n",
            "α = 0.17660  (171/501)\n",
            "α = 0.17660  (171/501)\n",
            "α = 0.17660  (171/501)\n",
            "α = 0.17660  (171/501)\n",
            "α = 0.17660  (171/501)\n"
          ]
        },
        {
          "output_type": "stream",
          "name": "stderr",
          "text": [
            "INFO:sweep:α = 0.17660  (171/501)\n"
          ]
        },
        {
          "output_type": "stream",
          "name": "stdout",
          "text": [
            "α = 0.17758  (172/501)\n",
            "α = 0.17758  (172/501)\n",
            "α = 0.17758  (172/501)\n",
            "α = 0.17758  (172/501)\n",
            "α = 0.17758  (172/501)\n",
            "α = 0.17758  (172/501)\n",
            "α = 0.17758  (172/501)\n"
          ]
        },
        {
          "output_type": "stream",
          "name": "stderr",
          "text": [
            "INFO:sweep:α = 0.17758  (172/501)\n"
          ]
        },
        {
          "output_type": "stream",
          "name": "stdout",
          "text": [
            "α = 0.17856  (173/501)\n",
            "α = 0.17856  (173/501)\n",
            "α = 0.17856  (173/501)\n",
            "α = 0.17856  (173/501)\n",
            "α = 0.17856  (173/501)\n",
            "α = 0.17856  (173/501)\n",
            "α = 0.17856  (173/501)\n"
          ]
        },
        {
          "output_type": "stream",
          "name": "stderr",
          "text": [
            "INFO:sweep:α = 0.17856  (173/501)\n"
          ]
        },
        {
          "output_type": "stream",
          "name": "stdout",
          "text": [
            "α = 0.17954  (174/501)\n",
            "α = 0.17954  (174/501)\n",
            "α = 0.17954  (174/501)\n",
            "α = 0.17954  (174/501)\n",
            "α = 0.17954  (174/501)\n",
            "α = 0.17954  (174/501)\n",
            "α = 0.17954  (174/501)\n"
          ]
        },
        {
          "output_type": "stream",
          "name": "stderr",
          "text": [
            "INFO:sweep:α = 0.17954  (174/501)\n"
          ]
        },
        {
          "output_type": "stream",
          "name": "stdout",
          "text": [
            "α = 0.18052  (175/501)\n",
            "α = 0.18052  (175/501)\n",
            "α = 0.18052  (175/501)\n",
            "α = 0.18052  (175/501)\n",
            "α = 0.18052  (175/501)\n",
            "α = 0.18052  (175/501)\n",
            "α = 0.18052  (175/501)\n"
          ]
        },
        {
          "output_type": "stream",
          "name": "stderr",
          "text": [
            "INFO:sweep:α = 0.18052  (175/501)\n"
          ]
        },
        {
          "output_type": "stream",
          "name": "stdout",
          "text": [
            "α = 0.18150  (176/501)\n",
            "α = 0.18150  (176/501)\n",
            "α = 0.18150  (176/501)\n",
            "α = 0.18150  (176/501)\n",
            "α = 0.18150  (176/501)\n",
            "α = 0.18150  (176/501)\n",
            "α = 0.18150  (176/501)\n"
          ]
        },
        {
          "output_type": "stream",
          "name": "stderr",
          "text": [
            "INFO:sweep:α = 0.18150  (176/501)\n"
          ]
        },
        {
          "output_type": "stream",
          "name": "stdout",
          "text": [
            "α = 0.18248  (177/501)\n",
            "α = 0.18248  (177/501)\n",
            "α = 0.18248  (177/501)\n",
            "α = 0.18248  (177/501)\n",
            "α = 0.18248  (177/501)\n",
            "α = 0.18248  (177/501)\n",
            "α = 0.18248  (177/501)\n"
          ]
        },
        {
          "output_type": "stream",
          "name": "stderr",
          "text": [
            "INFO:sweep:α = 0.18248  (177/501)\n"
          ]
        },
        {
          "output_type": "stream",
          "name": "stdout",
          "text": [
            "α = 0.18346  (178/501)\n",
            "α = 0.18346  (178/501)\n",
            "α = 0.18346  (178/501)\n",
            "α = 0.18346  (178/501)\n",
            "α = 0.18346  (178/501)\n",
            "α = 0.18346  (178/501)\n",
            "α = 0.18346  (178/501)\n"
          ]
        },
        {
          "output_type": "stream",
          "name": "stderr",
          "text": [
            "INFO:sweep:α = 0.18346  (178/501)\n"
          ]
        },
        {
          "output_type": "stream",
          "name": "stdout",
          "text": [
            "α = 0.18444  (179/501)\n",
            "α = 0.18444  (179/501)\n",
            "α = 0.18444  (179/501)\n",
            "α = 0.18444  (179/501)\n",
            "α = 0.18444  (179/501)\n",
            "α = 0.18444  (179/501)\n",
            "α = 0.18444  (179/501)\n"
          ]
        },
        {
          "output_type": "stream",
          "name": "stderr",
          "text": [
            "INFO:sweep:α = 0.18444  (179/501)\n"
          ]
        },
        {
          "output_type": "stream",
          "name": "stdout",
          "text": [
            "α = 0.18542  (180/501)\n",
            "α = 0.18542  (180/501)\n",
            "α = 0.18542  (180/501)\n",
            "α = 0.18542  (180/501)\n",
            "α = 0.18542  (180/501)\n",
            "α = 0.18542  (180/501)\n",
            "α = 0.18542  (180/501)\n"
          ]
        },
        {
          "output_type": "stream",
          "name": "stderr",
          "text": [
            "INFO:sweep:α = 0.18542  (180/501)\n"
          ]
        },
        {
          "output_type": "stream",
          "name": "stdout",
          "text": [
            "α = 0.18640  (181/501)\n",
            "α = 0.18640  (181/501)\n",
            "α = 0.18640  (181/501)\n",
            "α = 0.18640  (181/501)\n",
            "α = 0.18640  (181/501)\n",
            "α = 0.18640  (181/501)\n",
            "α = 0.18640  (181/501)\n"
          ]
        },
        {
          "output_type": "stream",
          "name": "stderr",
          "text": [
            "INFO:sweep:α = 0.18640  (181/501)\n"
          ]
        },
        {
          "output_type": "stream",
          "name": "stdout",
          "text": [
            "α = 0.18738  (182/501)\n",
            "α = 0.18738  (182/501)\n",
            "α = 0.18738  (182/501)\n",
            "α = 0.18738  (182/501)\n",
            "α = 0.18738  (182/501)\n",
            "α = 0.18738  (182/501)\n",
            "α = 0.18738  (182/501)\n"
          ]
        },
        {
          "output_type": "stream",
          "name": "stderr",
          "text": [
            "INFO:sweep:α = 0.18738  (182/501)\n"
          ]
        },
        {
          "output_type": "stream",
          "name": "stdout",
          "text": [
            "α = 0.18836  (183/501)\n",
            "α = 0.18836  (183/501)\n",
            "α = 0.18836  (183/501)\n",
            "α = 0.18836  (183/501)\n",
            "α = 0.18836  (183/501)\n",
            "α = 0.18836  (183/501)\n",
            "α = 0.18836  (183/501)\n"
          ]
        },
        {
          "output_type": "stream",
          "name": "stderr",
          "text": [
            "INFO:sweep:α = 0.18836  (183/501)\n"
          ]
        },
        {
          "output_type": "stream",
          "name": "stdout",
          "text": [
            "α = 0.18934  (184/501)\n",
            "α = 0.18934  (184/501)\n",
            "α = 0.18934  (184/501)\n",
            "α = 0.18934  (184/501)\n",
            "α = 0.18934  (184/501)\n",
            "α = 0.18934  (184/501)\n",
            "α = 0.18934  (184/501)\n"
          ]
        },
        {
          "output_type": "stream",
          "name": "stderr",
          "text": [
            "INFO:sweep:α = 0.18934  (184/501)\n"
          ]
        },
        {
          "output_type": "stream",
          "name": "stdout",
          "text": [
            "α = 0.19032  (185/501)\n",
            "α = 0.19032  (185/501)\n",
            "α = 0.19032  (185/501)\n",
            "α = 0.19032  (185/501)\n",
            "α = 0.19032  (185/501)\n",
            "α = 0.19032  (185/501)\n",
            "α = 0.19032  (185/501)\n"
          ]
        },
        {
          "output_type": "stream",
          "name": "stderr",
          "text": [
            "INFO:sweep:α = 0.19032  (185/501)\n"
          ]
        },
        {
          "output_type": "stream",
          "name": "stdout",
          "text": [
            "α = 0.19130  (186/501)\n",
            "α = 0.19130  (186/501)\n",
            "α = 0.19130  (186/501)\n",
            "α = 0.19130  (186/501)\n",
            "α = 0.19130  (186/501)\n",
            "α = 0.19130  (186/501)\n",
            "α = 0.19130  (186/501)\n"
          ]
        },
        {
          "output_type": "stream",
          "name": "stderr",
          "text": [
            "INFO:sweep:α = 0.19130  (186/501)\n"
          ]
        },
        {
          "output_type": "stream",
          "name": "stdout",
          "text": [
            "α = 0.19228  (187/501)\n",
            "α = 0.19228  (187/501)\n",
            "α = 0.19228  (187/501)\n",
            "α = 0.19228  (187/501)\n",
            "α = 0.19228  (187/501)\n",
            "α = 0.19228  (187/501)\n",
            "α = 0.19228  (187/501)\n"
          ]
        },
        {
          "output_type": "stream",
          "name": "stderr",
          "text": [
            "INFO:sweep:α = 0.19228  (187/501)\n"
          ]
        },
        {
          "output_type": "stream",
          "name": "stdout",
          "text": [
            "α = 0.19326  (188/501)\n",
            "α = 0.19326  (188/501)\n",
            "α = 0.19326  (188/501)\n",
            "α = 0.19326  (188/501)\n",
            "α = 0.19326  (188/501)\n",
            "α = 0.19326  (188/501)\n",
            "α = 0.19326  (188/501)\n"
          ]
        },
        {
          "output_type": "stream",
          "name": "stderr",
          "text": [
            "INFO:sweep:α = 0.19326  (188/501)\n"
          ]
        },
        {
          "output_type": "stream",
          "name": "stdout",
          "text": [
            "α = 0.19424  (189/501)\n",
            "α = 0.19424  (189/501)\n",
            "α = 0.19424  (189/501)\n",
            "α = 0.19424  (189/501)\n",
            "α = 0.19424  (189/501)\n",
            "α = 0.19424  (189/501)\n",
            "α = 0.19424  (189/501)\n"
          ]
        },
        {
          "output_type": "stream",
          "name": "stderr",
          "text": [
            "INFO:sweep:α = 0.19424  (189/501)\n"
          ]
        },
        {
          "output_type": "stream",
          "name": "stdout",
          "text": [
            "α = 0.19522  (190/501)\n",
            "α = 0.19522  (190/501)\n",
            "α = 0.19522  (190/501)\n",
            "α = 0.19522  (190/501)\n",
            "α = 0.19522  (190/501)\n",
            "α = 0.19522  (190/501)\n",
            "α = 0.19522  (190/501)\n"
          ]
        },
        {
          "output_type": "stream",
          "name": "stderr",
          "text": [
            "INFO:sweep:α = 0.19522  (190/501)\n"
          ]
        },
        {
          "output_type": "stream",
          "name": "stdout",
          "text": [
            "α = 0.19620  (191/501)\n",
            "α = 0.19620  (191/501)\n",
            "α = 0.19620  (191/501)\n",
            "α = 0.19620  (191/501)\n",
            "α = 0.19620  (191/501)\n",
            "α = 0.19620  (191/501)\n",
            "α = 0.19620  (191/501)\n"
          ]
        },
        {
          "output_type": "stream",
          "name": "stderr",
          "text": [
            "INFO:sweep:α = 0.19620  (191/501)\n"
          ]
        },
        {
          "output_type": "stream",
          "name": "stdout",
          "text": [
            "α = 0.19718  (192/501)\n",
            "α = 0.19718  (192/501)\n",
            "α = 0.19718  (192/501)\n",
            "α = 0.19718  (192/501)\n",
            "α = 0.19718  (192/501)\n",
            "α = 0.19718  (192/501)\n",
            "α = 0.19718  (192/501)\n"
          ]
        },
        {
          "output_type": "stream",
          "name": "stderr",
          "text": [
            "INFO:sweep:α = 0.19718  (192/501)\n"
          ]
        },
        {
          "output_type": "stream",
          "name": "stdout",
          "text": [
            "α = 0.19816  (193/501)\n",
            "α = 0.19816  (193/501)\n",
            "α = 0.19816  (193/501)\n",
            "α = 0.19816  (193/501)\n",
            "α = 0.19816  (193/501)\n",
            "α = 0.19816  (193/501)\n",
            "α = 0.19816  (193/501)\n"
          ]
        },
        {
          "output_type": "stream",
          "name": "stderr",
          "text": [
            "INFO:sweep:α = 0.19816  (193/501)\n"
          ]
        },
        {
          "output_type": "stream",
          "name": "stdout",
          "text": [
            "α = 0.19914  (194/501)\n",
            "α = 0.19914  (194/501)\n",
            "α = 0.19914  (194/501)\n",
            "α = 0.19914  (194/501)\n",
            "α = 0.19914  (194/501)\n",
            "α = 0.19914  (194/501)\n",
            "α = 0.19914  (194/501)\n"
          ]
        },
        {
          "output_type": "stream",
          "name": "stderr",
          "text": [
            "INFO:sweep:α = 0.19914  (194/501)\n"
          ]
        },
        {
          "output_type": "stream",
          "name": "stdout",
          "text": [
            "α = 0.20012  (195/501)\n",
            "α = 0.20012  (195/501)\n",
            "α = 0.20012  (195/501)\n",
            "α = 0.20012  (195/501)\n",
            "α = 0.20012  (195/501)\n",
            "α = 0.20012  (195/501)\n",
            "α = 0.20012  (195/501)\n"
          ]
        },
        {
          "output_type": "stream",
          "name": "stderr",
          "text": [
            "INFO:sweep:α = 0.20012  (195/501)\n"
          ]
        },
        {
          "output_type": "stream",
          "name": "stdout",
          "text": [
            "α = 0.20110  (196/501)\n",
            "α = 0.20110  (196/501)\n",
            "α = 0.20110  (196/501)\n",
            "α = 0.20110  (196/501)\n",
            "α = 0.20110  (196/501)\n",
            "α = 0.20110  (196/501)\n",
            "α = 0.20110  (196/501)\n"
          ]
        },
        {
          "output_type": "stream",
          "name": "stderr",
          "text": [
            "INFO:sweep:α = 0.20110  (196/501)\n"
          ]
        },
        {
          "output_type": "stream",
          "name": "stdout",
          "text": [
            "α = 0.20208  (197/501)\n",
            "α = 0.20208  (197/501)\n",
            "α = 0.20208  (197/501)\n",
            "α = 0.20208  (197/501)\n",
            "α = 0.20208  (197/501)\n",
            "α = 0.20208  (197/501)\n",
            "α = 0.20208  (197/501)\n"
          ]
        },
        {
          "output_type": "stream",
          "name": "stderr",
          "text": [
            "INFO:sweep:α = 0.20208  (197/501)\n"
          ]
        },
        {
          "output_type": "stream",
          "name": "stdout",
          "text": [
            "α = 0.20306  (198/501)\n",
            "α = 0.20306  (198/501)\n",
            "α = 0.20306  (198/501)\n",
            "α = 0.20306  (198/501)\n",
            "α = 0.20306  (198/501)\n",
            "α = 0.20306  (198/501)\n",
            "α = 0.20306  (198/501)\n"
          ]
        },
        {
          "output_type": "stream",
          "name": "stderr",
          "text": [
            "INFO:sweep:α = 0.20306  (198/501)\n"
          ]
        },
        {
          "output_type": "stream",
          "name": "stdout",
          "text": [
            "α = 0.20404  (199/501)\n",
            "α = 0.20404  (199/501)\n",
            "α = 0.20404  (199/501)\n",
            "α = 0.20404  (199/501)\n",
            "α = 0.20404  (199/501)\n",
            "α = 0.20404  (199/501)\n",
            "α = 0.20404  (199/501)\n"
          ]
        },
        {
          "output_type": "stream",
          "name": "stderr",
          "text": [
            "INFO:sweep:α = 0.20404  (199/501)\n"
          ]
        },
        {
          "output_type": "stream",
          "name": "stdout",
          "text": [
            "α = 0.20502  (200/501)\n",
            "α = 0.20502  (200/501)\n",
            "α = 0.20502  (200/501)\n",
            "α = 0.20502  (200/501)\n",
            "α = 0.20502  (200/501)\n",
            "α = 0.20502  (200/501)\n",
            "α = 0.20502  (200/501)\n"
          ]
        },
        {
          "output_type": "stream",
          "name": "stderr",
          "text": [
            "INFO:sweep:α = 0.20502  (200/501)\n"
          ]
        },
        {
          "output_type": "stream",
          "name": "stdout",
          "text": [
            "α = 0.20600  (201/501)\n",
            "α = 0.20600  (201/501)\n",
            "α = 0.20600  (201/501)\n",
            "α = 0.20600  (201/501)\n",
            "α = 0.20600  (201/501)\n",
            "α = 0.20600  (201/501)\n",
            "α = 0.20600  (201/501)\n"
          ]
        },
        {
          "output_type": "stream",
          "name": "stderr",
          "text": [
            "INFO:sweep:α = 0.20600  (201/501)\n"
          ]
        },
        {
          "output_type": "stream",
          "name": "stdout",
          "text": [
            "α = 0.20698  (202/501)\n",
            "α = 0.20698  (202/501)\n",
            "α = 0.20698  (202/501)\n",
            "α = 0.20698  (202/501)\n",
            "α = 0.20698  (202/501)\n",
            "α = 0.20698  (202/501)\n",
            "α = 0.20698  (202/501)\n"
          ]
        },
        {
          "output_type": "stream",
          "name": "stderr",
          "text": [
            "INFO:sweep:α = 0.20698  (202/501)\n"
          ]
        },
        {
          "output_type": "stream",
          "name": "stdout",
          "text": [
            "α = 0.20796  (203/501)\n",
            "α = 0.20796  (203/501)\n",
            "α = 0.20796  (203/501)\n",
            "α = 0.20796  (203/501)\n",
            "α = 0.20796  (203/501)\n",
            "α = 0.20796  (203/501)\n",
            "α = 0.20796  (203/501)\n"
          ]
        },
        {
          "output_type": "stream",
          "name": "stderr",
          "text": [
            "INFO:sweep:α = 0.20796  (203/501)\n"
          ]
        },
        {
          "output_type": "stream",
          "name": "stdout",
          "text": [
            "α = 0.20894  (204/501)\n",
            "α = 0.20894  (204/501)\n",
            "α = 0.20894  (204/501)\n",
            "α = 0.20894  (204/501)\n",
            "α = 0.20894  (204/501)\n",
            "α = 0.20894  (204/501)\n",
            "α = 0.20894  (204/501)\n"
          ]
        },
        {
          "output_type": "stream",
          "name": "stderr",
          "text": [
            "INFO:sweep:α = 0.20894  (204/501)\n"
          ]
        },
        {
          "output_type": "stream",
          "name": "stdout",
          "text": [
            "α = 0.20992  (205/501)\n",
            "α = 0.20992  (205/501)\n",
            "α = 0.20992  (205/501)\n",
            "α = 0.20992  (205/501)\n",
            "α = 0.20992  (205/501)\n",
            "α = 0.20992  (205/501)\n",
            "α = 0.20992  (205/501)\n"
          ]
        },
        {
          "output_type": "stream",
          "name": "stderr",
          "text": [
            "INFO:sweep:α = 0.20992  (205/501)\n"
          ]
        },
        {
          "output_type": "stream",
          "name": "stdout",
          "text": [
            "α = 0.21090  (206/501)\n",
            "α = 0.21090  (206/501)\n",
            "α = 0.21090  (206/501)\n",
            "α = 0.21090  (206/501)\n",
            "α = 0.21090  (206/501)\n",
            "α = 0.21090  (206/501)\n",
            "α = 0.21090  (206/501)\n"
          ]
        },
        {
          "output_type": "stream",
          "name": "stderr",
          "text": [
            "INFO:sweep:α = 0.21090  (206/501)\n"
          ]
        },
        {
          "output_type": "stream",
          "name": "stdout",
          "text": [
            "α = 0.21188  (207/501)\n",
            "α = 0.21188  (207/501)\n",
            "α = 0.21188  (207/501)\n",
            "α = 0.21188  (207/501)\n",
            "α = 0.21188  (207/501)\n",
            "α = 0.21188  (207/501)\n",
            "α = 0.21188  (207/501)\n"
          ]
        },
        {
          "output_type": "stream",
          "name": "stderr",
          "text": [
            "INFO:sweep:α = 0.21188  (207/501)\n"
          ]
        },
        {
          "output_type": "stream",
          "name": "stdout",
          "text": [
            "α = 0.21286  (208/501)\n",
            "α = 0.21286  (208/501)\n",
            "α = 0.21286  (208/501)\n",
            "α = 0.21286  (208/501)\n",
            "α = 0.21286  (208/501)\n",
            "α = 0.21286  (208/501)\n",
            "α = 0.21286  (208/501)\n"
          ]
        },
        {
          "output_type": "stream",
          "name": "stderr",
          "text": [
            "INFO:sweep:α = 0.21286  (208/501)\n"
          ]
        },
        {
          "output_type": "stream",
          "name": "stdout",
          "text": [
            "α = 0.21384  (209/501)\n",
            "α = 0.21384  (209/501)\n",
            "α = 0.21384  (209/501)\n",
            "α = 0.21384  (209/501)\n",
            "α = 0.21384  (209/501)\n",
            "α = 0.21384  (209/501)\n",
            "α = 0.21384  (209/501)\n"
          ]
        },
        {
          "output_type": "stream",
          "name": "stderr",
          "text": [
            "INFO:sweep:α = 0.21384  (209/501)\n"
          ]
        },
        {
          "output_type": "stream",
          "name": "stdout",
          "text": [
            "α = 0.21482  (210/501)\n",
            "α = 0.21482  (210/501)\n",
            "α = 0.21482  (210/501)\n",
            "α = 0.21482  (210/501)\n",
            "α = 0.21482  (210/501)\n",
            "α = 0.21482  (210/501)\n",
            "α = 0.21482  (210/501)\n"
          ]
        },
        {
          "output_type": "stream",
          "name": "stderr",
          "text": [
            "INFO:sweep:α = 0.21482  (210/501)\n"
          ]
        },
        {
          "output_type": "stream",
          "name": "stdout",
          "text": [
            "α = 0.21580  (211/501)\n",
            "α = 0.21580  (211/501)\n",
            "α = 0.21580  (211/501)\n",
            "α = 0.21580  (211/501)\n",
            "α = 0.21580  (211/501)\n",
            "α = 0.21580  (211/501)\n",
            "α = 0.21580  (211/501)\n"
          ]
        },
        {
          "output_type": "stream",
          "name": "stderr",
          "text": [
            "INFO:sweep:α = 0.21580  (211/501)\n"
          ]
        },
        {
          "output_type": "stream",
          "name": "stdout",
          "text": [
            "α = 0.21678  (212/501)\n",
            "α = 0.21678  (212/501)\n",
            "α = 0.21678  (212/501)\n",
            "α = 0.21678  (212/501)\n",
            "α = 0.21678  (212/501)\n",
            "α = 0.21678  (212/501)\n",
            "α = 0.21678  (212/501)\n"
          ]
        },
        {
          "output_type": "stream",
          "name": "stderr",
          "text": [
            "INFO:sweep:α = 0.21678  (212/501)\n"
          ]
        },
        {
          "output_type": "stream",
          "name": "stdout",
          "text": [
            "α = 0.21776  (213/501)\n",
            "α = 0.21776  (213/501)\n",
            "α = 0.21776  (213/501)\n",
            "α = 0.21776  (213/501)\n",
            "α = 0.21776  (213/501)\n",
            "α = 0.21776  (213/501)\n",
            "α = 0.21776  (213/501)\n"
          ]
        },
        {
          "output_type": "stream",
          "name": "stderr",
          "text": [
            "INFO:sweep:α = 0.21776  (213/501)\n"
          ]
        },
        {
          "output_type": "stream",
          "name": "stdout",
          "text": [
            "α = 0.21874  (214/501)\n",
            "α = 0.21874  (214/501)\n",
            "α = 0.21874  (214/501)\n",
            "α = 0.21874  (214/501)\n",
            "α = 0.21874  (214/501)\n",
            "α = 0.21874  (214/501)\n",
            "α = 0.21874  (214/501)\n"
          ]
        },
        {
          "output_type": "stream",
          "name": "stderr",
          "text": [
            "INFO:sweep:α = 0.21874  (214/501)\n"
          ]
        },
        {
          "output_type": "stream",
          "name": "stdout",
          "text": [
            "α = 0.21972  (215/501)\n",
            "α = 0.21972  (215/501)\n",
            "α = 0.21972  (215/501)\n",
            "α = 0.21972  (215/501)\n",
            "α = 0.21972  (215/501)\n",
            "α = 0.21972  (215/501)\n",
            "α = 0.21972  (215/501)\n"
          ]
        },
        {
          "output_type": "stream",
          "name": "stderr",
          "text": [
            "INFO:sweep:α = 0.21972  (215/501)\n"
          ]
        },
        {
          "output_type": "stream",
          "name": "stdout",
          "text": [
            "α = 0.22070  (216/501)\n",
            "α = 0.22070  (216/501)\n",
            "α = 0.22070  (216/501)\n",
            "α = 0.22070  (216/501)\n",
            "α = 0.22070  (216/501)\n",
            "α = 0.22070  (216/501)\n",
            "α = 0.22070  (216/501)\n"
          ]
        },
        {
          "output_type": "stream",
          "name": "stderr",
          "text": [
            "INFO:sweep:α = 0.22070  (216/501)\n"
          ]
        },
        {
          "output_type": "stream",
          "name": "stdout",
          "text": [
            "α = 0.22168  (217/501)\n",
            "α = 0.22168  (217/501)\n",
            "α = 0.22168  (217/501)\n",
            "α = 0.22168  (217/501)\n",
            "α = 0.22168  (217/501)\n",
            "α = 0.22168  (217/501)\n",
            "α = 0.22168  (217/501)\n"
          ]
        },
        {
          "output_type": "stream",
          "name": "stderr",
          "text": [
            "INFO:sweep:α = 0.22168  (217/501)\n"
          ]
        },
        {
          "output_type": "stream",
          "name": "stdout",
          "text": [
            "α = 0.22266  (218/501)\n",
            "α = 0.22266  (218/501)\n",
            "α = 0.22266  (218/501)\n",
            "α = 0.22266  (218/501)\n",
            "α = 0.22266  (218/501)\n",
            "α = 0.22266  (218/501)\n",
            "α = 0.22266  (218/501)\n"
          ]
        },
        {
          "output_type": "stream",
          "name": "stderr",
          "text": [
            "INFO:sweep:α = 0.22266  (218/501)\n"
          ]
        },
        {
          "output_type": "stream",
          "name": "stdout",
          "text": [
            "α = 0.22364  (219/501)\n",
            "α = 0.22364  (219/501)\n",
            "α = 0.22364  (219/501)\n",
            "α = 0.22364  (219/501)\n",
            "α = 0.22364  (219/501)\n",
            "α = 0.22364  (219/501)\n",
            "α = 0.22364  (219/501)\n"
          ]
        },
        {
          "output_type": "stream",
          "name": "stderr",
          "text": [
            "INFO:sweep:α = 0.22364  (219/501)\n"
          ]
        },
        {
          "output_type": "stream",
          "name": "stdout",
          "text": [
            "α = 0.22462  (220/501)\n",
            "α = 0.22462  (220/501)\n",
            "α = 0.22462  (220/501)\n",
            "α = 0.22462  (220/501)\n",
            "α = 0.22462  (220/501)\n",
            "α = 0.22462  (220/501)\n",
            "α = 0.22462  (220/501)\n"
          ]
        },
        {
          "output_type": "stream",
          "name": "stderr",
          "text": [
            "INFO:sweep:α = 0.22462  (220/501)\n"
          ]
        },
        {
          "output_type": "stream",
          "name": "stdout",
          "text": [
            "α = 0.22560  (221/501)\n",
            "α = 0.22560  (221/501)\n",
            "α = 0.22560  (221/501)\n",
            "α = 0.22560  (221/501)\n",
            "α = 0.22560  (221/501)\n",
            "α = 0.22560  (221/501)\n",
            "α = 0.22560  (221/501)\n"
          ]
        },
        {
          "output_type": "stream",
          "name": "stderr",
          "text": [
            "INFO:sweep:α = 0.22560  (221/501)\n"
          ]
        },
        {
          "output_type": "stream",
          "name": "stdout",
          "text": [
            "α = 0.22658  (222/501)\n",
            "α = 0.22658  (222/501)\n",
            "α = 0.22658  (222/501)\n",
            "α = 0.22658  (222/501)\n",
            "α = 0.22658  (222/501)\n",
            "α = 0.22658  (222/501)\n",
            "α = 0.22658  (222/501)\n"
          ]
        },
        {
          "output_type": "stream",
          "name": "stderr",
          "text": [
            "INFO:sweep:α = 0.22658  (222/501)\n"
          ]
        },
        {
          "output_type": "stream",
          "name": "stdout",
          "text": [
            "α = 0.22756  (223/501)\n",
            "α = 0.22756  (223/501)\n",
            "α = 0.22756  (223/501)\n",
            "α = 0.22756  (223/501)\n",
            "α = 0.22756  (223/501)\n",
            "α = 0.22756  (223/501)\n",
            "α = 0.22756  (223/501)\n"
          ]
        },
        {
          "output_type": "stream",
          "name": "stderr",
          "text": [
            "INFO:sweep:α = 0.22756  (223/501)\n"
          ]
        },
        {
          "output_type": "stream",
          "name": "stdout",
          "text": [
            "α = 0.22854  (224/501)\n",
            "α = 0.22854  (224/501)\n",
            "α = 0.22854  (224/501)\n",
            "α = 0.22854  (224/501)\n",
            "α = 0.22854  (224/501)\n",
            "α = 0.22854  (224/501)\n",
            "α = 0.22854  (224/501)\n"
          ]
        },
        {
          "output_type": "stream",
          "name": "stderr",
          "text": [
            "INFO:sweep:α = 0.22854  (224/501)\n"
          ]
        },
        {
          "output_type": "stream",
          "name": "stdout",
          "text": [
            "α = 0.22952  (225/501)\n",
            "α = 0.22952  (225/501)\n",
            "α = 0.22952  (225/501)\n",
            "α = 0.22952  (225/501)\n",
            "α = 0.22952  (225/501)\n",
            "α = 0.22952  (225/501)\n",
            "α = 0.22952  (225/501)\n"
          ]
        },
        {
          "output_type": "stream",
          "name": "stderr",
          "text": [
            "INFO:sweep:α = 0.22952  (225/501)\n"
          ]
        },
        {
          "output_type": "stream",
          "name": "stdout",
          "text": [
            "α = 0.23050  (226/501)\n",
            "α = 0.23050  (226/501)\n",
            "α = 0.23050  (226/501)\n",
            "α = 0.23050  (226/501)\n",
            "α = 0.23050  (226/501)\n",
            "α = 0.23050  (226/501)\n",
            "α = 0.23050  (226/501)\n"
          ]
        },
        {
          "output_type": "stream",
          "name": "stderr",
          "text": [
            "INFO:sweep:α = 0.23050  (226/501)\n"
          ]
        },
        {
          "output_type": "stream",
          "name": "stdout",
          "text": [
            "α = 0.23148  (227/501)\n",
            "α = 0.23148  (227/501)\n",
            "α = 0.23148  (227/501)\n",
            "α = 0.23148  (227/501)\n",
            "α = 0.23148  (227/501)\n",
            "α = 0.23148  (227/501)\n",
            "α = 0.23148  (227/501)\n"
          ]
        },
        {
          "output_type": "stream",
          "name": "stderr",
          "text": [
            "INFO:sweep:α = 0.23148  (227/501)\n"
          ]
        },
        {
          "output_type": "stream",
          "name": "stdout",
          "text": [
            "α = 0.23246  (228/501)\n",
            "α = 0.23246  (228/501)\n",
            "α = 0.23246  (228/501)\n",
            "α = 0.23246  (228/501)\n",
            "α = 0.23246  (228/501)\n",
            "α = 0.23246  (228/501)\n",
            "α = 0.23246  (228/501)\n"
          ]
        },
        {
          "output_type": "stream",
          "name": "stderr",
          "text": [
            "INFO:sweep:α = 0.23246  (228/501)\n"
          ]
        },
        {
          "output_type": "stream",
          "name": "stdout",
          "text": [
            "α = 0.23344  (229/501)\n",
            "α = 0.23344  (229/501)\n",
            "α = 0.23344  (229/501)\n",
            "α = 0.23344  (229/501)\n",
            "α = 0.23344  (229/501)\n",
            "α = 0.23344  (229/501)\n",
            "α = 0.23344  (229/501)\n"
          ]
        },
        {
          "output_type": "stream",
          "name": "stderr",
          "text": [
            "INFO:sweep:α = 0.23344  (229/501)\n"
          ]
        },
        {
          "output_type": "stream",
          "name": "stdout",
          "text": [
            "α = 0.23442  (230/501)\n",
            "α = 0.23442  (230/501)\n",
            "α = 0.23442  (230/501)\n",
            "α = 0.23442  (230/501)\n",
            "α = 0.23442  (230/501)\n",
            "α = 0.23442  (230/501)\n",
            "α = 0.23442  (230/501)\n"
          ]
        },
        {
          "output_type": "stream",
          "name": "stderr",
          "text": [
            "INFO:sweep:α = 0.23442  (230/501)\n"
          ]
        },
        {
          "output_type": "stream",
          "name": "stdout",
          "text": [
            "α = 0.23540  (231/501)\n",
            "α = 0.23540  (231/501)\n",
            "α = 0.23540  (231/501)\n",
            "α = 0.23540  (231/501)\n",
            "α = 0.23540  (231/501)\n",
            "α = 0.23540  (231/501)\n",
            "α = 0.23540  (231/501)\n"
          ]
        },
        {
          "output_type": "stream",
          "name": "stderr",
          "text": [
            "INFO:sweep:α = 0.23540  (231/501)\n"
          ]
        },
        {
          "output_type": "stream",
          "name": "stdout",
          "text": [
            "α = 0.23638  (232/501)\n",
            "α = 0.23638  (232/501)\n",
            "α = 0.23638  (232/501)\n",
            "α = 0.23638  (232/501)\n",
            "α = 0.23638  (232/501)\n",
            "α = 0.23638  (232/501)\n",
            "α = 0.23638  (232/501)\n"
          ]
        },
        {
          "output_type": "stream",
          "name": "stderr",
          "text": [
            "INFO:sweep:α = 0.23638  (232/501)\n"
          ]
        },
        {
          "output_type": "stream",
          "name": "stdout",
          "text": [
            "α = 0.23736  (233/501)\n",
            "α = 0.23736  (233/501)\n",
            "α = 0.23736  (233/501)\n",
            "α = 0.23736  (233/501)\n",
            "α = 0.23736  (233/501)\n",
            "α = 0.23736  (233/501)\n",
            "α = 0.23736  (233/501)\n"
          ]
        },
        {
          "output_type": "stream",
          "name": "stderr",
          "text": [
            "INFO:sweep:α = 0.23736  (233/501)\n"
          ]
        },
        {
          "output_type": "stream",
          "name": "stdout",
          "text": [
            "α = 0.23834  (234/501)\n",
            "α = 0.23834  (234/501)\n",
            "α = 0.23834  (234/501)\n",
            "α = 0.23834  (234/501)\n",
            "α = 0.23834  (234/501)\n",
            "α = 0.23834  (234/501)\n",
            "α = 0.23834  (234/501)\n"
          ]
        },
        {
          "output_type": "stream",
          "name": "stderr",
          "text": [
            "INFO:sweep:α = 0.23834  (234/501)\n"
          ]
        },
        {
          "output_type": "stream",
          "name": "stdout",
          "text": [
            "α = 0.23932  (235/501)\n",
            "α = 0.23932  (235/501)\n",
            "α = 0.23932  (235/501)\n",
            "α = 0.23932  (235/501)\n",
            "α = 0.23932  (235/501)\n",
            "α = 0.23932  (235/501)\n",
            "α = 0.23932  (235/501)\n"
          ]
        },
        {
          "output_type": "stream",
          "name": "stderr",
          "text": [
            "INFO:sweep:α = 0.23932  (235/501)\n"
          ]
        },
        {
          "output_type": "stream",
          "name": "stdout",
          "text": [
            "α = 0.24030  (236/501)\n",
            "α = 0.24030  (236/501)\n",
            "α = 0.24030  (236/501)\n",
            "α = 0.24030  (236/501)\n",
            "α = 0.24030  (236/501)\n",
            "α = 0.24030  (236/501)\n",
            "α = 0.24030  (236/501)\n"
          ]
        },
        {
          "output_type": "stream",
          "name": "stderr",
          "text": [
            "INFO:sweep:α = 0.24030  (236/501)\n"
          ]
        },
        {
          "output_type": "stream",
          "name": "stdout",
          "text": [
            "α = 0.24128  (237/501)\n",
            "α = 0.24128  (237/501)\n",
            "α = 0.24128  (237/501)\n",
            "α = 0.24128  (237/501)\n",
            "α = 0.24128  (237/501)\n",
            "α = 0.24128  (237/501)\n",
            "α = 0.24128  (237/501)\n"
          ]
        },
        {
          "output_type": "stream",
          "name": "stderr",
          "text": [
            "INFO:sweep:α = 0.24128  (237/501)\n"
          ]
        },
        {
          "output_type": "stream",
          "name": "stdout",
          "text": [
            "α = 0.24226  (238/501)\n",
            "α = 0.24226  (238/501)\n",
            "α = 0.24226  (238/501)\n",
            "α = 0.24226  (238/501)\n",
            "α = 0.24226  (238/501)\n",
            "α = 0.24226  (238/501)\n",
            "α = 0.24226  (238/501)\n"
          ]
        },
        {
          "output_type": "stream",
          "name": "stderr",
          "text": [
            "INFO:sweep:α = 0.24226  (238/501)\n"
          ]
        },
        {
          "output_type": "stream",
          "name": "stdout",
          "text": [
            "α = 0.24324  (239/501)\n",
            "α = 0.24324  (239/501)\n",
            "α = 0.24324  (239/501)\n",
            "α = 0.24324  (239/501)\n",
            "α = 0.24324  (239/501)\n",
            "α = 0.24324  (239/501)\n",
            "α = 0.24324  (239/501)\n"
          ]
        },
        {
          "output_type": "stream",
          "name": "stderr",
          "text": [
            "INFO:sweep:α = 0.24324  (239/501)\n"
          ]
        },
        {
          "output_type": "stream",
          "name": "stdout",
          "text": [
            "α = 0.24422  (240/501)\n",
            "α = 0.24422  (240/501)\n",
            "α = 0.24422  (240/501)\n",
            "α = 0.24422  (240/501)\n",
            "α = 0.24422  (240/501)\n",
            "α = 0.24422  (240/501)\n",
            "α = 0.24422  (240/501)\n"
          ]
        },
        {
          "output_type": "stream",
          "name": "stderr",
          "text": [
            "INFO:sweep:α = 0.24422  (240/501)\n"
          ]
        },
        {
          "output_type": "stream",
          "name": "stdout",
          "text": [
            "α = 0.24520  (241/501)\n",
            "α = 0.24520  (241/501)\n",
            "α = 0.24520  (241/501)\n",
            "α = 0.24520  (241/501)\n",
            "α = 0.24520  (241/501)\n",
            "α = 0.24520  (241/501)\n",
            "α = 0.24520  (241/501)\n"
          ]
        },
        {
          "output_type": "stream",
          "name": "stderr",
          "text": [
            "INFO:sweep:α = 0.24520  (241/501)\n"
          ]
        },
        {
          "output_type": "stream",
          "name": "stdout",
          "text": [
            "α = 0.24618  (242/501)\n",
            "α = 0.24618  (242/501)\n",
            "α = 0.24618  (242/501)\n",
            "α = 0.24618  (242/501)\n",
            "α = 0.24618  (242/501)\n",
            "α = 0.24618  (242/501)\n",
            "α = 0.24618  (242/501)\n"
          ]
        },
        {
          "output_type": "stream",
          "name": "stderr",
          "text": [
            "INFO:sweep:α = 0.24618  (242/501)\n"
          ]
        },
        {
          "output_type": "stream",
          "name": "stdout",
          "text": [
            "α = 0.24716  (243/501)\n",
            "α = 0.24716  (243/501)\n",
            "α = 0.24716  (243/501)\n",
            "α = 0.24716  (243/501)\n",
            "α = 0.24716  (243/501)\n",
            "α = 0.24716  (243/501)\n",
            "α = 0.24716  (243/501)\n"
          ]
        },
        {
          "output_type": "stream",
          "name": "stderr",
          "text": [
            "INFO:sweep:α = 0.24716  (243/501)\n"
          ]
        },
        {
          "output_type": "stream",
          "name": "stdout",
          "text": [
            "α = 0.24814  (244/501)\n",
            "α = 0.24814  (244/501)\n",
            "α = 0.24814  (244/501)\n",
            "α = 0.24814  (244/501)\n",
            "α = 0.24814  (244/501)\n",
            "α = 0.24814  (244/501)\n",
            "α = 0.24814  (244/501)\n"
          ]
        },
        {
          "output_type": "stream",
          "name": "stderr",
          "text": [
            "INFO:sweep:α = 0.24814  (244/501)\n"
          ]
        },
        {
          "output_type": "stream",
          "name": "stdout",
          "text": [
            "α = 0.24912  (245/501)\n",
            "α = 0.24912  (245/501)\n",
            "α = 0.24912  (245/501)\n",
            "α = 0.24912  (245/501)\n",
            "α = 0.24912  (245/501)\n",
            "α = 0.24912  (245/501)\n",
            "α = 0.24912  (245/501)\n"
          ]
        },
        {
          "output_type": "stream",
          "name": "stderr",
          "text": [
            "INFO:sweep:α = 0.24912  (245/501)\n"
          ]
        },
        {
          "output_type": "stream",
          "name": "stdout",
          "text": [
            "α = 0.25010  (246/501)\n",
            "α = 0.25010  (246/501)\n",
            "α = 0.25010  (246/501)\n",
            "α = 0.25010  (246/501)\n",
            "α = 0.25010  (246/501)\n",
            "α = 0.25010  (246/501)\n",
            "α = 0.25010  (246/501)\n"
          ]
        },
        {
          "output_type": "stream",
          "name": "stderr",
          "text": [
            "INFO:sweep:α = 0.25010  (246/501)\n"
          ]
        },
        {
          "output_type": "stream",
          "name": "stdout",
          "text": [
            "α = 0.25108  (247/501)\n",
            "α = 0.25108  (247/501)\n",
            "α = 0.25108  (247/501)\n",
            "α = 0.25108  (247/501)\n",
            "α = 0.25108  (247/501)\n",
            "α = 0.25108  (247/501)\n",
            "α = 0.25108  (247/501)\n"
          ]
        },
        {
          "output_type": "stream",
          "name": "stderr",
          "text": [
            "INFO:sweep:α = 0.25108  (247/501)\n"
          ]
        },
        {
          "output_type": "stream",
          "name": "stdout",
          "text": [
            "α = 0.25206  (248/501)\n",
            "α = 0.25206  (248/501)\n",
            "α = 0.25206  (248/501)\n",
            "α = 0.25206  (248/501)\n",
            "α = 0.25206  (248/501)\n",
            "α = 0.25206  (248/501)\n",
            "α = 0.25206  (248/501)\n"
          ]
        },
        {
          "output_type": "stream",
          "name": "stderr",
          "text": [
            "INFO:sweep:α = 0.25206  (248/501)\n"
          ]
        },
        {
          "output_type": "stream",
          "name": "stdout",
          "text": [
            "α = 0.25304  (249/501)\n",
            "α = 0.25304  (249/501)\n",
            "α = 0.25304  (249/501)\n",
            "α = 0.25304  (249/501)\n",
            "α = 0.25304  (249/501)\n",
            "α = 0.25304  (249/501)\n",
            "α = 0.25304  (249/501)\n"
          ]
        },
        {
          "output_type": "stream",
          "name": "stderr",
          "text": [
            "INFO:sweep:α = 0.25304  (249/501)\n"
          ]
        },
        {
          "output_type": "stream",
          "name": "stdout",
          "text": [
            "α = 0.25402  (250/501)\n",
            "α = 0.25402  (250/501)\n",
            "α = 0.25402  (250/501)\n",
            "α = 0.25402  (250/501)\n",
            "α = 0.25402  (250/501)\n",
            "α = 0.25402  (250/501)\n",
            "α = 0.25402  (250/501)\n"
          ]
        },
        {
          "output_type": "stream",
          "name": "stderr",
          "text": [
            "INFO:sweep:α = 0.25402  (250/501)\n"
          ]
        },
        {
          "output_type": "stream",
          "name": "stdout",
          "text": [
            "α = 0.25500  (251/501)\n",
            "α = 0.25500  (251/501)\n",
            "α = 0.25500  (251/501)\n",
            "α = 0.25500  (251/501)\n",
            "α = 0.25500  (251/501)\n",
            "α = 0.25500  (251/501)\n",
            "α = 0.25500  (251/501)\n"
          ]
        },
        {
          "output_type": "stream",
          "name": "stderr",
          "text": [
            "INFO:sweep:α = 0.25500  (251/501)\n"
          ]
        },
        {
          "output_type": "stream",
          "name": "stdout",
          "text": [
            "α = 0.25598  (252/501)\n",
            "α = 0.25598  (252/501)\n",
            "α = 0.25598  (252/501)\n",
            "α = 0.25598  (252/501)\n",
            "α = 0.25598  (252/501)\n",
            "α = 0.25598  (252/501)\n",
            "α = 0.25598  (252/501)\n"
          ]
        },
        {
          "output_type": "stream",
          "name": "stderr",
          "text": [
            "INFO:sweep:α = 0.25598  (252/501)\n"
          ]
        },
        {
          "output_type": "stream",
          "name": "stdout",
          "text": [
            "α = 0.25696  (253/501)\n",
            "α = 0.25696  (253/501)\n",
            "α = 0.25696  (253/501)\n",
            "α = 0.25696  (253/501)\n",
            "α = 0.25696  (253/501)\n",
            "α = 0.25696  (253/501)\n",
            "α = 0.25696  (253/501)\n"
          ]
        },
        {
          "output_type": "stream",
          "name": "stderr",
          "text": [
            "INFO:sweep:α = 0.25696  (253/501)\n"
          ]
        },
        {
          "output_type": "stream",
          "name": "stdout",
          "text": [
            "α = 0.25794  (254/501)\n",
            "α = 0.25794  (254/501)\n",
            "α = 0.25794  (254/501)\n",
            "α = 0.25794  (254/501)\n",
            "α = 0.25794  (254/501)\n",
            "α = 0.25794  (254/501)\n",
            "α = 0.25794  (254/501)\n"
          ]
        },
        {
          "output_type": "stream",
          "name": "stderr",
          "text": [
            "INFO:sweep:α = 0.25794  (254/501)\n"
          ]
        },
        {
          "output_type": "stream",
          "name": "stdout",
          "text": [
            "α = 0.25892  (255/501)\n",
            "α = 0.25892  (255/501)\n",
            "α = 0.25892  (255/501)\n",
            "α = 0.25892  (255/501)\n",
            "α = 0.25892  (255/501)\n",
            "α = 0.25892  (255/501)\n",
            "α = 0.25892  (255/501)\n"
          ]
        },
        {
          "output_type": "stream",
          "name": "stderr",
          "text": [
            "INFO:sweep:α = 0.25892  (255/501)\n"
          ]
        },
        {
          "output_type": "stream",
          "name": "stdout",
          "text": [
            "α = 0.25990  (256/501)\n",
            "α = 0.25990  (256/501)\n",
            "α = 0.25990  (256/501)\n",
            "α = 0.25990  (256/501)\n",
            "α = 0.25990  (256/501)\n",
            "α = 0.25990  (256/501)\n",
            "α = 0.25990  (256/501)\n"
          ]
        },
        {
          "output_type": "stream",
          "name": "stderr",
          "text": [
            "INFO:sweep:α = 0.25990  (256/501)\n"
          ]
        },
        {
          "output_type": "stream",
          "name": "stdout",
          "text": [
            "α = 0.26088  (257/501)\n",
            "α = 0.26088  (257/501)\n",
            "α = 0.26088  (257/501)\n",
            "α = 0.26088  (257/501)\n",
            "α = 0.26088  (257/501)\n",
            "α = 0.26088  (257/501)\n",
            "α = 0.26088  (257/501)\n"
          ]
        },
        {
          "output_type": "stream",
          "name": "stderr",
          "text": [
            "INFO:sweep:α = 0.26088  (257/501)\n"
          ]
        },
        {
          "output_type": "stream",
          "name": "stdout",
          "text": [
            "α = 0.26186  (258/501)\n",
            "α = 0.26186  (258/501)\n",
            "α = 0.26186  (258/501)\n",
            "α = 0.26186  (258/501)\n",
            "α = 0.26186  (258/501)\n",
            "α = 0.26186  (258/501)\n",
            "α = 0.26186  (258/501)\n"
          ]
        },
        {
          "output_type": "stream",
          "name": "stderr",
          "text": [
            "INFO:sweep:α = 0.26186  (258/501)\n"
          ]
        },
        {
          "output_type": "stream",
          "name": "stdout",
          "text": [
            "α = 0.26284  (259/501)\n",
            "α = 0.26284  (259/501)\n",
            "α = 0.26284  (259/501)\n",
            "α = 0.26284  (259/501)\n",
            "α = 0.26284  (259/501)\n",
            "α = 0.26284  (259/501)\n",
            "α = 0.26284  (259/501)\n"
          ]
        },
        {
          "output_type": "stream",
          "name": "stderr",
          "text": [
            "INFO:sweep:α = 0.26284  (259/501)\n"
          ]
        },
        {
          "output_type": "stream",
          "name": "stdout",
          "text": [
            "α = 0.26382  (260/501)\n",
            "α = 0.26382  (260/501)\n",
            "α = 0.26382  (260/501)\n",
            "α = 0.26382  (260/501)\n",
            "α = 0.26382  (260/501)\n",
            "α = 0.26382  (260/501)\n",
            "α = 0.26382  (260/501)\n"
          ]
        },
        {
          "output_type": "stream",
          "name": "stderr",
          "text": [
            "INFO:sweep:α = 0.26382  (260/501)\n"
          ]
        },
        {
          "output_type": "stream",
          "name": "stdout",
          "text": [
            "α = 0.26480  (261/501)\n",
            "α = 0.26480  (261/501)\n",
            "α = 0.26480  (261/501)\n",
            "α = 0.26480  (261/501)\n",
            "α = 0.26480  (261/501)\n",
            "α = 0.26480  (261/501)\n",
            "α = 0.26480  (261/501)\n"
          ]
        },
        {
          "output_type": "stream",
          "name": "stderr",
          "text": [
            "INFO:sweep:α = 0.26480  (261/501)\n"
          ]
        },
        {
          "output_type": "stream",
          "name": "stdout",
          "text": [
            "α = 0.26578  (262/501)\n",
            "α = 0.26578  (262/501)\n",
            "α = 0.26578  (262/501)\n",
            "α = 0.26578  (262/501)\n",
            "α = 0.26578  (262/501)\n",
            "α = 0.26578  (262/501)\n",
            "α = 0.26578  (262/501)\n"
          ]
        },
        {
          "output_type": "stream",
          "name": "stderr",
          "text": [
            "INFO:sweep:α = 0.26578  (262/501)\n"
          ]
        },
        {
          "output_type": "stream",
          "name": "stdout",
          "text": [
            "α = 0.26676  (263/501)\n",
            "α = 0.26676  (263/501)\n",
            "α = 0.26676  (263/501)\n",
            "α = 0.26676  (263/501)\n",
            "α = 0.26676  (263/501)\n",
            "α = 0.26676  (263/501)\n",
            "α = 0.26676  (263/501)\n"
          ]
        },
        {
          "output_type": "stream",
          "name": "stderr",
          "text": [
            "INFO:sweep:α = 0.26676  (263/501)\n"
          ]
        },
        {
          "output_type": "stream",
          "name": "stdout",
          "text": [
            "α = 0.26774  (264/501)\n",
            "α = 0.26774  (264/501)\n",
            "α = 0.26774  (264/501)\n",
            "α = 0.26774  (264/501)\n",
            "α = 0.26774  (264/501)\n",
            "α = 0.26774  (264/501)\n",
            "α = 0.26774  (264/501)\n"
          ]
        },
        {
          "output_type": "stream",
          "name": "stderr",
          "text": [
            "INFO:sweep:α = 0.26774  (264/501)\n"
          ]
        },
        {
          "output_type": "stream",
          "name": "stdout",
          "text": [
            "α = 0.26872  (265/501)\n",
            "α = 0.26872  (265/501)\n",
            "α = 0.26872  (265/501)\n",
            "α = 0.26872  (265/501)\n",
            "α = 0.26872  (265/501)\n",
            "α = 0.26872  (265/501)\n",
            "α = 0.26872  (265/501)\n"
          ]
        },
        {
          "output_type": "stream",
          "name": "stderr",
          "text": [
            "INFO:sweep:α = 0.26872  (265/501)\n"
          ]
        },
        {
          "output_type": "stream",
          "name": "stdout",
          "text": [
            "α = 0.26970  (266/501)\n",
            "α = 0.26970  (266/501)\n",
            "α = 0.26970  (266/501)\n",
            "α = 0.26970  (266/501)\n",
            "α = 0.26970  (266/501)\n",
            "α = 0.26970  (266/501)\n",
            "α = 0.26970  (266/501)\n"
          ]
        },
        {
          "output_type": "stream",
          "name": "stderr",
          "text": [
            "INFO:sweep:α = 0.26970  (266/501)\n"
          ]
        },
        {
          "output_type": "stream",
          "name": "stdout",
          "text": [
            "α = 0.27068  (267/501)\n",
            "α = 0.27068  (267/501)\n",
            "α = 0.27068  (267/501)\n",
            "α = 0.27068  (267/501)\n",
            "α = 0.27068  (267/501)\n",
            "α = 0.27068  (267/501)\n",
            "α = 0.27068  (267/501)\n"
          ]
        },
        {
          "output_type": "stream",
          "name": "stderr",
          "text": [
            "INFO:sweep:α = 0.27068  (267/501)\n"
          ]
        },
        {
          "output_type": "stream",
          "name": "stdout",
          "text": [
            "α = 0.27166  (268/501)\n",
            "α = 0.27166  (268/501)\n",
            "α = 0.27166  (268/501)\n",
            "α = 0.27166  (268/501)\n",
            "α = 0.27166  (268/501)\n",
            "α = 0.27166  (268/501)\n",
            "α = 0.27166  (268/501)\n"
          ]
        },
        {
          "output_type": "stream",
          "name": "stderr",
          "text": [
            "INFO:sweep:α = 0.27166  (268/501)\n"
          ]
        },
        {
          "output_type": "stream",
          "name": "stdout",
          "text": [
            "α = 0.27264  (269/501)\n",
            "α = 0.27264  (269/501)\n",
            "α = 0.27264  (269/501)\n",
            "α = 0.27264  (269/501)\n",
            "α = 0.27264  (269/501)\n",
            "α = 0.27264  (269/501)\n",
            "α = 0.27264  (269/501)\n"
          ]
        },
        {
          "output_type": "stream",
          "name": "stderr",
          "text": [
            "INFO:sweep:α = 0.27264  (269/501)\n"
          ]
        },
        {
          "output_type": "stream",
          "name": "stdout",
          "text": [
            "α = 0.27362  (270/501)\n",
            "α = 0.27362  (270/501)\n",
            "α = 0.27362  (270/501)\n",
            "α = 0.27362  (270/501)\n",
            "α = 0.27362  (270/501)\n",
            "α = 0.27362  (270/501)\n",
            "α = 0.27362  (270/501)\n"
          ]
        },
        {
          "output_type": "stream",
          "name": "stderr",
          "text": [
            "INFO:sweep:α = 0.27362  (270/501)\n"
          ]
        },
        {
          "output_type": "stream",
          "name": "stdout",
          "text": [
            "α = 0.27460  (271/501)\n",
            "α = 0.27460  (271/501)\n",
            "α = 0.27460  (271/501)\n",
            "α = 0.27460  (271/501)\n",
            "α = 0.27460  (271/501)\n",
            "α = 0.27460  (271/501)\n",
            "α = 0.27460  (271/501)\n"
          ]
        },
        {
          "output_type": "stream",
          "name": "stderr",
          "text": [
            "INFO:sweep:α = 0.27460  (271/501)\n"
          ]
        },
        {
          "output_type": "stream",
          "name": "stdout",
          "text": [
            "α = 0.27558  (272/501)\n",
            "α = 0.27558  (272/501)\n",
            "α = 0.27558  (272/501)\n",
            "α = 0.27558  (272/501)\n",
            "α = 0.27558  (272/501)\n",
            "α = 0.27558  (272/501)\n",
            "α = 0.27558  (272/501)\n"
          ]
        },
        {
          "output_type": "stream",
          "name": "stderr",
          "text": [
            "INFO:sweep:α = 0.27558  (272/501)\n"
          ]
        },
        {
          "output_type": "stream",
          "name": "stdout",
          "text": [
            "α = 0.27656  (273/501)\n",
            "α = 0.27656  (273/501)\n",
            "α = 0.27656  (273/501)\n",
            "α = 0.27656  (273/501)\n",
            "α = 0.27656  (273/501)\n",
            "α = 0.27656  (273/501)\n",
            "α = 0.27656  (273/501)\n"
          ]
        },
        {
          "output_type": "stream",
          "name": "stderr",
          "text": [
            "INFO:sweep:α = 0.27656  (273/501)\n"
          ]
        },
        {
          "output_type": "stream",
          "name": "stdout",
          "text": [
            "α = 0.27754  (274/501)\n",
            "α = 0.27754  (274/501)\n",
            "α = 0.27754  (274/501)\n",
            "α = 0.27754  (274/501)\n",
            "α = 0.27754  (274/501)\n",
            "α = 0.27754  (274/501)\n",
            "α = 0.27754  (274/501)\n"
          ]
        },
        {
          "output_type": "stream",
          "name": "stderr",
          "text": [
            "INFO:sweep:α = 0.27754  (274/501)\n"
          ]
        },
        {
          "output_type": "stream",
          "name": "stdout",
          "text": [
            "α = 0.27852  (275/501)\n",
            "α = 0.27852  (275/501)\n",
            "α = 0.27852  (275/501)\n",
            "α = 0.27852  (275/501)\n",
            "α = 0.27852  (275/501)\n",
            "α = 0.27852  (275/501)\n",
            "α = 0.27852  (275/501)\n"
          ]
        },
        {
          "output_type": "stream",
          "name": "stderr",
          "text": [
            "INFO:sweep:α = 0.27852  (275/501)\n"
          ]
        },
        {
          "output_type": "stream",
          "name": "stdout",
          "text": [
            "α = 0.27950  (276/501)\n",
            "α = 0.27950  (276/501)\n",
            "α = 0.27950  (276/501)\n",
            "α = 0.27950  (276/501)\n",
            "α = 0.27950  (276/501)\n",
            "α = 0.27950  (276/501)\n",
            "α = 0.27950  (276/501)\n"
          ]
        },
        {
          "output_type": "stream",
          "name": "stderr",
          "text": [
            "INFO:sweep:α = 0.27950  (276/501)\n"
          ]
        },
        {
          "output_type": "stream",
          "name": "stdout",
          "text": [
            "α = 0.28048  (277/501)\n",
            "α = 0.28048  (277/501)\n",
            "α = 0.28048  (277/501)\n",
            "α = 0.28048  (277/501)\n",
            "α = 0.28048  (277/501)\n",
            "α = 0.28048  (277/501)\n",
            "α = 0.28048  (277/501)\n"
          ]
        },
        {
          "output_type": "stream",
          "name": "stderr",
          "text": [
            "INFO:sweep:α = 0.28048  (277/501)\n"
          ]
        },
        {
          "output_type": "stream",
          "name": "stdout",
          "text": [
            "α = 0.28146  (278/501)\n",
            "α = 0.28146  (278/501)\n",
            "α = 0.28146  (278/501)\n",
            "α = 0.28146  (278/501)\n",
            "α = 0.28146  (278/501)\n",
            "α = 0.28146  (278/501)\n",
            "α = 0.28146  (278/501)\n"
          ]
        },
        {
          "output_type": "stream",
          "name": "stderr",
          "text": [
            "INFO:sweep:α = 0.28146  (278/501)\n"
          ]
        },
        {
          "output_type": "stream",
          "name": "stdout",
          "text": [
            "α = 0.28244  (279/501)\n",
            "α = 0.28244  (279/501)\n",
            "α = 0.28244  (279/501)\n",
            "α = 0.28244  (279/501)\n",
            "α = 0.28244  (279/501)\n",
            "α = 0.28244  (279/501)\n",
            "α = 0.28244  (279/501)\n"
          ]
        },
        {
          "output_type": "stream",
          "name": "stderr",
          "text": [
            "INFO:sweep:α = 0.28244  (279/501)\n"
          ]
        },
        {
          "output_type": "stream",
          "name": "stdout",
          "text": [
            "α = 0.28342  (280/501)\n",
            "α = 0.28342  (280/501)\n",
            "α = 0.28342  (280/501)\n",
            "α = 0.28342  (280/501)\n",
            "α = 0.28342  (280/501)\n",
            "α = 0.28342  (280/501)\n",
            "α = 0.28342  (280/501)\n"
          ]
        },
        {
          "output_type": "stream",
          "name": "stderr",
          "text": [
            "INFO:sweep:α = 0.28342  (280/501)\n"
          ]
        },
        {
          "output_type": "stream",
          "name": "stdout",
          "text": [
            "α = 0.28440  (281/501)\n",
            "α = 0.28440  (281/501)\n",
            "α = 0.28440  (281/501)\n",
            "α = 0.28440  (281/501)\n",
            "α = 0.28440  (281/501)\n",
            "α = 0.28440  (281/501)\n",
            "α = 0.28440  (281/501)\n"
          ]
        },
        {
          "output_type": "stream",
          "name": "stderr",
          "text": [
            "INFO:sweep:α = 0.28440  (281/501)\n"
          ]
        },
        {
          "output_type": "stream",
          "name": "stdout",
          "text": [
            "α = 0.28538  (282/501)\n",
            "α = 0.28538  (282/501)\n",
            "α = 0.28538  (282/501)\n",
            "α = 0.28538  (282/501)\n",
            "α = 0.28538  (282/501)\n",
            "α = 0.28538  (282/501)\n",
            "α = 0.28538  (282/501)\n"
          ]
        },
        {
          "output_type": "stream",
          "name": "stderr",
          "text": [
            "INFO:sweep:α = 0.28538  (282/501)\n"
          ]
        },
        {
          "output_type": "stream",
          "name": "stdout",
          "text": [
            "α = 0.28636  (283/501)\n",
            "α = 0.28636  (283/501)\n",
            "α = 0.28636  (283/501)\n",
            "α = 0.28636  (283/501)\n",
            "α = 0.28636  (283/501)\n",
            "α = 0.28636  (283/501)\n",
            "α = 0.28636  (283/501)\n"
          ]
        },
        {
          "output_type": "stream",
          "name": "stderr",
          "text": [
            "INFO:sweep:α = 0.28636  (283/501)\n"
          ]
        },
        {
          "output_type": "stream",
          "name": "stdout",
          "text": [
            "α = 0.28734  (284/501)\n",
            "α = 0.28734  (284/501)\n",
            "α = 0.28734  (284/501)\n",
            "α = 0.28734  (284/501)\n",
            "α = 0.28734  (284/501)\n",
            "α = 0.28734  (284/501)\n",
            "α = 0.28734  (284/501)\n"
          ]
        },
        {
          "output_type": "stream",
          "name": "stderr",
          "text": [
            "INFO:sweep:α = 0.28734  (284/501)\n"
          ]
        },
        {
          "output_type": "stream",
          "name": "stdout",
          "text": [
            "α = 0.28832  (285/501)\n",
            "α = 0.28832  (285/501)\n",
            "α = 0.28832  (285/501)\n",
            "α = 0.28832  (285/501)\n",
            "α = 0.28832  (285/501)\n",
            "α = 0.28832  (285/501)\n",
            "α = 0.28832  (285/501)\n"
          ]
        },
        {
          "output_type": "stream",
          "name": "stderr",
          "text": [
            "INFO:sweep:α = 0.28832  (285/501)\n"
          ]
        },
        {
          "output_type": "stream",
          "name": "stdout",
          "text": [
            "α = 0.28930  (286/501)\n",
            "α = 0.28930  (286/501)\n",
            "α = 0.28930  (286/501)\n",
            "α = 0.28930  (286/501)\n",
            "α = 0.28930  (286/501)\n",
            "α = 0.28930  (286/501)\n",
            "α = 0.28930  (286/501)\n"
          ]
        },
        {
          "output_type": "stream",
          "name": "stderr",
          "text": [
            "INFO:sweep:α = 0.28930  (286/501)\n"
          ]
        },
        {
          "output_type": "stream",
          "name": "stdout",
          "text": [
            "α = 0.29028  (287/501)\n",
            "α = 0.29028  (287/501)\n",
            "α = 0.29028  (287/501)\n",
            "α = 0.29028  (287/501)\n",
            "α = 0.29028  (287/501)\n",
            "α = 0.29028  (287/501)\n",
            "α = 0.29028  (287/501)\n"
          ]
        },
        {
          "output_type": "stream",
          "name": "stderr",
          "text": [
            "INFO:sweep:α = 0.29028  (287/501)\n"
          ]
        },
        {
          "output_type": "stream",
          "name": "stdout",
          "text": [
            "α = 0.29126  (288/501)\n",
            "α = 0.29126  (288/501)\n",
            "α = 0.29126  (288/501)\n",
            "α = 0.29126  (288/501)\n",
            "α = 0.29126  (288/501)\n",
            "α = 0.29126  (288/501)\n",
            "α = 0.29126  (288/501)\n"
          ]
        },
        {
          "output_type": "stream",
          "name": "stderr",
          "text": [
            "INFO:sweep:α = 0.29126  (288/501)\n"
          ]
        },
        {
          "output_type": "stream",
          "name": "stdout",
          "text": [
            "α = 0.29224  (289/501)\n",
            "α = 0.29224  (289/501)\n",
            "α = 0.29224  (289/501)\n",
            "α = 0.29224  (289/501)\n",
            "α = 0.29224  (289/501)\n",
            "α = 0.29224  (289/501)\n",
            "α = 0.29224  (289/501)\n"
          ]
        },
        {
          "output_type": "stream",
          "name": "stderr",
          "text": [
            "INFO:sweep:α = 0.29224  (289/501)\n"
          ]
        },
        {
          "output_type": "stream",
          "name": "stdout",
          "text": [
            "α = 0.29322  (290/501)\n",
            "α = 0.29322  (290/501)\n",
            "α = 0.29322  (290/501)\n",
            "α = 0.29322  (290/501)\n",
            "α = 0.29322  (290/501)\n",
            "α = 0.29322  (290/501)\n",
            "α = 0.29322  (290/501)\n"
          ]
        },
        {
          "output_type": "stream",
          "name": "stderr",
          "text": [
            "INFO:sweep:α = 0.29322  (290/501)\n"
          ]
        },
        {
          "output_type": "stream",
          "name": "stdout",
          "text": [
            "α = 0.29420  (291/501)\n",
            "α = 0.29420  (291/501)\n",
            "α = 0.29420  (291/501)\n",
            "α = 0.29420  (291/501)\n",
            "α = 0.29420  (291/501)\n",
            "α = 0.29420  (291/501)\n",
            "α = 0.29420  (291/501)\n"
          ]
        },
        {
          "output_type": "stream",
          "name": "stderr",
          "text": [
            "INFO:sweep:α = 0.29420  (291/501)\n"
          ]
        },
        {
          "output_type": "stream",
          "name": "stdout",
          "text": [
            "α = 0.29518  (292/501)\n",
            "α = 0.29518  (292/501)\n",
            "α = 0.29518  (292/501)\n",
            "α = 0.29518  (292/501)\n",
            "α = 0.29518  (292/501)\n",
            "α = 0.29518  (292/501)\n",
            "α = 0.29518  (292/501)\n"
          ]
        },
        {
          "output_type": "stream",
          "name": "stderr",
          "text": [
            "INFO:sweep:α = 0.29518  (292/501)\n"
          ]
        },
        {
          "output_type": "stream",
          "name": "stdout",
          "text": [
            "α = 0.29616  (293/501)\n",
            "α = 0.29616  (293/501)\n",
            "α = 0.29616  (293/501)\n",
            "α = 0.29616  (293/501)\n",
            "α = 0.29616  (293/501)\n",
            "α = 0.29616  (293/501)\n",
            "α = 0.29616  (293/501)\n"
          ]
        },
        {
          "output_type": "stream",
          "name": "stderr",
          "text": [
            "INFO:sweep:α = 0.29616  (293/501)\n"
          ]
        },
        {
          "output_type": "stream",
          "name": "stdout",
          "text": [
            "α = 0.29714  (294/501)\n",
            "α = 0.29714  (294/501)\n",
            "α = 0.29714  (294/501)\n",
            "α = 0.29714  (294/501)\n",
            "α = 0.29714  (294/501)\n",
            "α = 0.29714  (294/501)\n",
            "α = 0.29714  (294/501)\n"
          ]
        },
        {
          "output_type": "stream",
          "name": "stderr",
          "text": [
            "INFO:sweep:α = 0.29714  (294/501)\n"
          ]
        },
        {
          "output_type": "stream",
          "name": "stdout",
          "text": [
            "α = 0.29812  (295/501)\n",
            "α = 0.29812  (295/501)\n",
            "α = 0.29812  (295/501)\n",
            "α = 0.29812  (295/501)\n",
            "α = 0.29812  (295/501)\n",
            "α = 0.29812  (295/501)\n",
            "α = 0.29812  (295/501)\n"
          ]
        },
        {
          "output_type": "stream",
          "name": "stderr",
          "text": [
            "INFO:sweep:α = 0.29812  (295/501)\n"
          ]
        },
        {
          "output_type": "stream",
          "name": "stdout",
          "text": [
            "α = 0.29910  (296/501)\n",
            "α = 0.29910  (296/501)\n",
            "α = 0.29910  (296/501)\n",
            "α = 0.29910  (296/501)\n",
            "α = 0.29910  (296/501)\n",
            "α = 0.29910  (296/501)\n",
            "α = 0.29910  (296/501)\n"
          ]
        },
        {
          "output_type": "stream",
          "name": "stderr",
          "text": [
            "INFO:sweep:α = 0.29910  (296/501)\n"
          ]
        },
        {
          "output_type": "stream",
          "name": "stdout",
          "text": [
            "α = 0.30008  (297/501)\n",
            "α = 0.30008  (297/501)\n",
            "α = 0.30008  (297/501)\n",
            "α = 0.30008  (297/501)\n",
            "α = 0.30008  (297/501)\n",
            "α = 0.30008  (297/501)\n",
            "α = 0.30008  (297/501)\n"
          ]
        },
        {
          "output_type": "stream",
          "name": "stderr",
          "text": [
            "INFO:sweep:α = 0.30008  (297/501)\n"
          ]
        },
        {
          "output_type": "stream",
          "name": "stdout",
          "text": [
            "α = 0.30106  (298/501)\n",
            "α = 0.30106  (298/501)\n",
            "α = 0.30106  (298/501)\n",
            "α = 0.30106  (298/501)\n",
            "α = 0.30106  (298/501)\n",
            "α = 0.30106  (298/501)\n",
            "α = 0.30106  (298/501)\n"
          ]
        },
        {
          "output_type": "stream",
          "name": "stderr",
          "text": [
            "INFO:sweep:α = 0.30106  (298/501)\n"
          ]
        },
        {
          "output_type": "stream",
          "name": "stdout",
          "text": [
            "α = 0.30204  (299/501)\n",
            "α = 0.30204  (299/501)\n",
            "α = 0.30204  (299/501)\n",
            "α = 0.30204  (299/501)\n",
            "α = 0.30204  (299/501)\n",
            "α = 0.30204  (299/501)\n",
            "α = 0.30204  (299/501)\n"
          ]
        },
        {
          "output_type": "stream",
          "name": "stderr",
          "text": [
            "INFO:sweep:α = 0.30204  (299/501)\n"
          ]
        },
        {
          "output_type": "stream",
          "name": "stdout",
          "text": [
            "α = 0.30302  (300/501)\n",
            "α = 0.30302  (300/501)\n",
            "α = 0.30302  (300/501)\n",
            "α = 0.30302  (300/501)\n",
            "α = 0.30302  (300/501)\n",
            "α = 0.30302  (300/501)\n",
            "α = 0.30302  (300/501)\n"
          ]
        },
        {
          "output_type": "stream",
          "name": "stderr",
          "text": [
            "INFO:sweep:α = 0.30302  (300/501)\n"
          ]
        },
        {
          "output_type": "stream",
          "name": "stdout",
          "text": [
            "α = 0.30400  (301/501)\n",
            "α = 0.30400  (301/501)\n",
            "α = 0.30400  (301/501)\n",
            "α = 0.30400  (301/501)\n",
            "α = 0.30400  (301/501)\n",
            "α = 0.30400  (301/501)\n",
            "α = 0.30400  (301/501)\n"
          ]
        },
        {
          "output_type": "stream",
          "name": "stderr",
          "text": [
            "INFO:sweep:α = 0.30400  (301/501)\n"
          ]
        },
        {
          "output_type": "stream",
          "name": "stdout",
          "text": [
            "α = 0.30498  (302/501)\n",
            "α = 0.30498  (302/501)\n",
            "α = 0.30498  (302/501)\n",
            "α = 0.30498  (302/501)\n",
            "α = 0.30498  (302/501)\n",
            "α = 0.30498  (302/501)\n",
            "α = 0.30498  (302/501)\n"
          ]
        },
        {
          "output_type": "stream",
          "name": "stderr",
          "text": [
            "INFO:sweep:α = 0.30498  (302/501)\n"
          ]
        },
        {
          "output_type": "stream",
          "name": "stdout",
          "text": [
            "α = 0.30596  (303/501)\n",
            "α = 0.30596  (303/501)\n",
            "α = 0.30596  (303/501)\n",
            "α = 0.30596  (303/501)\n",
            "α = 0.30596  (303/501)\n",
            "α = 0.30596  (303/501)\n",
            "α = 0.30596  (303/501)\n"
          ]
        },
        {
          "output_type": "stream",
          "name": "stderr",
          "text": [
            "INFO:sweep:α = 0.30596  (303/501)\n"
          ]
        },
        {
          "output_type": "stream",
          "name": "stdout",
          "text": [
            "α = 0.30694  (304/501)\n",
            "α = 0.30694  (304/501)\n",
            "α = 0.30694  (304/501)\n",
            "α = 0.30694  (304/501)\n",
            "α = 0.30694  (304/501)\n",
            "α = 0.30694  (304/501)\n",
            "α = 0.30694  (304/501)\n"
          ]
        },
        {
          "output_type": "stream",
          "name": "stderr",
          "text": [
            "INFO:sweep:α = 0.30694  (304/501)\n"
          ]
        },
        {
          "output_type": "stream",
          "name": "stdout",
          "text": [
            "α = 0.30792  (305/501)\n",
            "α = 0.30792  (305/501)\n",
            "α = 0.30792  (305/501)\n",
            "α = 0.30792  (305/501)\n",
            "α = 0.30792  (305/501)\n",
            "α = 0.30792  (305/501)\n",
            "α = 0.30792  (305/501)\n"
          ]
        },
        {
          "output_type": "stream",
          "name": "stderr",
          "text": [
            "INFO:sweep:α = 0.30792  (305/501)\n"
          ]
        },
        {
          "output_type": "stream",
          "name": "stdout",
          "text": [
            "α = 0.30890  (306/501)\n",
            "α = 0.30890  (306/501)\n",
            "α = 0.30890  (306/501)\n",
            "α = 0.30890  (306/501)\n",
            "α = 0.30890  (306/501)\n",
            "α = 0.30890  (306/501)\n",
            "α = 0.30890  (306/501)\n"
          ]
        },
        {
          "output_type": "stream",
          "name": "stderr",
          "text": [
            "INFO:sweep:α = 0.30890  (306/501)\n"
          ]
        },
        {
          "output_type": "stream",
          "name": "stdout",
          "text": [
            "α = 0.30988  (307/501)\n",
            "α = 0.30988  (307/501)\n",
            "α = 0.30988  (307/501)\n",
            "α = 0.30988  (307/501)\n",
            "α = 0.30988  (307/501)\n",
            "α = 0.30988  (307/501)\n",
            "α = 0.30988  (307/501)\n"
          ]
        },
        {
          "output_type": "stream",
          "name": "stderr",
          "text": [
            "INFO:sweep:α = 0.30988  (307/501)\n"
          ]
        },
        {
          "output_type": "stream",
          "name": "stdout",
          "text": [
            "α = 0.31086  (308/501)\n",
            "α = 0.31086  (308/501)\n",
            "α = 0.31086  (308/501)\n",
            "α = 0.31086  (308/501)\n",
            "α = 0.31086  (308/501)\n",
            "α = 0.31086  (308/501)\n",
            "α = 0.31086  (308/501)\n"
          ]
        },
        {
          "output_type": "stream",
          "name": "stderr",
          "text": [
            "INFO:sweep:α = 0.31086  (308/501)\n"
          ]
        },
        {
          "output_type": "stream",
          "name": "stdout",
          "text": [
            "α = 0.31184  (309/501)\n",
            "α = 0.31184  (309/501)\n",
            "α = 0.31184  (309/501)\n",
            "α = 0.31184  (309/501)\n",
            "α = 0.31184  (309/501)\n",
            "α = 0.31184  (309/501)\n",
            "α = 0.31184  (309/501)\n"
          ]
        },
        {
          "output_type": "stream",
          "name": "stderr",
          "text": [
            "INFO:sweep:α = 0.31184  (309/501)\n"
          ]
        },
        {
          "output_type": "stream",
          "name": "stdout",
          "text": [
            "α = 0.31282  (310/501)\n",
            "α = 0.31282  (310/501)\n",
            "α = 0.31282  (310/501)\n",
            "α = 0.31282  (310/501)\n",
            "α = 0.31282  (310/501)\n",
            "α = 0.31282  (310/501)\n",
            "α = 0.31282  (310/501)\n"
          ]
        },
        {
          "output_type": "stream",
          "name": "stderr",
          "text": [
            "INFO:sweep:α = 0.31282  (310/501)\n"
          ]
        },
        {
          "output_type": "stream",
          "name": "stdout",
          "text": [
            "α = 0.31380  (311/501)\n",
            "α = 0.31380  (311/501)\n",
            "α = 0.31380  (311/501)\n",
            "α = 0.31380  (311/501)\n",
            "α = 0.31380  (311/501)\n",
            "α = 0.31380  (311/501)\n",
            "α = 0.31380  (311/501)\n"
          ]
        },
        {
          "output_type": "stream",
          "name": "stderr",
          "text": [
            "INFO:sweep:α = 0.31380  (311/501)\n"
          ]
        },
        {
          "output_type": "stream",
          "name": "stdout",
          "text": [
            "α = 0.31478  (312/501)\n",
            "α = 0.31478  (312/501)\n",
            "α = 0.31478  (312/501)\n",
            "α = 0.31478  (312/501)\n",
            "α = 0.31478  (312/501)\n",
            "α = 0.31478  (312/501)\n",
            "α = 0.31478  (312/501)\n"
          ]
        },
        {
          "output_type": "stream",
          "name": "stderr",
          "text": [
            "INFO:sweep:α = 0.31478  (312/501)\n"
          ]
        },
        {
          "output_type": "stream",
          "name": "stdout",
          "text": [
            "α = 0.31576  (313/501)\n",
            "α = 0.31576  (313/501)\n",
            "α = 0.31576  (313/501)\n",
            "α = 0.31576  (313/501)\n",
            "α = 0.31576  (313/501)\n",
            "α = 0.31576  (313/501)\n",
            "α = 0.31576  (313/501)\n"
          ]
        },
        {
          "output_type": "stream",
          "name": "stderr",
          "text": [
            "INFO:sweep:α = 0.31576  (313/501)\n"
          ]
        },
        {
          "output_type": "stream",
          "name": "stdout",
          "text": [
            "α = 0.31674  (314/501)\n",
            "α = 0.31674  (314/501)\n",
            "α = 0.31674  (314/501)\n",
            "α = 0.31674  (314/501)\n",
            "α = 0.31674  (314/501)\n",
            "α = 0.31674  (314/501)\n",
            "α = 0.31674  (314/501)\n"
          ]
        },
        {
          "output_type": "stream",
          "name": "stderr",
          "text": [
            "INFO:sweep:α = 0.31674  (314/501)\n"
          ]
        },
        {
          "output_type": "stream",
          "name": "stdout",
          "text": [
            "α = 0.31772  (315/501)\n",
            "α = 0.31772  (315/501)\n",
            "α = 0.31772  (315/501)\n",
            "α = 0.31772  (315/501)\n",
            "α = 0.31772  (315/501)\n",
            "α = 0.31772  (315/501)\n",
            "α = 0.31772  (315/501)\n"
          ]
        },
        {
          "output_type": "stream",
          "name": "stderr",
          "text": [
            "INFO:sweep:α = 0.31772  (315/501)\n"
          ]
        },
        {
          "output_type": "stream",
          "name": "stdout",
          "text": [
            "α = 0.31870  (316/501)\n",
            "α = 0.31870  (316/501)\n",
            "α = 0.31870  (316/501)\n",
            "α = 0.31870  (316/501)\n",
            "α = 0.31870  (316/501)\n",
            "α = 0.31870  (316/501)\n",
            "α = 0.31870  (316/501)\n"
          ]
        },
        {
          "output_type": "stream",
          "name": "stderr",
          "text": [
            "INFO:sweep:α = 0.31870  (316/501)\n"
          ]
        },
        {
          "output_type": "stream",
          "name": "stdout",
          "text": [
            "α = 0.31968  (317/501)\n",
            "α = 0.31968  (317/501)\n",
            "α = 0.31968  (317/501)\n",
            "α = 0.31968  (317/501)\n",
            "α = 0.31968  (317/501)\n",
            "α = 0.31968  (317/501)\n",
            "α = 0.31968  (317/501)\n"
          ]
        },
        {
          "output_type": "stream",
          "name": "stderr",
          "text": [
            "INFO:sweep:α = 0.31968  (317/501)\n"
          ]
        },
        {
          "output_type": "stream",
          "name": "stdout",
          "text": [
            "α = 0.32066  (318/501)\n",
            "α = 0.32066  (318/501)\n",
            "α = 0.32066  (318/501)\n",
            "α = 0.32066  (318/501)\n",
            "α = 0.32066  (318/501)\n",
            "α = 0.32066  (318/501)\n",
            "α = 0.32066  (318/501)\n"
          ]
        },
        {
          "output_type": "stream",
          "name": "stderr",
          "text": [
            "INFO:sweep:α = 0.32066  (318/501)\n"
          ]
        },
        {
          "output_type": "stream",
          "name": "stdout",
          "text": [
            "α = 0.32164  (319/501)\n",
            "α = 0.32164  (319/501)\n",
            "α = 0.32164  (319/501)\n",
            "α = 0.32164  (319/501)\n",
            "α = 0.32164  (319/501)\n",
            "α = 0.32164  (319/501)\n",
            "α = 0.32164  (319/501)\n"
          ]
        },
        {
          "output_type": "stream",
          "name": "stderr",
          "text": [
            "INFO:sweep:α = 0.32164  (319/501)\n"
          ]
        },
        {
          "output_type": "stream",
          "name": "stdout",
          "text": [
            "α = 0.32262  (320/501)\n",
            "α = 0.32262  (320/501)\n",
            "α = 0.32262  (320/501)\n",
            "α = 0.32262  (320/501)\n",
            "α = 0.32262  (320/501)\n",
            "α = 0.32262  (320/501)\n",
            "α = 0.32262  (320/501)\n"
          ]
        },
        {
          "output_type": "stream",
          "name": "stderr",
          "text": [
            "INFO:sweep:α = 0.32262  (320/501)\n"
          ]
        },
        {
          "output_type": "stream",
          "name": "stdout",
          "text": [
            "α = 0.32360  (321/501)\n",
            "α = 0.32360  (321/501)\n",
            "α = 0.32360  (321/501)\n",
            "α = 0.32360  (321/501)\n",
            "α = 0.32360  (321/501)\n",
            "α = 0.32360  (321/501)\n",
            "α = 0.32360  (321/501)\n"
          ]
        },
        {
          "output_type": "stream",
          "name": "stderr",
          "text": [
            "INFO:sweep:α = 0.32360  (321/501)\n"
          ]
        },
        {
          "output_type": "stream",
          "name": "stdout",
          "text": [
            "α = 0.32458  (322/501)\n",
            "α = 0.32458  (322/501)\n",
            "α = 0.32458  (322/501)\n",
            "α = 0.32458  (322/501)\n",
            "α = 0.32458  (322/501)\n",
            "α = 0.32458  (322/501)\n",
            "α = 0.32458  (322/501)\n"
          ]
        },
        {
          "output_type": "stream",
          "name": "stderr",
          "text": [
            "INFO:sweep:α = 0.32458  (322/501)\n"
          ]
        },
        {
          "output_type": "stream",
          "name": "stdout",
          "text": [
            "α = 0.32556  (323/501)\n",
            "α = 0.32556  (323/501)\n",
            "α = 0.32556  (323/501)\n",
            "α = 0.32556  (323/501)\n",
            "α = 0.32556  (323/501)\n",
            "α = 0.32556  (323/501)\n",
            "α = 0.32556  (323/501)\n"
          ]
        },
        {
          "output_type": "stream",
          "name": "stderr",
          "text": [
            "INFO:sweep:α = 0.32556  (323/501)\n"
          ]
        },
        {
          "output_type": "stream",
          "name": "stdout",
          "text": [
            "α = 0.32654  (324/501)\n",
            "α = 0.32654  (324/501)\n",
            "α = 0.32654  (324/501)\n",
            "α = 0.32654  (324/501)\n",
            "α = 0.32654  (324/501)\n",
            "α = 0.32654  (324/501)\n",
            "α = 0.32654  (324/501)\n"
          ]
        },
        {
          "output_type": "stream",
          "name": "stderr",
          "text": [
            "INFO:sweep:α = 0.32654  (324/501)\n"
          ]
        },
        {
          "output_type": "stream",
          "name": "stdout",
          "text": [
            "α = 0.32752  (325/501)\n",
            "α = 0.32752  (325/501)\n",
            "α = 0.32752  (325/501)\n",
            "α = 0.32752  (325/501)\n",
            "α = 0.32752  (325/501)\n",
            "α = 0.32752  (325/501)\n",
            "α = 0.32752  (325/501)\n"
          ]
        },
        {
          "output_type": "stream",
          "name": "stderr",
          "text": [
            "INFO:sweep:α = 0.32752  (325/501)\n"
          ]
        },
        {
          "output_type": "stream",
          "name": "stdout",
          "text": [
            "α = 0.32850  (326/501)\n",
            "α = 0.32850  (326/501)\n",
            "α = 0.32850  (326/501)\n",
            "α = 0.32850  (326/501)\n",
            "α = 0.32850  (326/501)\n",
            "α = 0.32850  (326/501)\n",
            "α = 0.32850  (326/501)\n"
          ]
        },
        {
          "output_type": "stream",
          "name": "stderr",
          "text": [
            "INFO:sweep:α = 0.32850  (326/501)\n"
          ]
        },
        {
          "output_type": "stream",
          "name": "stdout",
          "text": [
            "α = 0.32948  (327/501)\n",
            "α = 0.32948  (327/501)\n",
            "α = 0.32948  (327/501)\n",
            "α = 0.32948  (327/501)\n",
            "α = 0.32948  (327/501)\n",
            "α = 0.32948  (327/501)\n",
            "α = 0.32948  (327/501)\n"
          ]
        },
        {
          "output_type": "stream",
          "name": "stderr",
          "text": [
            "INFO:sweep:α = 0.32948  (327/501)\n"
          ]
        },
        {
          "output_type": "stream",
          "name": "stdout",
          "text": [
            "α = 0.33046  (328/501)\n",
            "α = 0.33046  (328/501)\n",
            "α = 0.33046  (328/501)\n",
            "α = 0.33046  (328/501)\n",
            "α = 0.33046  (328/501)\n",
            "α = 0.33046  (328/501)\n",
            "α = 0.33046  (328/501)\n"
          ]
        },
        {
          "output_type": "stream",
          "name": "stderr",
          "text": [
            "INFO:sweep:α = 0.33046  (328/501)\n"
          ]
        },
        {
          "output_type": "stream",
          "name": "stdout",
          "text": [
            "α = 0.33144  (329/501)\n",
            "α = 0.33144  (329/501)\n",
            "α = 0.33144  (329/501)\n",
            "α = 0.33144  (329/501)\n",
            "α = 0.33144  (329/501)\n",
            "α = 0.33144  (329/501)\n",
            "α = 0.33144  (329/501)\n"
          ]
        },
        {
          "output_type": "stream",
          "name": "stderr",
          "text": [
            "INFO:sweep:α = 0.33144  (329/501)\n"
          ]
        },
        {
          "output_type": "stream",
          "name": "stdout",
          "text": [
            "α = 0.33242  (330/501)\n",
            "α = 0.33242  (330/501)\n",
            "α = 0.33242  (330/501)\n",
            "α = 0.33242  (330/501)\n",
            "α = 0.33242  (330/501)\n",
            "α = 0.33242  (330/501)\n",
            "α = 0.33242  (330/501)\n"
          ]
        },
        {
          "output_type": "stream",
          "name": "stderr",
          "text": [
            "INFO:sweep:α = 0.33242  (330/501)\n"
          ]
        },
        {
          "output_type": "stream",
          "name": "stdout",
          "text": [
            "α = 0.33340  (331/501)\n",
            "α = 0.33340  (331/501)\n",
            "α = 0.33340  (331/501)\n",
            "α = 0.33340  (331/501)\n",
            "α = 0.33340  (331/501)\n",
            "α = 0.33340  (331/501)\n",
            "α = 0.33340  (331/501)\n"
          ]
        },
        {
          "output_type": "stream",
          "name": "stderr",
          "text": [
            "INFO:sweep:α = 0.33340  (331/501)\n"
          ]
        },
        {
          "output_type": "stream",
          "name": "stdout",
          "text": [
            "α = 0.33438  (332/501)\n",
            "α = 0.33438  (332/501)\n",
            "α = 0.33438  (332/501)\n",
            "α = 0.33438  (332/501)\n",
            "α = 0.33438  (332/501)\n",
            "α = 0.33438  (332/501)\n",
            "α = 0.33438  (332/501)\n"
          ]
        },
        {
          "output_type": "stream",
          "name": "stderr",
          "text": [
            "INFO:sweep:α = 0.33438  (332/501)\n"
          ]
        },
        {
          "output_type": "stream",
          "name": "stdout",
          "text": [
            "α = 0.33536  (333/501)\n",
            "α = 0.33536  (333/501)\n",
            "α = 0.33536  (333/501)\n",
            "α = 0.33536  (333/501)\n",
            "α = 0.33536  (333/501)\n",
            "α = 0.33536  (333/501)\n",
            "α = 0.33536  (333/501)\n"
          ]
        },
        {
          "output_type": "stream",
          "name": "stderr",
          "text": [
            "INFO:sweep:α = 0.33536  (333/501)\n"
          ]
        },
        {
          "output_type": "stream",
          "name": "stdout",
          "text": [
            "α = 0.33634  (334/501)\n",
            "α = 0.33634  (334/501)\n",
            "α = 0.33634  (334/501)\n",
            "α = 0.33634  (334/501)\n",
            "α = 0.33634  (334/501)\n",
            "α = 0.33634  (334/501)\n",
            "α = 0.33634  (334/501)\n"
          ]
        },
        {
          "output_type": "stream",
          "name": "stderr",
          "text": [
            "INFO:sweep:α = 0.33634  (334/501)\n"
          ]
        },
        {
          "output_type": "stream",
          "name": "stdout",
          "text": [
            "α = 0.33732  (335/501)\n",
            "α = 0.33732  (335/501)\n",
            "α = 0.33732  (335/501)\n",
            "α = 0.33732  (335/501)\n",
            "α = 0.33732  (335/501)\n",
            "α = 0.33732  (335/501)\n",
            "α = 0.33732  (335/501)\n"
          ]
        },
        {
          "output_type": "stream",
          "name": "stderr",
          "text": [
            "INFO:sweep:α = 0.33732  (335/501)\n"
          ]
        },
        {
          "output_type": "stream",
          "name": "stdout",
          "text": [
            "α = 0.33830  (336/501)\n",
            "α = 0.33830  (336/501)\n",
            "α = 0.33830  (336/501)\n",
            "α = 0.33830  (336/501)\n",
            "α = 0.33830  (336/501)\n",
            "α = 0.33830  (336/501)\n",
            "α = 0.33830  (336/501)\n"
          ]
        },
        {
          "output_type": "stream",
          "name": "stderr",
          "text": [
            "INFO:sweep:α = 0.33830  (336/501)\n"
          ]
        },
        {
          "output_type": "stream",
          "name": "stdout",
          "text": [
            "α = 0.33928  (337/501)\n",
            "α = 0.33928  (337/501)\n",
            "α = 0.33928  (337/501)\n",
            "α = 0.33928  (337/501)\n",
            "α = 0.33928  (337/501)\n",
            "α = 0.33928  (337/501)\n",
            "α = 0.33928  (337/501)\n"
          ]
        },
        {
          "output_type": "stream",
          "name": "stderr",
          "text": [
            "INFO:sweep:α = 0.33928  (337/501)\n"
          ]
        },
        {
          "output_type": "stream",
          "name": "stdout",
          "text": [
            "α = 0.34026  (338/501)\n",
            "α = 0.34026  (338/501)\n",
            "α = 0.34026  (338/501)\n",
            "α = 0.34026  (338/501)\n",
            "α = 0.34026  (338/501)\n",
            "α = 0.34026  (338/501)\n",
            "α = 0.34026  (338/501)\n"
          ]
        },
        {
          "output_type": "stream",
          "name": "stderr",
          "text": [
            "INFO:sweep:α = 0.34026  (338/501)\n"
          ]
        },
        {
          "output_type": "stream",
          "name": "stdout",
          "text": [
            "α = 0.34124  (339/501)\n",
            "α = 0.34124  (339/501)\n",
            "α = 0.34124  (339/501)\n",
            "α = 0.34124  (339/501)\n",
            "α = 0.34124  (339/501)\n",
            "α = 0.34124  (339/501)\n",
            "α = 0.34124  (339/501)\n"
          ]
        },
        {
          "output_type": "stream",
          "name": "stderr",
          "text": [
            "INFO:sweep:α = 0.34124  (339/501)\n"
          ]
        },
        {
          "output_type": "stream",
          "name": "stdout",
          "text": [
            "α = 0.34222  (340/501)\n",
            "α = 0.34222  (340/501)\n",
            "α = 0.34222  (340/501)\n",
            "α = 0.34222  (340/501)\n",
            "α = 0.34222  (340/501)\n",
            "α = 0.34222  (340/501)\n",
            "α = 0.34222  (340/501)\n"
          ]
        },
        {
          "output_type": "stream",
          "name": "stderr",
          "text": [
            "INFO:sweep:α = 0.34222  (340/501)\n"
          ]
        },
        {
          "output_type": "stream",
          "name": "stdout",
          "text": [
            "α = 0.34320  (341/501)\n",
            "α = 0.34320  (341/501)\n",
            "α = 0.34320  (341/501)\n",
            "α = 0.34320  (341/501)\n",
            "α = 0.34320  (341/501)\n",
            "α = 0.34320  (341/501)\n",
            "α = 0.34320  (341/501)\n"
          ]
        },
        {
          "output_type": "stream",
          "name": "stderr",
          "text": [
            "INFO:sweep:α = 0.34320  (341/501)\n"
          ]
        },
        {
          "output_type": "stream",
          "name": "stdout",
          "text": [
            "α = 0.34418  (342/501)\n",
            "α = 0.34418  (342/501)\n",
            "α = 0.34418  (342/501)\n",
            "α = 0.34418  (342/501)\n",
            "α = 0.34418  (342/501)\n",
            "α = 0.34418  (342/501)\n",
            "α = 0.34418  (342/501)\n"
          ]
        },
        {
          "output_type": "stream",
          "name": "stderr",
          "text": [
            "INFO:sweep:α = 0.34418  (342/501)\n"
          ]
        },
        {
          "output_type": "stream",
          "name": "stdout",
          "text": [
            "α = 0.34516  (343/501)\n",
            "α = 0.34516  (343/501)\n",
            "α = 0.34516  (343/501)\n",
            "α = 0.34516  (343/501)\n",
            "α = 0.34516  (343/501)\n",
            "α = 0.34516  (343/501)\n",
            "α = 0.34516  (343/501)\n"
          ]
        },
        {
          "output_type": "stream",
          "name": "stderr",
          "text": [
            "INFO:sweep:α = 0.34516  (343/501)\n"
          ]
        },
        {
          "output_type": "stream",
          "name": "stdout",
          "text": [
            "α = 0.34614  (344/501)\n",
            "α = 0.34614  (344/501)\n",
            "α = 0.34614  (344/501)\n",
            "α = 0.34614  (344/501)\n",
            "α = 0.34614  (344/501)\n",
            "α = 0.34614  (344/501)\n",
            "α = 0.34614  (344/501)\n"
          ]
        },
        {
          "output_type": "stream",
          "name": "stderr",
          "text": [
            "INFO:sweep:α = 0.34614  (344/501)\n"
          ]
        },
        {
          "output_type": "stream",
          "name": "stdout",
          "text": [
            "α = 0.34712  (345/501)\n",
            "α = 0.34712  (345/501)\n",
            "α = 0.34712  (345/501)\n",
            "α = 0.34712  (345/501)\n",
            "α = 0.34712  (345/501)\n",
            "α = 0.34712  (345/501)\n",
            "α = 0.34712  (345/501)\n"
          ]
        },
        {
          "output_type": "stream",
          "name": "stderr",
          "text": [
            "INFO:sweep:α = 0.34712  (345/501)\n"
          ]
        },
        {
          "output_type": "stream",
          "name": "stdout",
          "text": [
            "α = 0.34810  (346/501)\n",
            "α = 0.34810  (346/501)\n",
            "α = 0.34810  (346/501)\n",
            "α = 0.34810  (346/501)\n",
            "α = 0.34810  (346/501)\n",
            "α = 0.34810  (346/501)\n",
            "α = 0.34810  (346/501)\n"
          ]
        },
        {
          "output_type": "stream",
          "name": "stderr",
          "text": [
            "INFO:sweep:α = 0.34810  (346/501)\n"
          ]
        },
        {
          "output_type": "stream",
          "name": "stdout",
          "text": [
            "α = 0.34908  (347/501)\n",
            "α = 0.34908  (347/501)\n",
            "α = 0.34908  (347/501)\n",
            "α = 0.34908  (347/501)\n",
            "α = 0.34908  (347/501)\n",
            "α = 0.34908  (347/501)\n",
            "α = 0.34908  (347/501)\n"
          ]
        },
        {
          "output_type": "stream",
          "name": "stderr",
          "text": [
            "INFO:sweep:α = 0.34908  (347/501)\n"
          ]
        },
        {
          "output_type": "stream",
          "name": "stdout",
          "text": [
            "α = 0.35006  (348/501)\n",
            "α = 0.35006  (348/501)\n",
            "α = 0.35006  (348/501)\n",
            "α = 0.35006  (348/501)\n",
            "α = 0.35006  (348/501)\n",
            "α = 0.35006  (348/501)\n",
            "α = 0.35006  (348/501)\n"
          ]
        },
        {
          "output_type": "stream",
          "name": "stderr",
          "text": [
            "INFO:sweep:α = 0.35006  (348/501)\n"
          ]
        },
        {
          "output_type": "stream",
          "name": "stdout",
          "text": [
            "α = 0.35104  (349/501)\n",
            "α = 0.35104  (349/501)\n",
            "α = 0.35104  (349/501)\n",
            "α = 0.35104  (349/501)\n",
            "α = 0.35104  (349/501)\n",
            "α = 0.35104  (349/501)\n",
            "α = 0.35104  (349/501)\n"
          ]
        },
        {
          "output_type": "stream",
          "name": "stderr",
          "text": [
            "INFO:sweep:α = 0.35104  (349/501)\n"
          ]
        },
        {
          "output_type": "stream",
          "name": "stdout",
          "text": [
            "α = 0.35202  (350/501)\n",
            "α = 0.35202  (350/501)\n",
            "α = 0.35202  (350/501)\n",
            "α = 0.35202  (350/501)\n",
            "α = 0.35202  (350/501)\n",
            "α = 0.35202  (350/501)\n",
            "α = 0.35202  (350/501)\n"
          ]
        },
        {
          "output_type": "stream",
          "name": "stderr",
          "text": [
            "INFO:sweep:α = 0.35202  (350/501)\n"
          ]
        },
        {
          "output_type": "stream",
          "name": "stdout",
          "text": [
            "α = 0.35300  (351/501)\n",
            "α = 0.35300  (351/501)\n",
            "α = 0.35300  (351/501)\n",
            "α = 0.35300  (351/501)\n",
            "α = 0.35300  (351/501)\n",
            "α = 0.35300  (351/501)\n",
            "α = 0.35300  (351/501)\n"
          ]
        },
        {
          "output_type": "stream",
          "name": "stderr",
          "text": [
            "INFO:sweep:α = 0.35300  (351/501)\n"
          ]
        },
        {
          "output_type": "stream",
          "name": "stdout",
          "text": [
            "α = 0.35398  (352/501)\n",
            "α = 0.35398  (352/501)\n",
            "α = 0.35398  (352/501)\n",
            "α = 0.35398  (352/501)\n",
            "α = 0.35398  (352/501)\n",
            "α = 0.35398  (352/501)\n",
            "α = 0.35398  (352/501)\n"
          ]
        },
        {
          "output_type": "stream",
          "name": "stderr",
          "text": [
            "INFO:sweep:α = 0.35398  (352/501)\n"
          ]
        },
        {
          "output_type": "stream",
          "name": "stdout",
          "text": [
            "α = 0.35496  (353/501)\n",
            "α = 0.35496  (353/501)\n",
            "α = 0.35496  (353/501)\n",
            "α = 0.35496  (353/501)\n",
            "α = 0.35496  (353/501)\n",
            "α = 0.35496  (353/501)\n",
            "α = 0.35496  (353/501)\n"
          ]
        },
        {
          "output_type": "stream",
          "name": "stderr",
          "text": [
            "INFO:sweep:α = 0.35496  (353/501)\n"
          ]
        },
        {
          "output_type": "stream",
          "name": "stdout",
          "text": [
            "α = 0.35594  (354/501)\n",
            "α = 0.35594  (354/501)\n",
            "α = 0.35594  (354/501)\n",
            "α = 0.35594  (354/501)\n",
            "α = 0.35594  (354/501)\n",
            "α = 0.35594  (354/501)\n",
            "α = 0.35594  (354/501)\n"
          ]
        },
        {
          "output_type": "stream",
          "name": "stderr",
          "text": [
            "INFO:sweep:α = 0.35594  (354/501)\n"
          ]
        },
        {
          "output_type": "stream",
          "name": "stdout",
          "text": [
            "α = 0.35692  (355/501)\n",
            "α = 0.35692  (355/501)\n",
            "α = 0.35692  (355/501)\n",
            "α = 0.35692  (355/501)\n",
            "α = 0.35692  (355/501)\n",
            "α = 0.35692  (355/501)\n",
            "α = 0.35692  (355/501)\n"
          ]
        },
        {
          "output_type": "stream",
          "name": "stderr",
          "text": [
            "INFO:sweep:α = 0.35692  (355/501)\n"
          ]
        },
        {
          "output_type": "stream",
          "name": "stdout",
          "text": [
            "α = 0.35790  (356/501)\n",
            "α = 0.35790  (356/501)\n",
            "α = 0.35790  (356/501)\n",
            "α = 0.35790  (356/501)\n",
            "α = 0.35790  (356/501)\n",
            "α = 0.35790  (356/501)\n",
            "α = 0.35790  (356/501)\n"
          ]
        },
        {
          "output_type": "stream",
          "name": "stderr",
          "text": [
            "INFO:sweep:α = 0.35790  (356/501)\n"
          ]
        },
        {
          "output_type": "stream",
          "name": "stdout",
          "text": [
            "α = 0.35888  (357/501)\n",
            "α = 0.35888  (357/501)\n",
            "α = 0.35888  (357/501)\n",
            "α = 0.35888  (357/501)\n",
            "α = 0.35888  (357/501)\n",
            "α = 0.35888  (357/501)\n",
            "α = 0.35888  (357/501)\n"
          ]
        },
        {
          "output_type": "stream",
          "name": "stderr",
          "text": [
            "INFO:sweep:α = 0.35888  (357/501)\n"
          ]
        },
        {
          "output_type": "stream",
          "name": "stdout",
          "text": [
            "α = 0.35986  (358/501)\n",
            "α = 0.35986  (358/501)\n",
            "α = 0.35986  (358/501)\n",
            "α = 0.35986  (358/501)\n",
            "α = 0.35986  (358/501)\n",
            "α = 0.35986  (358/501)\n",
            "α = 0.35986  (358/501)\n"
          ]
        },
        {
          "output_type": "stream",
          "name": "stderr",
          "text": [
            "INFO:sweep:α = 0.35986  (358/501)\n"
          ]
        },
        {
          "output_type": "stream",
          "name": "stdout",
          "text": [
            "α = 0.36084  (359/501)\n",
            "α = 0.36084  (359/501)\n",
            "α = 0.36084  (359/501)\n",
            "α = 0.36084  (359/501)\n",
            "α = 0.36084  (359/501)\n",
            "α = 0.36084  (359/501)\n",
            "α = 0.36084  (359/501)\n"
          ]
        },
        {
          "output_type": "stream",
          "name": "stderr",
          "text": [
            "INFO:sweep:α = 0.36084  (359/501)\n"
          ]
        },
        {
          "output_type": "stream",
          "name": "stdout",
          "text": [
            "α = 0.36182  (360/501)\n",
            "α = 0.36182  (360/501)\n",
            "α = 0.36182  (360/501)\n",
            "α = 0.36182  (360/501)\n",
            "α = 0.36182  (360/501)\n",
            "α = 0.36182  (360/501)\n",
            "α = 0.36182  (360/501)\n"
          ]
        },
        {
          "output_type": "stream",
          "name": "stderr",
          "text": [
            "INFO:sweep:α = 0.36182  (360/501)\n"
          ]
        },
        {
          "output_type": "stream",
          "name": "stdout",
          "text": [
            "α = 0.36280  (361/501)\n",
            "α = 0.36280  (361/501)\n",
            "α = 0.36280  (361/501)\n",
            "α = 0.36280  (361/501)\n",
            "α = 0.36280  (361/501)\n",
            "α = 0.36280  (361/501)\n",
            "α = 0.36280  (361/501)\n"
          ]
        },
        {
          "output_type": "stream",
          "name": "stderr",
          "text": [
            "INFO:sweep:α = 0.36280  (361/501)\n"
          ]
        },
        {
          "output_type": "stream",
          "name": "stdout",
          "text": [
            "α = 0.36378  (362/501)\n",
            "α = 0.36378  (362/501)\n",
            "α = 0.36378  (362/501)\n",
            "α = 0.36378  (362/501)\n",
            "α = 0.36378  (362/501)\n",
            "α = 0.36378  (362/501)\n",
            "α = 0.36378  (362/501)\n"
          ]
        },
        {
          "output_type": "stream",
          "name": "stderr",
          "text": [
            "INFO:sweep:α = 0.36378  (362/501)\n"
          ]
        },
        {
          "output_type": "stream",
          "name": "stdout",
          "text": [
            "α = 0.36476  (363/501)\n",
            "α = 0.36476  (363/501)\n",
            "α = 0.36476  (363/501)\n",
            "α = 0.36476  (363/501)\n",
            "α = 0.36476  (363/501)\n",
            "α = 0.36476  (363/501)\n",
            "α = 0.36476  (363/501)\n"
          ]
        },
        {
          "output_type": "stream",
          "name": "stderr",
          "text": [
            "INFO:sweep:α = 0.36476  (363/501)\n"
          ]
        },
        {
          "output_type": "stream",
          "name": "stdout",
          "text": [
            "α = 0.36574  (364/501)\n",
            "α = 0.36574  (364/501)\n",
            "α = 0.36574  (364/501)\n",
            "α = 0.36574  (364/501)\n",
            "α = 0.36574  (364/501)\n",
            "α = 0.36574  (364/501)\n",
            "α = 0.36574  (364/501)\n"
          ]
        },
        {
          "output_type": "stream",
          "name": "stderr",
          "text": [
            "INFO:sweep:α = 0.36574  (364/501)\n"
          ]
        },
        {
          "output_type": "stream",
          "name": "stdout",
          "text": [
            "α = 0.36672  (365/501)\n",
            "α = 0.36672  (365/501)\n",
            "α = 0.36672  (365/501)\n",
            "α = 0.36672  (365/501)\n",
            "α = 0.36672  (365/501)\n",
            "α = 0.36672  (365/501)\n",
            "α = 0.36672  (365/501)\n"
          ]
        },
        {
          "output_type": "stream",
          "name": "stderr",
          "text": [
            "INFO:sweep:α = 0.36672  (365/501)\n"
          ]
        },
        {
          "output_type": "stream",
          "name": "stdout",
          "text": [
            "α = 0.36770  (366/501)\n",
            "α = 0.36770  (366/501)\n",
            "α = 0.36770  (366/501)\n",
            "α = 0.36770  (366/501)\n",
            "α = 0.36770  (366/501)\n",
            "α = 0.36770  (366/501)\n",
            "α = 0.36770  (366/501)\n"
          ]
        },
        {
          "output_type": "stream",
          "name": "stderr",
          "text": [
            "INFO:sweep:α = 0.36770  (366/501)\n"
          ]
        },
        {
          "output_type": "stream",
          "name": "stdout",
          "text": [
            "α = 0.36868  (367/501)\n",
            "α = 0.36868  (367/501)\n",
            "α = 0.36868  (367/501)\n",
            "α = 0.36868  (367/501)\n",
            "α = 0.36868  (367/501)\n",
            "α = 0.36868  (367/501)\n",
            "α = 0.36868  (367/501)\n"
          ]
        },
        {
          "output_type": "stream",
          "name": "stderr",
          "text": [
            "INFO:sweep:α = 0.36868  (367/501)\n"
          ]
        },
        {
          "output_type": "stream",
          "name": "stdout",
          "text": [
            "α = 0.36966  (368/501)\n",
            "α = 0.36966  (368/501)\n",
            "α = 0.36966  (368/501)\n",
            "α = 0.36966  (368/501)\n",
            "α = 0.36966  (368/501)\n",
            "α = 0.36966  (368/501)\n",
            "α = 0.36966  (368/501)\n"
          ]
        },
        {
          "output_type": "stream",
          "name": "stderr",
          "text": [
            "INFO:sweep:α = 0.36966  (368/501)\n"
          ]
        },
        {
          "output_type": "stream",
          "name": "stdout",
          "text": [
            "α = 0.37064  (369/501)\n",
            "α = 0.37064  (369/501)\n",
            "α = 0.37064  (369/501)\n",
            "α = 0.37064  (369/501)\n",
            "α = 0.37064  (369/501)\n",
            "α = 0.37064  (369/501)\n",
            "α = 0.37064  (369/501)\n"
          ]
        },
        {
          "output_type": "stream",
          "name": "stderr",
          "text": [
            "INFO:sweep:α = 0.37064  (369/501)\n"
          ]
        },
        {
          "output_type": "stream",
          "name": "stdout",
          "text": [
            "α = 0.37162  (370/501)\n",
            "α = 0.37162  (370/501)\n",
            "α = 0.37162  (370/501)\n",
            "α = 0.37162  (370/501)\n",
            "α = 0.37162  (370/501)\n",
            "α = 0.37162  (370/501)\n",
            "α = 0.37162  (370/501)\n"
          ]
        },
        {
          "output_type": "stream",
          "name": "stderr",
          "text": [
            "INFO:sweep:α = 0.37162  (370/501)\n"
          ]
        },
        {
          "output_type": "stream",
          "name": "stdout",
          "text": [
            "α = 0.37260  (371/501)\n",
            "α = 0.37260  (371/501)\n",
            "α = 0.37260  (371/501)\n",
            "α = 0.37260  (371/501)\n",
            "α = 0.37260  (371/501)\n",
            "α = 0.37260  (371/501)\n",
            "α = 0.37260  (371/501)\n"
          ]
        },
        {
          "output_type": "stream",
          "name": "stderr",
          "text": [
            "INFO:sweep:α = 0.37260  (371/501)\n"
          ]
        },
        {
          "output_type": "stream",
          "name": "stdout",
          "text": [
            "α = 0.37358  (372/501)\n",
            "α = 0.37358  (372/501)\n",
            "α = 0.37358  (372/501)\n",
            "α = 0.37358  (372/501)\n",
            "α = 0.37358  (372/501)\n",
            "α = 0.37358  (372/501)\n",
            "α = 0.37358  (372/501)\n"
          ]
        },
        {
          "output_type": "stream",
          "name": "stderr",
          "text": [
            "INFO:sweep:α = 0.37358  (372/501)\n"
          ]
        },
        {
          "output_type": "stream",
          "name": "stdout",
          "text": [
            "α = 0.37456  (373/501)\n",
            "α = 0.37456  (373/501)\n",
            "α = 0.37456  (373/501)\n",
            "α = 0.37456  (373/501)\n",
            "α = 0.37456  (373/501)\n",
            "α = 0.37456  (373/501)\n",
            "α = 0.37456  (373/501)\n"
          ]
        },
        {
          "output_type": "stream",
          "name": "stderr",
          "text": [
            "INFO:sweep:α = 0.37456  (373/501)\n"
          ]
        },
        {
          "output_type": "stream",
          "name": "stdout",
          "text": [
            "α = 0.37554  (374/501)\n",
            "α = 0.37554  (374/501)\n",
            "α = 0.37554  (374/501)\n",
            "α = 0.37554  (374/501)\n",
            "α = 0.37554  (374/501)\n",
            "α = 0.37554  (374/501)\n",
            "α = 0.37554  (374/501)\n"
          ]
        },
        {
          "output_type": "stream",
          "name": "stderr",
          "text": [
            "INFO:sweep:α = 0.37554  (374/501)\n"
          ]
        },
        {
          "output_type": "stream",
          "name": "stdout",
          "text": [
            "α = 0.37652  (375/501)\n",
            "α = 0.37652  (375/501)\n",
            "α = 0.37652  (375/501)\n",
            "α = 0.37652  (375/501)\n",
            "α = 0.37652  (375/501)\n",
            "α = 0.37652  (375/501)\n",
            "α = 0.37652  (375/501)\n"
          ]
        },
        {
          "output_type": "stream",
          "name": "stderr",
          "text": [
            "INFO:sweep:α = 0.37652  (375/501)\n"
          ]
        },
        {
          "output_type": "stream",
          "name": "stdout",
          "text": [
            "α = 0.37750  (376/501)\n",
            "α = 0.37750  (376/501)\n",
            "α = 0.37750  (376/501)\n",
            "α = 0.37750  (376/501)\n",
            "α = 0.37750  (376/501)\n",
            "α = 0.37750  (376/501)\n",
            "α = 0.37750  (376/501)\n"
          ]
        },
        {
          "output_type": "stream",
          "name": "stderr",
          "text": [
            "INFO:sweep:α = 0.37750  (376/501)\n"
          ]
        },
        {
          "output_type": "stream",
          "name": "stdout",
          "text": [
            "α = 0.37848  (377/501)\n",
            "α = 0.37848  (377/501)\n",
            "α = 0.37848  (377/501)\n",
            "α = 0.37848  (377/501)\n",
            "α = 0.37848  (377/501)\n",
            "α = 0.37848  (377/501)\n",
            "α = 0.37848  (377/501)\n"
          ]
        },
        {
          "output_type": "stream",
          "name": "stderr",
          "text": [
            "INFO:sweep:α = 0.37848  (377/501)\n"
          ]
        },
        {
          "output_type": "stream",
          "name": "stdout",
          "text": [
            "α = 0.37946  (378/501)\n",
            "α = 0.37946  (378/501)\n",
            "α = 0.37946  (378/501)\n",
            "α = 0.37946  (378/501)\n",
            "α = 0.37946  (378/501)\n",
            "α = 0.37946  (378/501)\n",
            "α = 0.37946  (378/501)\n"
          ]
        },
        {
          "output_type": "stream",
          "name": "stderr",
          "text": [
            "INFO:sweep:α = 0.37946  (378/501)\n"
          ]
        },
        {
          "output_type": "stream",
          "name": "stdout",
          "text": [
            "α = 0.38044  (379/501)\n",
            "α = 0.38044  (379/501)\n",
            "α = 0.38044  (379/501)\n",
            "α = 0.38044  (379/501)\n",
            "α = 0.38044  (379/501)\n",
            "α = 0.38044  (379/501)\n",
            "α = 0.38044  (379/501)\n"
          ]
        },
        {
          "output_type": "stream",
          "name": "stderr",
          "text": [
            "INFO:sweep:α = 0.38044  (379/501)\n"
          ]
        },
        {
          "output_type": "stream",
          "name": "stdout",
          "text": [
            "α = 0.38142  (380/501)\n",
            "α = 0.38142  (380/501)\n",
            "α = 0.38142  (380/501)\n",
            "α = 0.38142  (380/501)\n",
            "α = 0.38142  (380/501)\n",
            "α = 0.38142  (380/501)\n",
            "α = 0.38142  (380/501)\n"
          ]
        },
        {
          "output_type": "stream",
          "name": "stderr",
          "text": [
            "INFO:sweep:α = 0.38142  (380/501)\n"
          ]
        },
        {
          "output_type": "stream",
          "name": "stdout",
          "text": [
            "α = 0.38240  (381/501)\n",
            "α = 0.38240  (381/501)\n",
            "α = 0.38240  (381/501)\n",
            "α = 0.38240  (381/501)\n",
            "α = 0.38240  (381/501)\n",
            "α = 0.38240  (381/501)\n",
            "α = 0.38240  (381/501)\n"
          ]
        },
        {
          "output_type": "stream",
          "name": "stderr",
          "text": [
            "INFO:sweep:α = 0.38240  (381/501)\n"
          ]
        },
        {
          "output_type": "stream",
          "name": "stdout",
          "text": [
            "α = 0.38338  (382/501)\n",
            "α = 0.38338  (382/501)\n",
            "α = 0.38338  (382/501)\n",
            "α = 0.38338  (382/501)\n",
            "α = 0.38338  (382/501)\n",
            "α = 0.38338  (382/501)\n",
            "α = 0.38338  (382/501)\n"
          ]
        },
        {
          "output_type": "stream",
          "name": "stderr",
          "text": [
            "INFO:sweep:α = 0.38338  (382/501)\n"
          ]
        },
        {
          "output_type": "stream",
          "name": "stdout",
          "text": [
            "α = 0.38436  (383/501)\n",
            "α = 0.38436  (383/501)\n",
            "α = 0.38436  (383/501)\n",
            "α = 0.38436  (383/501)\n",
            "α = 0.38436  (383/501)\n",
            "α = 0.38436  (383/501)\n",
            "α = 0.38436  (383/501)\n"
          ]
        },
        {
          "output_type": "stream",
          "name": "stderr",
          "text": [
            "INFO:sweep:α = 0.38436  (383/501)\n"
          ]
        },
        {
          "output_type": "stream",
          "name": "stdout",
          "text": [
            "α = 0.38534  (384/501)\n",
            "α = 0.38534  (384/501)\n",
            "α = 0.38534  (384/501)\n",
            "α = 0.38534  (384/501)\n",
            "α = 0.38534  (384/501)\n",
            "α = 0.38534  (384/501)\n",
            "α = 0.38534  (384/501)\n"
          ]
        },
        {
          "output_type": "stream",
          "name": "stderr",
          "text": [
            "INFO:sweep:α = 0.38534  (384/501)\n"
          ]
        },
        {
          "output_type": "stream",
          "name": "stdout",
          "text": [
            "α = 0.38632  (385/501)\n",
            "α = 0.38632  (385/501)\n",
            "α = 0.38632  (385/501)\n",
            "α = 0.38632  (385/501)\n",
            "α = 0.38632  (385/501)\n",
            "α = 0.38632  (385/501)\n",
            "α = 0.38632  (385/501)\n"
          ]
        },
        {
          "output_type": "stream",
          "name": "stderr",
          "text": [
            "INFO:sweep:α = 0.38632  (385/501)\n"
          ]
        },
        {
          "output_type": "stream",
          "name": "stdout",
          "text": [
            "α = 0.38730  (386/501)\n",
            "α = 0.38730  (386/501)\n",
            "α = 0.38730  (386/501)\n",
            "α = 0.38730  (386/501)\n",
            "α = 0.38730  (386/501)\n",
            "α = 0.38730  (386/501)\n",
            "α = 0.38730  (386/501)\n"
          ]
        },
        {
          "output_type": "stream",
          "name": "stderr",
          "text": [
            "INFO:sweep:α = 0.38730  (386/501)\n"
          ]
        },
        {
          "output_type": "stream",
          "name": "stdout",
          "text": [
            "α = 0.38828  (387/501)\n",
            "α = 0.38828  (387/501)\n",
            "α = 0.38828  (387/501)\n",
            "α = 0.38828  (387/501)\n",
            "α = 0.38828  (387/501)\n",
            "α = 0.38828  (387/501)\n",
            "α = 0.38828  (387/501)\n"
          ]
        },
        {
          "output_type": "stream",
          "name": "stderr",
          "text": [
            "INFO:sweep:α = 0.38828  (387/501)\n"
          ]
        },
        {
          "output_type": "stream",
          "name": "stdout",
          "text": [
            "α = 0.38926  (388/501)\n",
            "α = 0.38926  (388/501)\n",
            "α = 0.38926  (388/501)\n",
            "α = 0.38926  (388/501)\n",
            "α = 0.38926  (388/501)\n",
            "α = 0.38926  (388/501)\n",
            "α = 0.38926  (388/501)\n"
          ]
        },
        {
          "output_type": "stream",
          "name": "stderr",
          "text": [
            "INFO:sweep:α = 0.38926  (388/501)\n"
          ]
        },
        {
          "output_type": "stream",
          "name": "stdout",
          "text": [
            "α = 0.39024  (389/501)\n",
            "α = 0.39024  (389/501)\n",
            "α = 0.39024  (389/501)\n",
            "α = 0.39024  (389/501)\n",
            "α = 0.39024  (389/501)\n",
            "α = 0.39024  (389/501)\n",
            "α = 0.39024  (389/501)\n"
          ]
        },
        {
          "output_type": "stream",
          "name": "stderr",
          "text": [
            "INFO:sweep:α = 0.39024  (389/501)\n"
          ]
        },
        {
          "output_type": "stream",
          "name": "stdout",
          "text": [
            "α = 0.39122  (390/501)\n",
            "α = 0.39122  (390/501)\n",
            "α = 0.39122  (390/501)\n",
            "α = 0.39122  (390/501)\n",
            "α = 0.39122  (390/501)\n",
            "α = 0.39122  (390/501)\n",
            "α = 0.39122  (390/501)\n"
          ]
        },
        {
          "output_type": "stream",
          "name": "stderr",
          "text": [
            "INFO:sweep:α = 0.39122  (390/501)\n"
          ]
        },
        {
          "output_type": "stream",
          "name": "stdout",
          "text": [
            "α = 0.39220  (391/501)\n",
            "α = 0.39220  (391/501)\n",
            "α = 0.39220  (391/501)\n",
            "α = 0.39220  (391/501)\n",
            "α = 0.39220  (391/501)\n",
            "α = 0.39220  (391/501)\n",
            "α = 0.39220  (391/501)\n"
          ]
        },
        {
          "output_type": "stream",
          "name": "stderr",
          "text": [
            "INFO:sweep:α = 0.39220  (391/501)\n"
          ]
        },
        {
          "output_type": "stream",
          "name": "stdout",
          "text": [
            "α = 0.39318  (392/501)\n",
            "α = 0.39318  (392/501)\n",
            "α = 0.39318  (392/501)\n",
            "α = 0.39318  (392/501)\n",
            "α = 0.39318  (392/501)\n",
            "α = 0.39318  (392/501)\n",
            "α = 0.39318  (392/501)\n"
          ]
        },
        {
          "output_type": "stream",
          "name": "stderr",
          "text": [
            "INFO:sweep:α = 0.39318  (392/501)\n"
          ]
        },
        {
          "output_type": "stream",
          "name": "stdout",
          "text": [
            "α = 0.39416  (393/501)\n",
            "α = 0.39416  (393/501)\n",
            "α = 0.39416  (393/501)\n",
            "α = 0.39416  (393/501)\n",
            "α = 0.39416  (393/501)\n",
            "α = 0.39416  (393/501)\n",
            "α = 0.39416  (393/501)\n"
          ]
        },
        {
          "output_type": "stream",
          "name": "stderr",
          "text": [
            "INFO:sweep:α = 0.39416  (393/501)\n"
          ]
        },
        {
          "output_type": "stream",
          "name": "stdout",
          "text": [
            "α = 0.39514  (394/501)\n",
            "α = 0.39514  (394/501)\n",
            "α = 0.39514  (394/501)\n",
            "α = 0.39514  (394/501)\n",
            "α = 0.39514  (394/501)\n",
            "α = 0.39514  (394/501)\n",
            "α = 0.39514  (394/501)\n"
          ]
        },
        {
          "output_type": "stream",
          "name": "stderr",
          "text": [
            "INFO:sweep:α = 0.39514  (394/501)\n"
          ]
        },
        {
          "output_type": "stream",
          "name": "stdout",
          "text": [
            "α = 0.39612  (395/501)\n",
            "α = 0.39612  (395/501)\n",
            "α = 0.39612  (395/501)\n",
            "α = 0.39612  (395/501)\n",
            "α = 0.39612  (395/501)\n",
            "α = 0.39612  (395/501)\n",
            "α = 0.39612  (395/501)\n"
          ]
        },
        {
          "output_type": "stream",
          "name": "stderr",
          "text": [
            "INFO:sweep:α = 0.39612  (395/501)\n"
          ]
        },
        {
          "output_type": "stream",
          "name": "stdout",
          "text": [
            "α = 0.39710  (396/501)\n",
            "α = 0.39710  (396/501)\n",
            "α = 0.39710  (396/501)\n",
            "α = 0.39710  (396/501)\n",
            "α = 0.39710  (396/501)\n",
            "α = 0.39710  (396/501)\n",
            "α = 0.39710  (396/501)\n"
          ]
        },
        {
          "output_type": "stream",
          "name": "stderr",
          "text": [
            "INFO:sweep:α = 0.39710  (396/501)\n"
          ]
        },
        {
          "output_type": "stream",
          "name": "stdout",
          "text": [
            "α = 0.39808  (397/501)\n",
            "α = 0.39808  (397/501)\n",
            "α = 0.39808  (397/501)\n",
            "α = 0.39808  (397/501)\n",
            "α = 0.39808  (397/501)\n",
            "α = 0.39808  (397/501)\n",
            "α = 0.39808  (397/501)\n"
          ]
        },
        {
          "output_type": "stream",
          "name": "stderr",
          "text": [
            "INFO:sweep:α = 0.39808  (397/501)\n"
          ]
        },
        {
          "output_type": "stream",
          "name": "stdout",
          "text": [
            "α = 0.39906  (398/501)\n",
            "α = 0.39906  (398/501)\n",
            "α = 0.39906  (398/501)\n",
            "α = 0.39906  (398/501)\n",
            "α = 0.39906  (398/501)\n",
            "α = 0.39906  (398/501)\n",
            "α = 0.39906  (398/501)\n"
          ]
        },
        {
          "output_type": "stream",
          "name": "stderr",
          "text": [
            "INFO:sweep:α = 0.39906  (398/501)\n"
          ]
        },
        {
          "output_type": "stream",
          "name": "stdout",
          "text": [
            "α = 0.40004  (399/501)\n",
            "α = 0.40004  (399/501)\n",
            "α = 0.40004  (399/501)\n",
            "α = 0.40004  (399/501)\n",
            "α = 0.40004  (399/501)\n",
            "α = 0.40004  (399/501)\n",
            "α = 0.40004  (399/501)\n"
          ]
        },
        {
          "output_type": "stream",
          "name": "stderr",
          "text": [
            "INFO:sweep:α = 0.40004  (399/501)\n"
          ]
        },
        {
          "output_type": "stream",
          "name": "stdout",
          "text": [
            "α = 0.40102  (400/501)\n",
            "α = 0.40102  (400/501)\n",
            "α = 0.40102  (400/501)\n",
            "α = 0.40102  (400/501)\n",
            "α = 0.40102  (400/501)\n",
            "α = 0.40102  (400/501)\n",
            "α = 0.40102  (400/501)\n"
          ]
        },
        {
          "output_type": "stream",
          "name": "stderr",
          "text": [
            "INFO:sweep:α = 0.40102  (400/501)\n"
          ]
        },
        {
          "output_type": "stream",
          "name": "stdout",
          "text": [
            "α = 0.40200  (401/501)\n",
            "α = 0.40200  (401/501)\n",
            "α = 0.40200  (401/501)\n",
            "α = 0.40200  (401/501)\n",
            "α = 0.40200  (401/501)\n",
            "α = 0.40200  (401/501)\n",
            "α = 0.40200  (401/501)\n"
          ]
        },
        {
          "output_type": "stream",
          "name": "stderr",
          "text": [
            "INFO:sweep:α = 0.40200  (401/501)\n"
          ]
        },
        {
          "output_type": "stream",
          "name": "stdout",
          "text": [
            "α = 0.40298  (402/501)\n",
            "α = 0.40298  (402/501)\n",
            "α = 0.40298  (402/501)\n",
            "α = 0.40298  (402/501)\n",
            "α = 0.40298  (402/501)\n",
            "α = 0.40298  (402/501)\n",
            "α = 0.40298  (402/501)\n"
          ]
        },
        {
          "output_type": "stream",
          "name": "stderr",
          "text": [
            "INFO:sweep:α = 0.40298  (402/501)\n"
          ]
        },
        {
          "output_type": "stream",
          "name": "stdout",
          "text": [
            "α = 0.40396  (403/501)\n",
            "α = 0.40396  (403/501)\n",
            "α = 0.40396  (403/501)\n",
            "α = 0.40396  (403/501)\n",
            "α = 0.40396  (403/501)\n",
            "α = 0.40396  (403/501)\n",
            "α = 0.40396  (403/501)\n"
          ]
        },
        {
          "output_type": "stream",
          "name": "stderr",
          "text": [
            "INFO:sweep:α = 0.40396  (403/501)\n"
          ]
        },
        {
          "output_type": "stream",
          "name": "stdout",
          "text": [
            "α = 0.40494  (404/501)\n",
            "α = 0.40494  (404/501)\n",
            "α = 0.40494  (404/501)\n",
            "α = 0.40494  (404/501)\n",
            "α = 0.40494  (404/501)\n",
            "α = 0.40494  (404/501)\n",
            "α = 0.40494  (404/501)\n"
          ]
        },
        {
          "output_type": "stream",
          "name": "stderr",
          "text": [
            "INFO:sweep:α = 0.40494  (404/501)\n"
          ]
        },
        {
          "output_type": "stream",
          "name": "stdout",
          "text": [
            "α = 0.40592  (405/501)\n",
            "α = 0.40592  (405/501)\n",
            "α = 0.40592  (405/501)\n",
            "α = 0.40592  (405/501)\n",
            "α = 0.40592  (405/501)\n",
            "α = 0.40592  (405/501)\n",
            "α = 0.40592  (405/501)\n"
          ]
        },
        {
          "output_type": "stream",
          "name": "stderr",
          "text": [
            "INFO:sweep:α = 0.40592  (405/501)\n"
          ]
        },
        {
          "output_type": "stream",
          "name": "stdout",
          "text": [
            "α = 0.40690  (406/501)\n",
            "α = 0.40690  (406/501)\n",
            "α = 0.40690  (406/501)\n",
            "α = 0.40690  (406/501)\n",
            "α = 0.40690  (406/501)\n",
            "α = 0.40690  (406/501)\n",
            "α = 0.40690  (406/501)\n"
          ]
        },
        {
          "output_type": "stream",
          "name": "stderr",
          "text": [
            "INFO:sweep:α = 0.40690  (406/501)\n"
          ]
        },
        {
          "output_type": "stream",
          "name": "stdout",
          "text": [
            "α = 0.40788  (407/501)\n",
            "α = 0.40788  (407/501)\n",
            "α = 0.40788  (407/501)\n",
            "α = 0.40788  (407/501)\n",
            "α = 0.40788  (407/501)\n",
            "α = 0.40788  (407/501)\n",
            "α = 0.40788  (407/501)\n"
          ]
        },
        {
          "output_type": "stream",
          "name": "stderr",
          "text": [
            "INFO:sweep:α = 0.40788  (407/501)\n"
          ]
        },
        {
          "output_type": "stream",
          "name": "stdout",
          "text": [
            "α = 0.40886  (408/501)\n",
            "α = 0.40886  (408/501)\n",
            "α = 0.40886  (408/501)\n",
            "α = 0.40886  (408/501)\n",
            "α = 0.40886  (408/501)\n",
            "α = 0.40886  (408/501)\n",
            "α = 0.40886  (408/501)\n"
          ]
        },
        {
          "output_type": "stream",
          "name": "stderr",
          "text": [
            "INFO:sweep:α = 0.40886  (408/501)\n"
          ]
        },
        {
          "output_type": "stream",
          "name": "stdout",
          "text": [
            "α = 0.40984  (409/501)\n",
            "α = 0.40984  (409/501)\n",
            "α = 0.40984  (409/501)\n",
            "α = 0.40984  (409/501)\n",
            "α = 0.40984  (409/501)\n",
            "α = 0.40984  (409/501)\n",
            "α = 0.40984  (409/501)\n"
          ]
        },
        {
          "output_type": "stream",
          "name": "stderr",
          "text": [
            "INFO:sweep:α = 0.40984  (409/501)\n"
          ]
        },
        {
          "output_type": "stream",
          "name": "stdout",
          "text": [
            "α = 0.41082  (410/501)\n",
            "α = 0.41082  (410/501)\n",
            "α = 0.41082  (410/501)\n",
            "α = 0.41082  (410/501)\n",
            "α = 0.41082  (410/501)\n",
            "α = 0.41082  (410/501)\n",
            "α = 0.41082  (410/501)\n"
          ]
        },
        {
          "output_type": "stream",
          "name": "stderr",
          "text": [
            "INFO:sweep:α = 0.41082  (410/501)\n"
          ]
        },
        {
          "output_type": "stream",
          "name": "stdout",
          "text": [
            "α = 0.41180  (411/501)\n",
            "α = 0.41180  (411/501)\n",
            "α = 0.41180  (411/501)\n",
            "α = 0.41180  (411/501)\n",
            "α = 0.41180  (411/501)\n",
            "α = 0.41180  (411/501)\n",
            "α = 0.41180  (411/501)\n"
          ]
        },
        {
          "output_type": "stream",
          "name": "stderr",
          "text": [
            "INFO:sweep:α = 0.41180  (411/501)\n"
          ]
        },
        {
          "output_type": "stream",
          "name": "stdout",
          "text": [
            "α = 0.41278  (412/501)\n",
            "α = 0.41278  (412/501)\n",
            "α = 0.41278  (412/501)\n",
            "α = 0.41278  (412/501)\n",
            "α = 0.41278  (412/501)\n",
            "α = 0.41278  (412/501)\n",
            "α = 0.41278  (412/501)\n"
          ]
        },
        {
          "output_type": "stream",
          "name": "stderr",
          "text": [
            "INFO:sweep:α = 0.41278  (412/501)\n"
          ]
        },
        {
          "output_type": "stream",
          "name": "stdout",
          "text": [
            "α = 0.41376  (413/501)\n",
            "α = 0.41376  (413/501)\n",
            "α = 0.41376  (413/501)\n",
            "α = 0.41376  (413/501)\n",
            "α = 0.41376  (413/501)\n",
            "α = 0.41376  (413/501)\n",
            "α = 0.41376  (413/501)\n"
          ]
        },
        {
          "output_type": "stream",
          "name": "stderr",
          "text": [
            "INFO:sweep:α = 0.41376  (413/501)\n"
          ]
        },
        {
          "output_type": "stream",
          "name": "stdout",
          "text": [
            "α = 0.41474  (414/501)\n",
            "α = 0.41474  (414/501)\n",
            "α = 0.41474  (414/501)\n",
            "α = 0.41474  (414/501)\n",
            "α = 0.41474  (414/501)\n",
            "α = 0.41474  (414/501)\n",
            "α = 0.41474  (414/501)\n"
          ]
        },
        {
          "output_type": "stream",
          "name": "stderr",
          "text": [
            "INFO:sweep:α = 0.41474  (414/501)\n"
          ]
        },
        {
          "output_type": "stream",
          "name": "stdout",
          "text": [
            "α = 0.41572  (415/501)\n",
            "α = 0.41572  (415/501)\n",
            "α = 0.41572  (415/501)\n",
            "α = 0.41572  (415/501)\n",
            "α = 0.41572  (415/501)\n",
            "α = 0.41572  (415/501)\n",
            "α = 0.41572  (415/501)\n"
          ]
        },
        {
          "output_type": "stream",
          "name": "stderr",
          "text": [
            "INFO:sweep:α = 0.41572  (415/501)\n"
          ]
        },
        {
          "output_type": "stream",
          "name": "stdout",
          "text": [
            "α = 0.41670  (416/501)\n",
            "α = 0.41670  (416/501)\n",
            "α = 0.41670  (416/501)\n",
            "α = 0.41670  (416/501)\n",
            "α = 0.41670  (416/501)\n",
            "α = 0.41670  (416/501)\n",
            "α = 0.41670  (416/501)\n"
          ]
        },
        {
          "output_type": "stream",
          "name": "stderr",
          "text": [
            "INFO:sweep:α = 0.41670  (416/501)\n"
          ]
        }
      ],
      "source": [
        "#!/usr/bin/env python3\n",
        "# -*- coding: utf-8 -*-\n",
        "\"\"\"\n",
        "alpha_sweep_K4M4_SR.py  –  Robust MVP α-sweep  (K = M = 4)\n",
        "2025-04-30  Sharpe-export version\n",
        "\n",
        "・最適解 (π*, w*) に対する\n",
        "      – ロバスト Sharpe 比   SR_rob\n",
        "      – 理論上限             SR_bound = √[ρ_max /(1–ρ_max)]\n",
        "  を CSV に追記する。\n",
        "元スクリプト（2025-04-28 patched version）の Q1–Q5 修正は維持。\n",
        "\"\"\"\n",
        "\n",
        "# ---------------------------------------------------------------------\n",
        "# 0. IMPORTS & GLOBAL CONSTANTS\n",
        "# ---------------------------------------------------------------------\n",
        "import numpy as np\n",
        "import pandas as pd\n",
        "import itertools, logging, sys\n",
        "from datetime import datetime\n",
        "\n",
        "K, M         = 4, 4\n",
        "mu_tilde     = 0.03\n",
        "ALPHA_MIN    = 0.01\n",
        "ALPHA_MAX    = 0.5\n",
        "N_ALPHA      = 501\n",
        "ALPHA_GRID   = np.linspace(ALPHA_MIN, ALPHA_MAX, N_ALPHA)\n",
        "\n",
        "MAX_OPT_ITERS            = 1000\n",
        "tol_grad                 = 1e-8\n",
        "step_size_norm_threshold = 1e-12\n",
        "lr_init, lr_max          = 0.15, 1.0\n",
        "\n",
        "FINITE_DIFF_EPS          = 1e-12\n",
        "\n",
        "# ---------------------------------------------------------------------\n",
        "# 1. SYNTHETIC DATA\n",
        "# ---------------------------------------------------------------------\n",
        "r_base = np.array([0.02, 0.03, 0.04, 0.05])\n",
        "Delta_A = np.array([[+1, 1, -1, -1],\n",
        "                    [+1, 1, -1, -1],\n",
        "                    [+2, -2, +2, -2],\n",
        "                    [+2, -2, +2, -2]], dtype=float)\n",
        "Delta_r_m     = Delta_A / 1000\n",
        "sigma_base    = np.array([0.20, 0.25, 0.30, 0.35])\n",
        "Delta_sigma_m = Delta_A / 100\n",
        "\n",
        "def block_corr(rho_in: float, rho_out: float) -> np.ndarray:\n",
        "    C = np.full((K, K), rho_out)\n",
        "    np.fill_diagonal(C, 1.0)\n",
        "    sectA, sectB = [0, 1], [2, 3]\n",
        "    for i in sectA:\n",
        "        for j in sectA:\n",
        "            if i != j:\n",
        "                C[i, j] = rho_in\n",
        "    for i in sectB:\n",
        "        for j in sectB:\n",
        "            if i != j:\n",
        "                C[i, j] = rho_in\n",
        "    return C\n",
        "\n",
        "C_base = block_corr(0.75, 0.50)\n",
        "tilde_C_list = [\n",
        "    block_corr(0.85, 0.40),\n",
        "    block_corr(0.65, 0.40),\n",
        "    block_corr(0.65, 0.60),\n",
        "    block_corr(0.85, 0.60),\n",
        "]\n",
        "beta_corr = 1\n",
        "\n",
        "def mix_corr(C0, C1, alpha, beta=0.5, eps=1e-4):\n",
        "    C = (1 - beta * alpha) * C0 + beta * alpha * C1\n",
        "    eigval, eigvec = np.linalg.eigh(C)\n",
        "    eigval_clip = np.clip(eigval, eps, None)\n",
        "    C_spd = eigvec @ np.diag(eigval_clip) @ eigvec.T\n",
        "    D = np.sqrt(np.diag(C_spd))\n",
        "    return C_spd / np.outer(D, D), float(eigval_clip.min())\n",
        "\n",
        "# ---------------------------------------------------------------------\n",
        "# 2. SIMPLEX PROJECTION\n",
        "# ---------------------------------------------------------------------\n",
        "def proj_simplex(v: np.ndarray) -> np.ndarray:\n",
        "    v = np.asarray(v, float)\n",
        "    if (v >= 0).all() and np.isclose(v.sum(), 1.0, atol=1e-9):\n",
        "        return v\n",
        "    u = np.sort(v)[::-1]\n",
        "    cssv = np.cumsum(u) - 1\n",
        "    rho = np.where(u - cssv / (np.arange(len(u)) + 1) > 0)[0][-1]\n",
        "    theta = cssv[rho] / (rho + 1)\n",
        "    return np.maximum(v - theta, 0.0)\n",
        "\n",
        "# ---------------------------------------------------------------------\n",
        "# 3. PARAMETER CONSTRUCTION\n",
        "# ---------------------------------------------------------------------\n",
        "def build_params(alpha: float):\n",
        "    R_th = r_base[:, None] + alpha * Delta_r_m\n",
        "    Sigma_th = np.zeros((K, K, M))\n",
        "    lambda_log = []\n",
        "    for m in range(M):\n",
        "        sig_vec = sigma_base + alpha * Delta_sigma_m[:, m]\n",
        "        diag_sig = np.diag(sig_vec)\n",
        "        C_alpha, lam_min = mix_corr(C_base, tilde_C_list[m], alpha,\n",
        "                                    beta=beta_corr)\n",
        "        lambda_log.append(lam_min)\n",
        "        Sigma_th[:, :, m] = diag_sig @ C_alpha @ diag_sig + np.outer(R_th[:, m], R_th[:, m])\n",
        "    return R_th, Sigma_th, lambda_log\n",
        "\n",
        "# ---------------------------------------------------------------------\n",
        "# X.  ROBUST SHARPE と 上限を計算\n",
        "# ---------------------------------------------------------------------\n",
        "def robust_sharpe(pi, w, R, Sigma):\n",
        "    \"\"\"SR_rob と理論上限 SR_bound を返す。\"\"\"\n",
        "    if pi is None or w is None:\n",
        "        return np.nan, np.nan\n",
        "    r_bar   = R @ w\n",
        "    Sigma_b = sum(w[m] * Sigma[:, :, m] for m in range(M))\n",
        "    Vw      = Sigma_b - np.outer(r_bar, r_bar)\n",
        "    num     = pi @ r_bar\n",
        "    denom   = np.sqrt(pi @ Vw @ pi)\n",
        "    SR_rob  = num / denom if denom > 0 else np.nan\n",
        "    # ρ_max\n",
        "    rho_max = max(\n",
        "        R[:, m] @ np.linalg.inv(Sigma[:, :, m]) @ R[:, m]\n",
        "        for m in range(M)\n",
        "    )\n",
        "    SR_bound = (np.sqrt(rho_max / (1 - rho_max))\n",
        "                if rho_max < 1 else np.nan)\n",
        "    return SR_rob, SR_bound\n",
        "\n",
        "# ---------------------------------------------------------------------\n",
        "# 4. INNER MINIMISATION  (exact solve over active subsets)\n",
        "# ---------------------------------------------------------------------\n",
        "def inner_opt(w, R, Sigma,\n",
        "              tol_feas   = 1e-9,\n",
        "              lam_tol    = -1e-13,\n",
        "              rank_scale = 1e-10):\n",
        "    rank_tol = rank_scale * np.linalg.norm(R)\n",
        "    Ex = R @ w\n",
        "    Vw = sum(w[m] * Sigma[:, :, m] for m in range(M)) - np.outer(Ex, Ex)\n",
        "    try:\n",
        "        Vinv = np.linalg.inv(Vw)\n",
        "    except np.linalg.LinAlgError:\n",
        "        return None, np.inf, Ex, None, None\n",
        "\n",
        "    best_val = np.inf\n",
        "    best_pi = best_lam = best_subset = None\n",
        "\n",
        "    for s in range(1, M + 1):\n",
        "        for subset in itertools.combinations(range(M), s):\n",
        "            A = R[:, subset].T\n",
        "            if np.linalg.matrix_rank(A, tol=rank_tol) < s:\n",
        "                continue\n",
        "            Mmat = A @ Vinv @ A.T\n",
        "            if np.linalg.matrix_rank(Mmat, tol=rank_tol) < s:\n",
        "                continue\n",
        "            lam = np.linalg.solve(Mmat, mu_tilde * np.ones(s))\n",
        "            if np.any(lam < lam_tol):\n",
        "                continue\n",
        "            pi = Vinv @ A.T @ lam\n",
        "            if np.any(R.T @ pi < mu_tilde - tol_feas):\n",
        "                continue\n",
        "            val = pi @ Vw @ pi\n",
        "            if val + 1e-12 < best_val:\n",
        "                best_val, best_pi, best_lam, best_subset = val, pi, lam, subset\n",
        "\n",
        "    if best_pi is None:\n",
        "        return None, np.inf, Ex, None, None\n",
        "    return best_pi, best_val, Ex, best_lam, best_subset\n",
        "\n",
        "# ---------------------------------------------------------------------\n",
        "# 5. OUTER OBJECTIVE & GRADIENT\n",
        "# ---------------------------------------------------------------------\n",
        "def H_and_grad(w, R, Sigma):\n",
        "    pi, val, Ex, lam, subset = inner_opt(w, R, Sigma)\n",
        "    if val == np.inf:\n",
        "        return val, None, pi, lam, subset\n",
        "    grad = np.array([\n",
        "        pi @ Sigma[:, :, m] @ pi - 2 * (pi @ R[:, m]) * (pi @ Ex)\n",
        "        for m in range(M)\n",
        "    ])\n",
        "    return val, grad, pi, lam, subset\n",
        "\n",
        "# ---------------------------------------------------------------------\n",
        "# 6. OUTER OPTIMISER (PG + BB + Armijo)\n",
        "# ---------------------------------------------------------------------\n",
        "def optimise_outer(R, Sigma, *, start=None, seed=None):\n",
        "    if start is None:\n",
        "        if seed is None:\n",
        "            w = np.ones(M) / M\n",
        "        else:\n",
        "            rng = np.random.default_rng(seed)\n",
        "            w = proj_simplex(rng.random(M))\n",
        "    else:\n",
        "        w = proj_simplex(start)\n",
        "\n",
        "    val, g, pi, lam, subset = H_and_grad(w, R, Sigma)\n",
        "    best = (val, w.copy(), pi, lam, subset)\n",
        "    lr   = lr_init\n",
        "    g_prev, w_prev = g.copy(), w.copy()\n",
        "\n",
        "    for it in range(1, MAX_OPT_ITERS + 1):\n",
        "        proj_grad = w - proj_simplex(w - g)\n",
        "        if np.linalg.norm(proj_grad) < tol_grad:\n",
        "            break\n",
        "\n",
        "        if it > 1:\n",
        "            dw, dg = w - w_prev, g - g_prev\n",
        "            denom  = np.dot(dg, dg)\n",
        "            if denom > 1e-12:\n",
        "                gamma_bb = np.dot(dw, dg) / denom\n",
        "                if gamma_bb > 0.0:\n",
        "                    lr = np.clip(gamma_bb, 1e-4, lr_max)\n",
        "\n",
        "        lr_curr = lr\n",
        "        accept  = False\n",
        "        while lr_curr >= 1e-6:\n",
        "            w_trial = proj_simplex(w + lr_curr * g)\n",
        "            if np.linalg.norm(w_trial - w) < step_size_norm_threshold:\n",
        "                lr_curr = 0.0\n",
        "                break\n",
        "            val_t, g_t, pi_t, lam_t, subset_t = H_and_grad(w_trial, R, Sigma)\n",
        "            if val_t >= val - 1e-12:\n",
        "                w_prev, g_prev = w.copy(), g.copy()\n",
        "                w, val, g = w_trial, val_t, g_t\n",
        "                pi, lam, subset = pi_t, lam_t, subset_t\n",
        "                if val > best[0]:\n",
        "                    best = (val, w.copy(), pi, lam, subset)\n",
        "                lr = min(lr_curr * 1.2, lr_max)\n",
        "                accept = True\n",
        "                break\n",
        "            lr_curr *= 0.5\n",
        "        if not accept:\n",
        "            break\n",
        "\n",
        "    return (*best, it)\n",
        "\n",
        "# ---------------------------------------------------------------------\n",
        "# 7. FINITE DIFFERENCE HELPERS\n",
        "# ---------------------------------------------------------------------\n",
        "def finite_diff_vec(v_p, v_m, h, length):\n",
        "    if v_p is None or v_m is None:\n",
        "        return np.full(length, np.nan)\n",
        "    return (v_p - v_m) / max(h * 2, FINITE_DIFF_EPS)\n",
        "\n",
        "# ---------------------------------------------------------------------\n",
        "# 8. α-SWEEP\n",
        "# ---------------------------------------------------------------------\n",
        "def robust_opt(alpha, *, seed=None):\n",
        "    R_th, Sigma_th, _ = build_params(alpha)\n",
        "    H_star, w_star, pi_star, lam_star, subset_star, iters = optimise_outer(\n",
        "        R_th, Sigma_th, seed=seed)\n",
        "    return dict(H_star=H_star, w_star=w_star, pi_star=pi_star,\n",
        "                lam_star=lam_star, subset=subset_star, R=R_th, Sigma=Sigma_th,\n",
        "                iters=iters)\n",
        "\n",
        "def run_alpha_sweep(csv_path=\"alpha_sweep_K4M4_SR.csv\", *, seed_outer=None):\n",
        "    log = logging.getLogger(\"sweep\")\n",
        "    log.setLevel(logging.INFO)\n",
        "    log.addHandler(logging.StreamHandler(sys.stdout))\n",
        "\n",
        "    col_w   = [f\"w*_m{m}\"   for m in range(M)]\n",
        "    col_pi  = [f\"pi*_k{k}\"  for k in range(K)]\n",
        "    col_ret = [f\"cstr_ret_m{m}\" for m in range(M)]\n",
        "    col_lam = [f\"lam_m{m}\"  for m in range(M)]\n",
        "    col_dpi = [f\"dpi*_k{k}\" for k in range(K)]\n",
        "    columns = ([\"alpha\", \"H_star\", \"supp_w\", \"lambda_min\", \"iterations\",\n",
        "                \"SR_rob\", \"SR_bound\"]               # 追加列\n",
        "               + col_w + col_pi + col_ret + col_lam + col_dpi)\n",
        "\n",
        "    rows, cache = [], {}\n",
        "    t0 = datetime.now()\n",
        "    log.info(\"========== α-Sweep START ==========\")\n",
        "\n",
        "    for idx, alpha in enumerate(ALPHA_GRID):\n",
        "        log.info(\"α = %.5f  (%d/%d)\", alpha, idx + 1, N_ALPHA)\n",
        "\n",
        "        def get(a):\n",
        "            if a is None:\n",
        "                return None\n",
        "            if a not in cache:\n",
        "                cache[a] = robust_opt(a, seed=seed_outer)\n",
        "            return cache[a]\n",
        "\n",
        "        res_c   = get(alpha)\n",
        "        H_star  = res_c[\"H_star\"]\n",
        "        w_star  = res_c[\"w_star\"]\n",
        "        pi_star = res_c[\"pi_star\"]\n",
        "        lam_star= res_c[\"lam_star\"]\n",
        "        subset  = res_c[\"subset\"]\n",
        "        R_th    = res_c[\"R\"]\n",
        "        Sigma_th= res_c[\"Sigma\"]\n",
        "        iters   = res_c[\"iters\"]\n",
        "\n",
        "        _, _, lambda_log = build_params(alpha)\n",
        "        lambda_min_val   = float(min(lambda_log))\n",
        "\n",
        "        prev_alpha = ALPHA_GRID[idx - 1] if idx > 0 else None\n",
        "        next_alpha = ALPHA_GRID[idx + 1] if idx < N_ALPHA - 1 else None\n",
        "        h_left  = alpha - prev_alpha if prev_alpha is not None else None\n",
        "        h_right = next_alpha - alpha if next_alpha is not None else None\n",
        "\n",
        "        if prev_alpha is not None and next_alpha is not None:\n",
        "            h = min(h_left, h_right)\n",
        "            pi_p = get(alpha + h)[\"pi_star\"]\n",
        "            pi_m = get(alpha - h)[\"pi_star\"]\n",
        "        elif prev_alpha is None:\n",
        "            h = h_right\n",
        "            pi_p = get(next_alpha)[\"pi_star\"]\n",
        "            pi_m = pi_star\n",
        "        else:\n",
        "            h = h_left\n",
        "            pi_p = pi_star\n",
        "            pi_m = get(prev_alpha)[\"pi_star\"]\n",
        "\n",
        "        dpi_star = finite_diff_vec(pi_p, pi_m, h, K)\n",
        "\n",
        "        cstr_ret = R_th.T @ pi_star if pi_star is not None else np.full(M, np.nan)\n",
        "        lam_vec  = np.zeros(M)\n",
        "        if lam_star is not None and subset is not None:\n",
        "            for j, m_idx in enumerate(subset):\n",
        "                lam_vec[m_idx] = lam_star[j]\n",
        "\n",
        "        # --- robust Sharpe と上限 ------------------------------------\n",
        "        SR_rob, SR_bound = robust_sharpe(pi_star, w_star, R_th, Sigma_th)\n",
        "\n",
        "        row = ([alpha, H_star,\n",
        "                int((w_star > 1e-6).sum()) if w_star is not None else np.nan,\n",
        "                lambda_min_val, iters,\n",
        "                SR_rob, SR_bound]                    # ← 追加\n",
        "               + list(w_star) + list(pi_star)\n",
        "               + list(cstr_ret) + list(lam_vec) + list(dpi_star))\n",
        "        rows.append(row)\n",
        "\n",
        "    df = pd.DataFrame(rows, columns=columns)\n",
        "    df.to_csv(csv_path, index=False, float_format=\"%.10g\")\n",
        "    log.info(\"CSV written to %s  (elapsed %.1fs)\", csv_path,\n",
        "             (datetime.now() - t0).total_seconds())\n",
        "    return df\n",
        "\n",
        "# ---------------------------------------------------------------------\n",
        "# 9. MAIN\n",
        "# ---------------------------------------------------------------------\n",
        "if __name__ == \"__main__\":\n",
        "    run_alpha_sweep()\n"
      ]
    },
    {
      "cell_type": "markdown",
      "source": [
        "#$r^m$のみが異なる場合"
      ],
      "metadata": {
        "id": "tAkrl0CQ1ClT"
      }
    },
    {
      "cell_type": "code",
      "source": [
        "#!/usr/bin/env python3\n",
        "# -*- coding: utf-8 -*-\n",
        "\"\"\"\n",
        "halfpair_alpha_sweep_SR.py   –   Robust MVP (½–½) α-sweep\n",
        "2025-05-01  unified-CSV version   (K = M = 4)\n",
        "\n",
        "* すべてのペア w_i = w_j = ½ を列挙し\n",
        "      H_{ij}(α) = min_{π∈A} πᵀ V̄ π          (閉形式)\n",
        "  の **最大** を H_star として返す。\n",
        "* (π*, w*) から\n",
        "      SR_rob, SR_bound, cstr_ret_m, dpi*, λ\n",
        "  を計算し α-grid を CSV 出力する。\n",
        "* 列順・列名は 2025-04-30 版 α-sweep と同一。\n",
        "\n",
        "実行:  python halfpair_alpha_sweep_SR.py\n",
        "\"\"\"\n",
        "\n",
        "# ---------------------------------------------------------------------\n",
        "# 0. IMPORTS & CONSTANTS\n",
        "# ---------------------------------------------------------------------\n",
        "import numpy as np\n",
        "import itertools, math, logging, sys\n",
        "import scipy.linalg as la\n",
        "import pandas as pd\n",
        "from datetime import datetime\n",
        "\n",
        "K = M = 4\n",
        "\n",
        "mu_tilde  = 0.03\n",
        "\n",
        "ALPHA_GRID   = np.linspace(ALPHA_MIN, ALPHA_MAX, N_ALPHA)\n",
        "# 固定パラメータ（σ, C は α 非依存）\n",
        "r_base = np.array([0.02, 0.03, 0.04, 0.05])\n",
        "ΔA   =  np.array([[+1, 1, -1, -1],\n",
        "                    [+1, 1, -1, -1],\n",
        "                    [+2, -2, +2, -2],\n",
        "                    [+2, -2, +2, -2]], dtype=float)\n",
        "Δr_m = ΔA / 1000\n",
        "sigma_base = np.array([0.20, 0.25, 0.30, 0.35])\n",
        "\n",
        "def block_corr(rho_in: float, rho_out: float) -> np.ndarray:\n",
        "    C = np.full((K, K), rho_out); np.fill_diagonal(C, 1.0)\n",
        "    sectA, sectB = [0, 1], [2, 3]\n",
        "    for i in sectA:\n",
        "        for j in sectA:\n",
        "            if i != j: C[i, j] = rho_in\n",
        "    for i in sectB:\n",
        "        for j in sectB:\n",
        "            if i != j: C[i, j] = rho_in\n",
        "    return C\n",
        "\n",
        "C_base = block_corr(0.75, 0.50)\n",
        "Vbar   = np.diag(sigma_base) @ C_base @ np.diag(sigma_base)         # SPD\n",
        "P      = la.inv(Vbar)                                               # shared inverse\n",
        "lambda_min_const = float(np.linalg.eigvalsh(Vbar).min())            # α 非依存\n",
        "\n",
        "# ---------------------------------------------------------------------\n",
        "# 1. ½–½ 内側値 H_{ij}(α) と π の閉形式\n",
        "# ---------------------------------------------------------------------\n",
        "def inner_halfpair(alpha: float, i: int, j: int):\n",
        "    \"\"\"Return (value, π, λ-vector, active_subset).\"\"\"\n",
        "    R = r_base[:, None] + alpha * Δr_m\n",
        "    r_i, r_j = R[:, i], R[:, j]\n",
        "\n",
        "    # case (both active)\n",
        "    A     = np.stack([r_i, r_j], axis=1)            # K×2\n",
        "    Mmat  = A.T @ P @ A                             # 2×2\n",
        "    lam2  = mu_tilde * la.solve(Mmat, np.ones(2))\n",
        "    pi2   = P @ A @ lam2\n",
        "    val2  = pi2 @ Vbar @ pi2\n",
        "\n",
        "    # case (only i active)\n",
        "    pr_i  = P @ r_i;  lam_i = mu_tilde / (r_i @ pr_i)\n",
        "    pi_i  = lam_i * pr_i\n",
        "    val_i = val_i_ok = math.inf\n",
        "    if pi_i @ r_j >= mu_tilde - 1e-12:\n",
        "        val_i_ok = pi_i @ Vbar @ pi_i\n",
        "\n",
        "    # case (only j active)\n",
        "    pr_j  = P @ r_j;  lam_j = mu_tilde / (r_j @ pr_j)\n",
        "    pi_j  = lam_j * pr_j\n",
        "    val_j = val_j_ok = math.inf\n",
        "    if pi_j @ r_i >= mu_tilde - 1e-12:\n",
        "        val_j_ok = pi_j @ Vbar @ pi_j\n",
        "\n",
        "    # choose best feasible\n",
        "    if val2 <= val_i_ok and val2 <= val_j_ok:\n",
        "        lam_vec = np.zeros(M); lam_vec[[i, j]] = lam2\n",
        "        return val2, pi2, lam_vec, (i, j)\n",
        "    if val_i_ok <= val_j_ok:\n",
        "        lam_vec = np.zeros(M); lam_vec[i] = lam_i\n",
        "        return val_i_ok, pi_i, lam_vec, (i,)\n",
        "    lam_vec = np.zeros(M); lam_vec[j] = lam_j\n",
        "    return val_j_ok, pi_j, lam_vec, (j,)\n",
        "\n",
        "# ---------------------------------------------------------------------\n",
        "# 2. SR_rob と SR_bound\n",
        "# ---------------------------------------------------------------------\n",
        "def robust_sharpe(pi, w_vec, R):\n",
        "    r_bar = R @ w_vec\n",
        "    Sigma_b = Vbar + sum(w_vec[m] * np.outer(R[:, m], R[:, m]) for m in range(M))\n",
        "    Vw = Sigma_b - np.outer(r_bar, r_bar)\n",
        "    num = float(pi @ r_bar)\n",
        "    denom = float(np.sqrt(pi @ Vw @ pi))\n",
        "    SR_rob = num / denom if denom > 0 else np.nan\n",
        "    rho_max = max(R[:, m] @ la.solve(Vbar + np.outer(R[:, m], R[:, m]), R[:, m])\n",
        "                  for m in range(M))\n",
        "    SR_bound = math.sqrt(rho_max / (1 - rho_max)) if rho_max < 1 else np.nan\n",
        "    return SR_rob, SR_bound\n",
        "\n",
        "# ---------------------------------------------------------------------\n",
        "# 3. α-SWEEP MAIN\n",
        "# ---------------------------------------------------------------------\n",
        "def run_alpha_sweep(csv_path=\"halfpair_opt_results_SR.csv\"):\n",
        "    log = logging.getLogger(\"sweep\")\n",
        "    log.setLevel(logging.INFO); log.addHandler(logging.StreamHandler(sys.stdout))\n",
        "    log.info(\"========== ½–½ α-Sweep START ==========\")\n",
        "\n",
        "    col_w   = [f\"w*_m{m}\"   for m in range(M)]\n",
        "    col_pi  = [f\"pi*_k{k}\"  for k in range(K)]\n",
        "    col_ret = [f\"cstr_ret_m{m}\" for m in range(M)]\n",
        "    col_lam = [f\"lam_m{m}\"  for m in range(M)]\n",
        "    col_dpi = [f\"dpi*_k{k}\" for k in range(K)]\n",
        "    columns = ([\"alpha\",\"H_star\",\"supp_w\",\"lambda_min\",\"iterations\",\n",
        "                \"SR_rob\",\"SR_bound\"]\n",
        "               + col_w + col_pi + col_ret + col_lam + col_dpi)\n",
        "\n",
        "    rows, cache = [], {}      # cache[alpha] = dict(pi_star, ...)\n",
        "    t0 = datetime.now()\n",
        "\n",
        "    # --- sweep ----------------------------------------------------\n",
        "    for idx, alpha in enumerate(ALPHA_GRID):\n",
        "        log.info(\"α = %.2f  (%d/%d)\", alpha, idx + 1, len(ALPHA_GRID))\n",
        "        # evaluate all pairs, keep max (== H_star)\n",
        "        best_val = -math.inf; best = None\n",
        "        for i, j in itertools.combinations(range(M), 2):\n",
        "            val, pi, lam_vec, subset = inner_halfpair(alpha, i, j)\n",
        "            if val > best_val + 1e-12:\n",
        "                best_val = val; best = (i, j, pi, lam_vec)\n",
        "        i, j, pi_star, lam_vec = best\n",
        "        w_star = np.zeros(M); w_star[[i, j]] = 0.5\n",
        "        R = r_base[:, None] + alpha * Δr_m\n",
        "        SR_rob, SR_bound = robust_sharpe(pi_star, w_star, R)\n",
        "        cstr_ret = R.T @ pi_star\n",
        "\n",
        "        cache[alpha] = {\"pi_star\": pi_star}\n",
        "\n",
        "        # dpi*: central / forward / backward diff\n",
        "        if idx == 0:          # forward\n",
        "            h = ALPHA_GRID[1] - ALPHA_GRID[0]\n",
        "            pi_p = None\n",
        "            pi_m = pi_star\n",
        "            pi_p = (inner_halfpair(ALPHA_GRID[1], *best[:2]))[1]\n",
        "        elif idx == len(ALPHA_GRID)-1:   # backward\n",
        "            h = ALPHA_GRID[-1] - ALPHA_GRID[-2]\n",
        "            pi_p = pi_star\n",
        "            pi_m = cache[ALPHA_GRID[-2]][\"pi_star\"]\n",
        "        else:                 # central\n",
        "            h_left  = alpha - ALPHA_GRID[idx-1]\n",
        "            h_right = ALPHA_GRID[idx+1] - alpha\n",
        "            h = min(h_left, h_right)\n",
        "            # 確実にキャッシュを埋める\n",
        "            for a in (ALPHA_GRID[idx-1], ALPHA_GRID[idx+1]):\n",
        "                if a not in cache:\n",
        "                    i_,j_,pi_,lam_ = None,None,None,None\n",
        "                    for p in itertools.combinations(range(M),2):\n",
        "                        v,p_,l_,sub_=inner_halfpair(a,*p)\n",
        "                        if i_ is None or v>val_best:\n",
        "                            val_best=v;i_,j_=p;pi_,l_=p_,l_\n",
        "                    cache[a]={\"pi_star\":pi_}\n",
        "            pi_m = cache[ALPHA_GRID[idx-1]][\"pi_star\"]\n",
        "            pi_p = cache[ALPHA_GRID[idx+1]][\"pi_star\"]\n",
        "        dpi_star = (pi_p - pi_m) / (2*h) if pi_p is not None else np.full(K, np.nan)\n",
        "\n",
        "        row = ([alpha, best_val, 2, lambda_min_const, np.nan,\n",
        "                SR_rob, SR_bound]\n",
        "               + list(w_star) + list(pi_star)\n",
        "               + list(cstr_ret) + list(lam_vec) + list(dpi_star))\n",
        "        rows.append(row)\n",
        "\n",
        "    df = pd.DataFrame(rows, columns=columns)\n",
        "    df.to_csv(csv_path, index=False, float_format=\"%.10g\")\n",
        "    log.info(\"CSV written to %s  (elapsed %.1fs)\",\n",
        "             csv_path, (datetime.now() - t0).total_seconds())\n",
        "    return df\n",
        "\n",
        "# ---------------------------------------------------------------------\n",
        "# 4. MAIN\n",
        "# ---------------------------------------------------------------------\n",
        "if __name__ == \"__main__\":\n",
        "    run_alpha_sweep()\n"
      ],
      "metadata": {
        "id": "76IMkUgPb8a_"
      },
      "execution_count": null,
      "outputs": []
    },
    {
      "cell_type": "code",
      "source": [],
      "metadata": {
        "id": "roQqRlk1c1nP"
      },
      "execution_count": null,
      "outputs": []
    },
    {
      "cell_type": "markdown",
      "source": [
        "#$\\sigma^m$のみが異なる場合"
      ],
      "metadata": {
        "id": "aEV-nDIyR_WS"
      }
    },
    {
      "cell_type": "code",
      "source": [
        "import numpy as np\n",
        "import pandas as pd\n",
        "import scipy.linalg as la\n",
        "from datetime import datetime\n",
        "\n",
        "# ---------------------------- GLOBALS ----------------------------\n",
        "K, M = 4, 4                              # assets / models\n",
        "mu_tilde = 0.03                          # target return μ̃\n",
        "\n",
        "ALPHA_GRID   = np.linspace(ALPHA_MIN, ALPHA_MAX, N_ALPHA)\n",
        "# ---------- optimiser hyper-parameters ---------------------------\n",
        "MAX_OPT_ITERS = 1000\n",
        "tol_grad = 1e-8\n",
        "step_size_norm_threshold = 1e-10\n",
        "\n",
        "# -------------- base return (common across models) --------------\n",
        "r_bar = np.array([0.02, 0.03, 0.04, 0.05])     # identical\n",
        "\n",
        "# -------------- volatility base & deviations ----------------------\n",
        "sigma_base = np.array([0.20, 0.25, 0.30, 0.35])\n",
        "Delta_A =np.array([[+1, 1, -1, -1],\n",
        "                    [+1, 1, -1, -1],\n",
        "                    [+2, -2, +2, -2],\n",
        "                    [+2, -2, +2, -2]], dtype=float)\n",
        "Delta_sigma_m = Delta_A / 100                # Δσ per model\n",
        "\n",
        "# ---------------- correlation: two-sector block -------------------\n",
        "def block_corr(rho_in, rho_out):\n",
        "    C = np.full((K, K), rho_out)\n",
        "    np.fill_diagonal(C, 1.0)\n",
        "    for i, j in ((0, 1), (2, 3)):\n",
        "        C[i, j] = C[j, i] = rho_in\n",
        "    return C\n",
        "\n",
        "C_base = block_corr(0.75, 0.50)\n",
        "tilde_C_list = [\n",
        "    block_corr(0.85, 0.40),\n",
        "    block_corr(0.65, 0.40),\n",
        "    block_corr(0.65, 0.60),\n",
        "    block_corr(0.85, 0.60),\n",
        "]\n",
        "beta_corr = 0.5\n",
        "\n",
        "# ---------- correlation blending + SPD projection -----------------\n",
        "def mix_corr(C0, C1, alpha, beta=0.5, eps=1e-4):\n",
        "    C = (1 - beta * alpha) * C0 + beta * alpha * C1\n",
        "    eigval, eigvec = np.linalg.eigh(C)\n",
        "    eigval = np.clip(eigval, eps, None)\n",
        "    Cs = eigvec @ np.diag(eigval) @ eigvec.T\n",
        "    d = np.sqrt(np.diag(Cs))\n",
        "    return Cs / np.outer(d, d)        # correlation matrix\n",
        "\n",
        "# ---------------------- simplex projection ------------------------\n",
        "def proj_simplex(v):\n",
        "    \"\"\"Projection onto Δ_M.\"\"\"\n",
        "    v = np.asarray(v, float)\n",
        "    if (v >= 0).all() and np.isclose(v.sum(), 1.0, atol=1e-10):\n",
        "        return v\n",
        "    u = np.sort(v)[::-1]\n",
        "    cssv = np.cumsum(u) - 1\n",
        "    rho = np.where(u - cssv / (np.arange(len(u)) + 1) > 0)[0][-1]\n",
        "    theta = cssv[rho] / (rho + 1)\n",
        "    return np.maximum(v - theta, 0.0)\n",
        "\n",
        "# ---------------------- parameter builder -------------------------\n",
        "def build_params(alpha):\n",
        "    Σ = np.zeros((K, K, M))\n",
        "    C_list = [mix_corr(C_base, tilde_C_list[m], alpha, beta_corr) for m in range(M)]\n",
        "\n",
        "    for m in range(M):\n",
        "        σ = sigma_base + alpha * Delta_sigma_m[:, m]\n",
        "        # Use common correlation matrix C_base for all models, but vary sigma\n",
        "        # This follows Proposition 2 where r^m and C^m are common across models\n",
        "        V = np.diag(σ) @ C_base @ np.diag(σ)\n",
        "        Σ[:, :, m] = V + np.outer(r_bar, r_bar)    # Σ^m\n",
        "    return Σ\n",
        "\n",
        "# ---------------- outer objective & gradient ----------------------\n",
        "def phi_and_grad(w, Σ):\n",
        "    Vw = sum(w[m] * Σ[:, :, m] for m in range(M)) - np.outer(r_bar, r_bar)\n",
        "\n",
        "    # Add a small regularization to ensure positive definiteness\n",
        "    reg_factor = 1e-8\n",
        "    Vw_reg = Vw + reg_factor * np.eye(K)\n",
        "\n",
        "    # Solve the linear system\n",
        "    try:\n",
        "        y = la.solve(Vw_reg, r_bar, assume_a='pos')\n",
        "        phi = r_bar @ y\n",
        "        grad = np.array([-y @ Σ[:, :, m] @ y for m in range(M)])\n",
        "    except np.linalg.LinAlgError:\n",
        "        # If still singular, use pseudoinverse\n",
        "        y = np.linalg.pinv(Vw_reg) @ r_bar\n",
        "        phi = r_bar @ y\n",
        "        grad = np.array([-y @ Σ[:, :, m] @ y for m in range(M)])\n",
        "\n",
        "    return phi, grad\n",
        "\n",
        "# -------------- projected-gradient (BB step) ----------------------\n",
        "def minimise_phi(Σ, w0=None):\n",
        "    w = proj_simplex(w0 if w0 is not None else np.ones(M) / M)\n",
        "    phi, g = phi_and_grad(w, Σ)\n",
        "    lr = 0.2\n",
        "    for it in range(1, MAX_OPT_ITERS + 1):\n",
        "        if np.linalg.norm(g) < tol_grad:\n",
        "            break\n",
        "        # Barzilai–Borwein step size (first-order)\n",
        "        if it > 1:\n",
        "            s, y = w - w_prev, g - g_prev\n",
        "            lr = np.clip((s @ y) / (y @ y + 1e-12), 1e-4, 0.5)\n",
        "        w_prev, g_prev = w.copy(), g.copy()\n",
        "        # line search (simple back-tracking)\n",
        "        for _ in range(20):\n",
        "            w_new = proj_simplex(w - lr * g)\n",
        "            phi_new, g_new = phi_and_grad(w_new, Σ)\n",
        "            if phi_new < phi - 1e-10:\n",
        "                w, phi, g = w_new, phi_new, g_new\n",
        "                break\n",
        "            lr *= 0.5\n",
        "        else:\n",
        "            break\n",
        "    return phi, w, it\n",
        "\n",
        "# --------------------------- α-sweep ------------------------------\n",
        "def run_sweep(out_csv=\"sigma_only_opt_results.csv\"):\n",
        "    cols_w   = [f\"w*_m{m}\" for m in range(M)]\n",
        "    cols_pi  = [f\"pi*_k{k}\" for k in range(K)]\n",
        "    cols_ret = [f\"cstr_ret_m{m}\" for m in range(M)]\n",
        "    cols_lam = [f\"lam_m{m}\" for m in range(M)]\n",
        "    cols_dpi = [f\"dpi*_k{k}\" for k in range(K)]\n",
        "\n",
        "    records = []\n",
        "    prev_pi_star = None\n",
        "\n",
        "    for idx, alpha in enumerate(ALPHA_GRID):\n",
        "        Σ = build_params(alpha)\n",
        "        phi_star, w_star, nit = minimise_phi(Σ)\n",
        "\n",
        "        # Calculate V^w (model-weighted covariance)\n",
        "        Vw = sum(w_star[m] * Σ[:, :, m] for m in range(M)) - np.outer(r_bar, r_bar)\n",
        "\n",
        "        # Add small regularization to ensure stability\n",
        "        reg_factor = 1e-8\n",
        "        Vw_reg = Vw + reg_factor * np.eye(K)\n",
        "\n",
        "        # Calculate minimum eigenvalue for diagnostics\n",
        "        try:\n",
        "            λ_min = np.min(np.linalg.eigvalsh(Vw))\n",
        "        except np.linalg.LinAlgError:\n",
        "            λ_min = np.nan\n",
        "\n",
        "        # Calculate optimal portfolio (π*) according to Proposition 2\n",
        "        try:\n",
        "            Vw_inv = np.linalg.inv(Vw_reg)\n",
        "            r_Vinv_r = r_bar @ Vw_inv @ r_bar\n",
        "            pi_star = (mu_tilde * Vw_inv @ r_bar) / r_Vinv_r\n",
        "        except np.linalg.LinAlgError:\n",
        "            # Fallback to pseudoinverse if inversion fails\n",
        "            Vw_inv = np.linalg.pinv(Vw_reg)\n",
        "            r_Vinv_r = r_bar @ Vw_inv @ r_bar\n",
        "            pi_star = (mu_tilde * Vw_inv @ r_bar) / r_Vinv_r\n",
        "\n",
        "        # Calculate objective value H*\n",
        "        H_star = mu_tilde**2 / phi_star\n",
        "\n",
        "        # Calculate dpi_star using finite difference\n",
        "        if idx > 0 and prev_pi_star is not None:\n",
        "            alpha_diff = alpha - ALPHA_GRID[idx-1]\n",
        "            dpi_star = (pi_star - prev_pi_star) / alpha_diff\n",
        "        else:\n",
        "            dpi_star = np.zeros(K)  # For the first iteration\n",
        "\n",
        "        # Calculate Robust Sharpe Ratio (correctly using pi_star)\n",
        "        try:\n",
        "            denom = np.sqrt(pi_star @ Vw @ pi_star)\n",
        "            SR_rob = (pi_star @ r_bar) / denom if denom > 0 else np.nan\n",
        "        except:\n",
        "            SR_rob = np.nan\n",
        "\n",
        "        # Calculate SR bound\n",
        "        try:\n",
        "            rho_max = max(\n",
        "                r_bar @ np.linalg.pinv(Σ[:, :, m]) @ r_bar\n",
        "                for m in range(M)\n",
        "            )\n",
        "            SR_bound = np.sqrt(rho_max / (1 - rho_max)) if rho_max < 1 else np.nan\n",
        "        except:\n",
        "            SR_bound = np.nan\n",
        "\n",
        "        # Create record for this alpha value\n",
        "        rec = dict(\n",
        "            alpha=alpha,\n",
        "            H_star=H_star,\n",
        "            supp_w=int((w_star > 1e-6).sum()),\n",
        "            lambda_min=λ_min,\n",
        "            iterations=nit,\n",
        "            SR_rob=SR_rob,\n",
        "            SR_bound=SR_bound\n",
        "        )\n",
        "\n",
        "        # Add weight and portfolio allocation values\n",
        "        rec.update({f\"w*_m{m}\": w_star[m] for m in range(M)})\n",
        "        rec.update({f\"pi*_k{k}\": pi_star[k] for k in range(K)})\n",
        "\n",
        "        # Add derivative values (correctly as a vector)\n",
        "        rec.update({f\"dpi*_k{k}\": dpi_star[k] for k in range(K)})\n",
        "\n",
        "        # Add placeholders for other columns\n",
        "        rec.update({k: np.nan for k in cols_ret + cols_lam})\n",
        "\n",
        "        records.append(rec)\n",
        "        prev_pi_star = pi_star.copy()  # Save for next iteration\n",
        "\n",
        "    cols = ([\"alpha\",\"H_star\",\"supp_w\",\"lambda_min\",\"iterations\",\n",
        "             \"SR_rob\",\"SR_bound\"]+cols_w+cols_pi+cols_ret+cols_lam+cols_dpi)\n",
        "    df = pd.DataFrame.from_records(records, columns=cols)\n",
        "    df.to_csv(out_csv, index=False, float_format=\"%.10g\")\n",
        "    print(f\"[{datetime.now().isoformat(timespec='seconds')}]  CSV written → {out_csv}\")\n",
        "    return df\n",
        "\n",
        "\n",
        "if __name__ == \"__main__\":\n",
        "    df_preview = run_sweep()\n",
        "    print(df_preview.head())      # Colab/Jupyter でテーブル表示"
      ],
      "metadata": {
        "id": "Yr5qDYuURWqB"
      },
      "execution_count": null,
      "outputs": []
    },
    {
      "cell_type": "code",
      "source": [],
      "metadata": {
        "id": "_QndME7ASFAs"
      },
      "execution_count": null,
      "outputs": []
    },
    {
      "cell_type": "markdown",
      "source": [
        "#$C^m$のみが異なる場合"
      ],
      "metadata": {
        "id": "xk-wcXVBdWhf"
      }
    },
    {
      "cell_type": "code",
      "source": [
        "import numpy as np\n",
        "import pandas as pd\n",
        "from datetime import datetime\n",
        "\n",
        "# -------------------- problem constants --------------------------\n",
        "K = M = 4\n",
        "mu_tilde = 0.03\n",
        "\n",
        "ALPHA_GRID = np.linspace(ALPHA_MIN, ALPHA_MAX, N_ALPHA)\n",
        "\n",
        "r_bar = np.array([0.02, 0.03, 0.04, 0.05])\n",
        "sigma_bar = np.array([0.20, 0.25, 0.30, 0.35])\n",
        "inv_sigma_bar = 1.0 / sigma_bar          # D(σ̄)⁻¹\n",
        "g_vec = r_bar / sigma_bar                # g = D(σ̄)⁻¹ r̄\n",
        "\n",
        "beta_corr = 0.5                          # mixing weight\n",
        "\n",
        "# ---- base / tilde correlation matrices --------------------------\n",
        "def block_corr(rho_in, rho_out):\n",
        "    C = np.full((K, K), rho_out)\n",
        "    np.fill_diagonal(C, 1.0)\n",
        "    sectA, sectB = [0, 1], [2, 3]\n",
        "    for i in sectA:\n",
        "        for j in sectA:\n",
        "            if i != j:\n",
        "                C[i, j] = rho_in\n",
        "    for i in sectB:\n",
        "        for j in sectB:\n",
        "            if i != j:\n",
        "                C[i, j] = rho_in\n",
        "    return C\n",
        "\n",
        "C_base = block_corr(0.75, 0.50)          # common base\n",
        "C_tilde = [\n",
        "    block_corr(0.85, 0.40),\n",
        "    block_corr(0.65, 0.40),\n",
        "    block_corr(0.65, 0.60),\n",
        "    block_corr(0.85, 0.60),\n",
        "]\n",
        "\n",
        "# ---- blend & SPD-project ----------------------------------------\n",
        "def mix_corr(C0, C1, alpha, beta=0.5, eps=1e-4):\n",
        "    C = (1 - beta * alpha) * C0 + beta * alpha * C1\n",
        "    eigval, eigvec = np.linalg.eigh(C)\n",
        "    eigval = np.clip(eigval, eps, None)        # SPD clip\n",
        "    C_spd = eigvec @ np.diag(eigval) @ eigvec.T\n",
        "    D = np.sqrt(np.diag(C_spd))\n",
        "    return C_spd / np.outer(D, D)              # correlation\n",
        "\n",
        "# -------- simplex projection (Condat/Fukushima) ------------------\n",
        "def proj_simplex(v):\n",
        "    v = v.clip(min=0.0)\n",
        "    if abs(v.sum() - 1) < 1e-10:\n",
        "        return v\n",
        "    u = np.sort(v)[::-1]\n",
        "    cssv = np.cumsum(u) - 1\n",
        "    rho = (u - cssv / (np.arange(len(v)) + 1) > 0).nonzero()[0][-1]\n",
        "    theta = cssv[rho] / (rho + 1)\n",
        "    return np.maximum(v - theta, 0.0)\n",
        "\n",
        "# -------- Φ(w) = gᵀQ⁻¹g  and its gradient ∇Φ(w) ------------------\n",
        "def phi_and_grad(w, Cstack):\n",
        "    Q = sum(w[m] * Cstack[m] for m in range(M))\n",
        "    y = np.linalg.solve(Q, g_vec)             # Cholesky solve (4×4)\n",
        "    phi = g_vec @ y\n",
        "    grad = -np.array([y @ Cstack[m] @ y for m in range(M)])\n",
        "    return phi, grad, y\n",
        "\n",
        "# -------------- fast L-BFGS on the simplex Δ_M -------------------\n",
        "def minimise_phi(Cstack, it_max=40, lbfgs_m=5):\n",
        "    w = np.full(M, 1 / M)\n",
        "    s_hist, y_hist = [], []\n",
        "    phi, grad, y = phi_and_grad(w, Cstack)\n",
        "\n",
        "    for _ in range(it_max):\n",
        "        # ---- two-loop recursion (limited memory) ---------------\n",
        "        q = grad.copy()\n",
        "        alpha_hist = []\n",
        "        for s, y_h in reversed(list(zip(s_hist, y_hist))):\n",
        "            rho = 1.0 / (y_h @ s)\n",
        "            a = rho * (s @ q)\n",
        "            alpha_hist.append(a)\n",
        "            q -= a * y_h\n",
        "        if s_hist:\n",
        "            gamma = (s_hist[-1] @ y_hist[-1]) / (y_hist[-1] @ y_hist[-1])\n",
        "            q *= gamma\n",
        "        for s, y_h, a in zip(s_hist, y_hist, reversed(alpha_hist)):\n",
        "            rho = 1.0 / (y_h @ s)\n",
        "            beta = rho * (y_h @ q)\n",
        "            q += s * (a - beta)\n",
        "        d = -q\n",
        "\n",
        "        # ---- Armijo line search on simplex ---------------------\n",
        "        step = 1.0\n",
        "        while step > 1e-6:\n",
        "            w_new = proj_simplex(w + step * d)\n",
        "            phi_new, grad_new, y_new = phi_and_grad(w_new, Cstack)\n",
        "            if phi_new < phi - 1e-4 * step * (grad @ d):\n",
        "                break\n",
        "            step *= 0.5\n",
        "        if step <= 1e-6:\n",
        "            break\n",
        "\n",
        "        s_k = w_new - w\n",
        "        y_k = grad_new - grad\n",
        "        if y_k @ s_k > 1e-12:\n",
        "            s_hist.append(s_k)\n",
        "            y_hist.append(y_k)\n",
        "            if len(s_hist) > lbfgs_m:\n",
        "                s_hist.pop(0); y_hist.pop(0)\n",
        "\n",
        "        w, phi, grad, y = w_new, phi_new, grad_new, y_new\n",
        "        if np.linalg.norm(proj_simplex(w - grad) - w) < 1e-8:\n",
        "            break\n",
        "    return phi, w, y\n",
        "\n",
        "# ---------------------------------------------------------------------\n",
        "# X.  ROBUST SHARPE と 上限を計算\n",
        "# ---------------------------------------------------------------------\n",
        "def robust_sharpe(pi, w, R, Sigma):\n",
        "    \"\"\"SR_rob と理論上限 SR_bound を返す。\"\"\"\n",
        "    if pi is None or w is None:\n",
        "        return np.nan, np.nan\n",
        "    r_bar = R @ w\n",
        "    Sigma_b = sum(w[m] * Sigma[:, :, m] for m in range(M))\n",
        "    Vw = Sigma_b - np.outer(r_bar, r_bar)\n",
        "    num = pi @ r_bar\n",
        "    denom = np.sqrt(pi @ Vw @ pi)\n",
        "    SR_rob = num / denom if denom > 0 else np.nan\n",
        "\n",
        "    # ρ_max\n",
        "    rho_max = max(\n",
        "        r_bar @ np.linalg.pinv(Sigma[:, :, m]) @ r_bar\n",
        "        for m in range(M)\n",
        "    )\n",
        "    SR_bound = (np.sqrt(rho_max / (1 - rho_max))\n",
        "                if rho_max < 1 else np.nan)\n",
        "\n",
        "    return SR_rob, SR_bound\n",
        "\n",
        "# ------------------------ main computation -----------------------\n",
        "rows = []\n",
        "prev_pi_star = None  # For derivative calculation\n",
        "\n",
        "for idx, alpha in enumerate(ALPHA_GRID):\n",
        "    # Cstack depends on α\n",
        "    Cstack = [mix_corr(C_base, C_tilde[m], alpha, beta_corr) for m in range(M)]\n",
        "    phi_star, w_star, y_star = minimise_phi(Cstack)\n",
        "    H_star = mu_tilde ** 2 / phi_star\n",
        "    # π* = μ̃ / Φ* · D(σ̄)⁻¹ y\n",
        "    pi_star = (mu_tilde / phi_star) * inv_sigma_bar * y_star\n",
        "    cstr_ret = r_bar.T @ pi_star   # Constraint returns\n",
        "\n",
        "    # --- Compute covariance matrices correctly ---\n",
        "    V = np.zeros((K, K, M))\n",
        "    Sigma = np.zeros((K, K, M))\n",
        "\n",
        "    for m in range(M):\n",
        "        C_m = mix_corr(C_base, C_tilde[m], alpha, beta_corr)\n",
        "        # V^m = D(σ̄)C^mD(σ̄)\n",
        "        V[:, :, m] = np.diag(sigma_bar) @ C_m @ np.diag(sigma_bar)\n",
        "        # Σ^m = V^m + r^m(r^m)^T\n",
        "        Sigma[:, :, m] = V[:, :, m] + np.outer(r_bar, r_bar)\n",
        "\n",
        "    # --- Calculate V^w and its minimum eigenvalue ---\n",
        "    Vw = sum(w_star[m] * V[:, :, m] for m in range(M))\n",
        "    # Find minimum eigenvalue of V^w\n",
        "    lambda_min = np.min(np.linalg.eigvalsh(Vw))\n",
        "\n",
        "    # --- Calculate derivative of pi* with respect to alpha using finite difference ---\n",
        "    dpi_star = np.zeros(K)\n",
        "    if idx > 0 and prev_pi_star is not None:\n",
        "        alpha_diff = alpha - ALPHA_GRID[idx-1]\n",
        "        dpi_star = (pi_star - prev_pi_star) / alpha_diff\n",
        "\n",
        "    # --- robust Sharpe and bound --------------------------------\n",
        "    # 修正: r_barは全てのモデルで共通なので、単一ベクトルで計算\n",
        "    SR_rob, SR_bound = robust_sharpe(pi_star, w_star, np.tile(r_bar.reshape(K, 1), M), Sigma)\n",
        "\n",
        "    # Ensure all variables are in correct iterable form\n",
        "    row = [alpha, H_star, lambda_min, SR_rob, SR_bound] + list(w_star) + list(pi_star) + [cstr_ret] + list(dpi_star)\n",
        "    rows.append(row)\n",
        "\n",
        "    # Store current pi_star for next iteration's derivative calculation\n",
        "    prev_pi_star = pi_star.copy()\n",
        "\n",
        "# --------------------------- CSV export --------------------------\n",
        "columns = [\"alpha\", \"H_star\", \"lambda_min\", \"SR_rob\", \"SR_bound\",\n",
        "           \"w*_m0\", \"w*_m1\", \"w*_m2\", \"w*_m3\",\n",
        "           \"pi*_k0\", \"pi*_k1\", \"pi*_k2\", \"pi*_k3\",\n",
        "           \"cstr_ret\",\n",
        "           \"dpi*_k0\", \"dpi*_k1\", \"dpi*_k2\", \"dpi*_k3\"]\n",
        "\n",
        "df = pd.DataFrame(rows, columns=columns)\n",
        "out_path = \"phi_min_results_with_SR.csv\"\n",
        "df.to_csv(out_path, index=False)\n",
        "\n",
        "print(\"CSV saved →\", out_path)\n",
        "print(\"Finished:\", datetime.now().strftime(\"%Y-%m-%d %H:%M:%S\"))"
      ],
      "metadata": {
        "id": "aypYlg59SFwz"
      },
      "execution_count": null,
      "outputs": []
    }
  ]
}