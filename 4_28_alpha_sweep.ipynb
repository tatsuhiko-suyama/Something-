{
  "nbformat": 4,
  "nbformat_minor": 0,
  "metadata": {
    "colab": {
      "provenance": [],
      "authorship_tag": "ABX9TyOvmsuk3rjj9DmwdJQd9jwP",
      "include_colab_link": true
    },
    "kernelspec": {
      "name": "python3",
      "display_name": "Python 3"
    },
    "language_info": {
      "name": "python"
    }
  },
  "cells": [
    {
      "cell_type": "markdown",
      "metadata": {
        "id": "view-in-github",
        "colab_type": "text"
      },
      "source": [
        "<a href=\"https://colab.research.google.com/github/tatsuhiko-suyama/Something-/blob/main/4_28_alpha_sweep.ipynb\" target=\"_parent\"><img src=\"https://colab.research.google.com/assets/colab-badge.svg\" alt=\"Open In Colab\"/></a>"
      ]
    },
    {
      "cell_type": "code",
      "execution_count": null,
      "metadata": {
        "colab": {
          "base_uri": "https://localhost:8080/"
        },
        "id": "daC6N1K8QzyE",
        "outputId": "c0644acc-e87e-426f-873b-477e3381623b"
      },
      "outputs": [
        {
          "output_type": "stream",
          "name": "stdout",
          "text": [
            "========== α-Sweep START ==========\n"
          ]
        },
        {
          "output_type": "stream",
          "name": "stderr",
          "text": [
            "INFO:sweep:========== α-Sweep START ==========\n"
          ]
        },
        {
          "output_type": "stream",
          "name": "stdout",
          "text": [
            "α = 0.01000  (1/101)\n"
          ]
        },
        {
          "output_type": "stream",
          "name": "stderr",
          "text": [
            "INFO:sweep:α = 0.01000  (1/101)\n"
          ]
        },
        {
          "output_type": "stream",
          "name": "stdout",
          "text": [
            "α = 0.02990  (2/101)\n"
          ]
        },
        {
          "output_type": "stream",
          "name": "stderr",
          "text": [
            "INFO:sweep:α = 0.02990  (2/101)\n"
          ]
        },
        {
          "output_type": "stream",
          "name": "stdout",
          "text": [
            "α = 0.04980  (3/101)\n"
          ]
        },
        {
          "output_type": "stream",
          "name": "stderr",
          "text": [
            "INFO:sweep:α = 0.04980  (3/101)\n"
          ]
        },
        {
          "output_type": "stream",
          "name": "stdout",
          "text": [
            "α = 0.06970  (4/101)\n"
          ]
        },
        {
          "output_type": "stream",
          "name": "stderr",
          "text": [
            "INFO:sweep:α = 0.06970  (4/101)\n"
          ]
        },
        {
          "output_type": "stream",
          "name": "stdout",
          "text": [
            "α = 0.08960  (5/101)\n"
          ]
        },
        {
          "output_type": "stream",
          "name": "stderr",
          "text": [
            "INFO:sweep:α = 0.08960  (5/101)\n"
          ]
        },
        {
          "output_type": "stream",
          "name": "stdout",
          "text": [
            "α = 0.10950  (6/101)\n"
          ]
        },
        {
          "output_type": "stream",
          "name": "stderr",
          "text": [
            "INFO:sweep:α = 0.10950  (6/101)\n"
          ]
        },
        {
          "output_type": "stream",
          "name": "stdout",
          "text": [
            "α = 0.12940  (7/101)\n"
          ]
        },
        {
          "output_type": "stream",
          "name": "stderr",
          "text": [
            "INFO:sweep:α = 0.12940  (7/101)\n"
          ]
        },
        {
          "output_type": "stream",
          "name": "stdout",
          "text": [
            "α = 0.14930  (8/101)\n"
          ]
        },
        {
          "output_type": "stream",
          "name": "stderr",
          "text": [
            "INFO:sweep:α = 0.14930  (8/101)\n"
          ]
        }
      ],
      "source": [
        "#!/usr/bin/env python3\n",
        "# -*- coding: utf-8 -*-\n",
        "\"\"\"\n",
        "alpha_sweep_K4M4.py  –  Robust MVP α-sweep  (K = M = 4)\n",
        "2025-04-28  patched version  (Q1–Q5 反映)\n",
        "\n",
        "変更ログ\n",
        "--------\n",
        "* Q1  射影勾配を用いた KKT 停止判定\n",
        "* Q2  BB ステップ幅 γ_BB の符号チェック（γ_BB > 0 のみ採用）\n",
        "* Q3  `seed` 引数で乱初期点を許可（未指定なら一様重み）\n",
        "* Q4  dpi* 計算を可変幅 h で中央差分（端点は片側差分）\n",
        "* Q5  λ ベクトルは **0 埋め**（欠測は 0.0）に統一\n",
        "\"\"\"\n",
        "\n",
        "# ---------------------------------------------------------------------\n",
        "# 0. IMPORTS & GLOBAL CONSTANTS\n",
        "# ---------------------------------------------------------------------\n",
        "import numpy as np\n",
        "import pandas as pd\n",
        "import itertools, logging, sys\n",
        "from datetime import datetime\n",
        "\n",
        "K, M         = 4, 4\n",
        "mu_tilde     = 0.03\n",
        "ALPHA_MIN    = 0.01\n",
        "ALPHA_MAX    = 2.0\n",
        "N_ALPHA      = 101                      # ← 必要なら 201 へ拡張可\n",
        "ALPHA_GRID   = np.linspace(ALPHA_MIN, ALPHA_MAX, N_ALPHA)\n",
        "\n",
        "MAX_OPT_ITERS            = 1000\n",
        "tol_grad                 = 1e-8\n",
        "step_size_norm_threshold = 1e-12        # tighten\n",
        "lr_init, lr_max          = 0.15, 1.0\n",
        "\n",
        "FINITE_DIFF_EPS          = 1e-12        # 安定化用\n",
        "\n",
        "# ---------------------------------------------------------------------\n",
        "# 1. SYNTHETIC DATA\n",
        "# ---------------------------------------------------------------------\n",
        "r_base = np.array([0.02, 0.03, 0.04, 0.05])\n",
        "Delta_A = np.array([[+1, -1, +1, +1],\n",
        "                    [+2, -2, -2, -2],\n",
        "                    [-2, +3, +3, -3],\n",
        "                    [+4, +4, -4, +4]], dtype=float)\n",
        "Delta_r_m     = Delta_A / 1000\n",
        "sigma_base    = np.array([0.20, 0.25, 0.30, 0.35])\n",
        "Delta_sigma_m = Delta_A / 100\n",
        "\n",
        "def block_corr(rho_in: float, rho_out: float) -> np.ndarray:\n",
        "    C = np.full((K, K), rho_out)\n",
        "    np.fill_diagonal(C, 1.0)\n",
        "    sectA, sectB = [0, 1], [2, 3]\n",
        "    for i in sectA:\n",
        "        for j in sectA:\n",
        "            if i != j:\n",
        "                C[i, j] = rho_in\n",
        "    for i in sectB:\n",
        "        for j in sectB:\n",
        "            if i != j:\n",
        "                C[i, j] = rho_in\n",
        "    return C\n",
        "\n",
        "C_base = block_corr(0.75, 0.50)\n",
        "tilde_C_list = [\n",
        "    block_corr(0.85, 0.40),\n",
        "    block_corr(0.65, 0.40),\n",
        "    block_corr(0.65, 0.60),\n",
        "    block_corr(0.85, 0.60),\n",
        "]\n",
        "beta_corr = 0.5\n",
        "\n",
        "def mix_corr(C0, C1, alpha, beta=0.5, eps=1e-4):\n",
        "    C = (1 - beta * alpha) * C0 + beta * alpha * C1\n",
        "    eigval, eigvec = np.linalg.eigh(C)\n",
        "    eigval_clip = np.clip(eigval, eps, None)\n",
        "    C_spd = eigvec @ np.diag(eigval_clip) @ eigvec.T\n",
        "    D = np.sqrt(np.diag(C_spd))\n",
        "    return C_spd / np.outer(D, D), float(eigval_clip.min())\n",
        "\n",
        "# ---------------------------------------------------------------------\n",
        "# 2. SIMPLEX PROJECTION\n",
        "# ---------------------------------------------------------------------\n",
        "def proj_simplex(v: np.ndarray) -> np.ndarray:\n",
        "    v = np.asarray(v, float)\n",
        "    if (v >= 0).all() and np.isclose(v.sum(), 1.0, atol=1e-9):\n",
        "        return v\n",
        "    u = np.sort(v)[::-1]\n",
        "    cssv = np.cumsum(u) - 1\n",
        "    rho = np.where(u - cssv / (np.arange(len(u)) + 1) > 0)[0][-1]\n",
        "    theta = cssv[rho] / (rho + 1)\n",
        "    return np.maximum(v - theta, 0.0)\n",
        "\n",
        "# ---------------------------------------------------------------------\n",
        "# 3. PARAMETER CONSTRUCTION\n",
        "# ---------------------------------------------------------------------\n",
        "def build_params(alpha: float):\n",
        "    R_th = r_base[:, None] + alpha * Delta_r_m\n",
        "    Sigma_th = np.zeros((K, K, M))\n",
        "    lambda_log = []\n",
        "    for m in range(M):\n",
        "        sig_vec = sigma_base + alpha * Delta_sigma_m[:, m]\n",
        "        diag_sig = np.diag(sig_vec)\n",
        "        C_alpha, lam_min = mix_corr(C_base, tilde_C_list[m], alpha,\n",
        "                                    beta=beta_corr)\n",
        "        lambda_log.append(lam_min)\n",
        "        Sigma_th[:, :, m] = diag_sig @ C_alpha @ diag_sig + np.outer(R_th[:, m], R_th[:, m])\n",
        "    return R_th, Sigma_th, lambda_log\n",
        "\n",
        "# ---------------------------------------------------------------------\n",
        "# 4. INNER MINIMISATION  (exact solve over active subsets)\n",
        "# ---------------------------------------------------------------------\n",
        "def inner_opt(w, R, Sigma,\n",
        "              tol_feas   = 1e-9,\n",
        "              lam_tol    = -1e-13,\n",
        "              rank_scale = 1e-10):\n",
        "    rank_tol = rank_scale * np.linalg.norm(R)\n",
        "    Ex = R @ w\n",
        "    Vw = sum(w[m] * Sigma[:, :, m] for m in range(M)) - np.outer(Ex, Ex)\n",
        "    try:\n",
        "        Vinv = np.linalg.inv(Vw)\n",
        "    except np.linalg.LinAlgError:\n",
        "        return None, np.inf, Ex, None, None\n",
        "\n",
        "    best_val = np.inf\n",
        "    best_pi = best_lam = best_subset = None\n",
        "\n",
        "    for s in range(1, M + 1):\n",
        "        for subset in itertools.combinations(range(M), s):\n",
        "            A = R[:, subset].T\n",
        "            if np.linalg.matrix_rank(A, tol=rank_tol) < s:\n",
        "                continue\n",
        "            Mmat = A @ Vinv @ A.T\n",
        "            if np.linalg.matrix_rank(Mmat, tol=rank_tol) < s:\n",
        "                continue\n",
        "            lam = np.linalg.solve(Mmat, mu_tilde * np.ones(s))\n",
        "            if np.any(lam < lam_tol):\n",
        "                continue\n",
        "            pi = Vinv @ A.T @ lam\n",
        "            if np.any(R.T @ pi < mu_tilde - tol_feas):\n",
        "                continue\n",
        "            val = pi @ Vw @ pi\n",
        "            if val + 1e-12 < best_val:\n",
        "                best_val, best_pi, best_lam, best_subset = val, pi, lam, subset\n",
        "\n",
        "    if best_pi is None:\n",
        "        return None, np.inf, Ex, None, None\n",
        "    return best_pi, best_val, Ex, best_lam, best_subset\n",
        "\n",
        "# ---------------------------------------------------------------------\n",
        "# 5. OUTER OBJECTIVE & GRADIENT\n",
        "# ---------------------------------------------------------------------\n",
        "def H_and_grad(w, R, Sigma):\n",
        "    pi, val, Ex, lam, subset = inner_opt(w, R, Sigma)\n",
        "    if val == np.inf:\n",
        "        return val, None, pi, lam, subset\n",
        "    grad = np.array([\n",
        "        pi @ Sigma[:, :, m] @ pi - 2 * (pi @ R[:, m]) * (pi @ Ex)\n",
        "        for m in range(M)\n",
        "    ])\n",
        "    return val, grad, pi, lam, subset\n",
        "\n",
        "# ---------------------------------------------------------------------\n",
        "# 6. OUTER OPTIMISER  (PG + Barzilai–Borwein + Armijo back-tracking)\n",
        "# ---------------------------------------------------------------------\n",
        "def optimise_outer(R, Sigma, *, start=None, seed=None):\n",
        "    if start is None:\n",
        "        if seed is None:\n",
        "            w = np.ones(M) / M               # default uniform\n",
        "        else:\n",
        "            rng = np.random.default_rng(seed)\n",
        "            w = rng.random(M)\n",
        "            w = proj_simplex(w)\n",
        "    else:\n",
        "        w = proj_simplex(start)\n",
        "\n",
        "    val, g, pi, lam, subset = H_and_grad(w, R, Sigma)\n",
        "    best = (val, w.copy(), pi, lam, subset)\n",
        "    lr   = lr_init\n",
        "    g_prev, w_prev = g.copy(), w.copy()\n",
        "\n",
        "    for it in range(1, MAX_OPT_ITERS + 1):\n",
        "\n",
        "        # --- KKT 残差（射影勾配）\n",
        "        proj_grad = w - proj_simplex(w - g)\n",
        "        if np.linalg.norm(proj_grad) < tol_grad:\n",
        "            break\n",
        "\n",
        "        # --- BB ステップ幅\n",
        "        if it > 1:\n",
        "            dw, dg = w - w_prev, g - g_prev\n",
        "            denom = np.dot(dg, dg)\n",
        "            if denom > 1e-12:\n",
        "                gamma_bb = np.dot(dw, dg) / denom\n",
        "                if gamma_bb > 0.0:                     # ascend only\n",
        "                    lr = np.clip(gamma_bb, 1e-4, lr_max)\n",
        "\n",
        "        # --- Armijo line-search\n",
        "        lr_curr = lr\n",
        "        accept  = False\n",
        "        while lr_curr >= 1e-6:\n",
        "            w_trial = proj_simplex(w + lr_curr * g)    # ascent step\n",
        "            if np.linalg.norm(w_trial - w) < step_size_norm_threshold:\n",
        "                lr_curr = 0.0\n",
        "                break\n",
        "            val_t, g_t, pi_t, lam_t, subset_t = H_and_grad(w_trial, R, Sigma)\n",
        "            if val_t >= val - 1e-12:                   # ascent condition\n",
        "                w_prev, g_prev = w.copy(), g.copy()\n",
        "                w, val, g = w_trial, val_t, g_t\n",
        "                pi, lam, subset = pi_t, lam_t, subset_t\n",
        "                if val > best[0]:\n",
        "                    best = (val, w.copy(), pi, lam, subset)\n",
        "                lr = min(lr_curr * 1.2, lr_max)\n",
        "                accept = True\n",
        "                break\n",
        "            lr_curr *= 0.5\n",
        "        if not accept:\n",
        "            break\n",
        "\n",
        "    return (*best, it)\n",
        "\n",
        "# ---------------------------------------------------------------------\n",
        "# 7. FINITE DIFFERENCE HELPERS\n",
        "# ---------------------------------------------------------------------\n",
        "def finite_diff(f_p, f_m, h):\n",
        "    if f_p is None or f_m is None:\n",
        "        return np.nan\n",
        "    return (f_p - f_m) / max(h * 2, FINITE_DIFF_EPS)\n",
        "\n",
        "def finite_diff_vec(v_p, v_m, h, length):\n",
        "    if v_p is None or v_m is None:\n",
        "        return np.full(length, np.nan)\n",
        "    return (v_p - v_m) / max(h * 2, FINITE_DIFF_EPS)\n",
        "\n",
        "# ---------------------------------------------------------------------\n",
        "# 8. α-SWEEP\n",
        "# ---------------------------------------------------------------------\n",
        "def robust_opt(alpha, *, seed=None):\n",
        "    R_th, Sigma_th, _ = build_params(alpha)\n",
        "    H_star, w_star, pi_star, lam_star, subset_star, iters = optimise_outer(\n",
        "        R_th, Sigma_th, seed=seed)\n",
        "    return dict(H_star=H_star, w_star=w_star, pi_star=pi_star,\n",
        "                lam_star=lam_star, subset=subset_star, R=R_th, iters=iters)\n",
        "\n",
        "def run_alpha_sweep(csv_path=\"alpha_sweep_K4M4.csv\", *, seed_outer=None):\n",
        "    log = logging.getLogger(\"sweep\")\n",
        "    log.setLevel(logging.INFO)\n",
        "    log.addHandler(logging.StreamHandler(sys.stdout))\n",
        "\n",
        "    col_w   = [f\"w*_m{m}\"   for m in range(M)]\n",
        "    col_pi  = [f\"pi*_k{k}\"  for k in range(K)]\n",
        "    col_ret = [f\"cstr_ret_m{m}\" for m in range(M)]\n",
        "    col_lam = [f\"lam_m{m}\"  for m in range(M)]\n",
        "    col_dpi = [f\"dpi*_k{k}\" for k in range(K)]\n",
        "    columns = ([\"alpha\", \"H_star\", \"supp_w\", \"lambda_min\", \"iterations\"]\n",
        "               + col_w + col_pi + col_ret + col_lam + col_dpi)\n",
        "\n",
        "    rows, cache = [], {}\n",
        "    t0 = datetime.now()\n",
        "    log.info(\"========== α-Sweep START ==========\")\n",
        "\n",
        "    for idx, alpha in enumerate(ALPHA_GRID):\n",
        "        log.info(\"α = %.5f  (%d/%d)\", alpha, idx + 1, N_ALPHA)\n",
        "\n",
        "        # -- utility with memoisation ---------------------------------\n",
        "        def get(a):\n",
        "            if a is None:\n",
        "                return None\n",
        "            if a not in cache:\n",
        "                cache[a] = robust_opt(a, seed=seed_outer)\n",
        "            return cache[a]\n",
        "\n",
        "        res_c   = get(alpha)\n",
        "        H_star  = res_c[\"H_star\"]\n",
        "        w_star  = res_c[\"w_star\"]\n",
        "        pi_star = res_c[\"pi_star\"]\n",
        "        lam_star= res_c[\"lam_star\"]\n",
        "        subset  = res_c[\"subset\"]\n",
        "        R_th    = res_c[\"R\"]\n",
        "        iters   = res_c[\"iters\"]\n",
        "\n",
        "        # SPD λ_min (smallest eigen-value) logging\n",
        "        _, _, lambda_log = build_params(alpha)\n",
        "        lambda_min_val   = float(min(lambda_log))\n",
        "\n",
        "        # --- central / one-sided finite differences ------------------\n",
        "        prev_alpha = ALPHA_GRID[idx - 1] if idx > 0 else None\n",
        "        next_alpha = ALPHA_GRID[idx + 1] if idx < N_ALPHA - 1 else None\n",
        "        h_left  = alpha - prev_alpha if prev_alpha is not None else None\n",
        "        h_right = next_alpha - alpha if next_alpha is not None else None\n",
        "\n",
        "        if prev_alpha is not None and next_alpha is not None:\n",
        "            h = min(h_left, h_right)\n",
        "            H_p  = get(alpha + h)[\"H_star\"]\n",
        "            H_m  = get(alpha - h)[\"H_star\"]\n",
        "            pi_p = get(alpha + h)[\"pi_star\"]\n",
        "            pi_m = get(alpha - h)[\"pi_star\"]\n",
        "        elif prev_alpha is None:           # left boundary → forward diff\n",
        "            h = h_right\n",
        "            H_p  = get(next_alpha)[\"H_star\"]\n",
        "            H_m  = H_star\n",
        "            pi_p = get(next_alpha)[\"pi_star\"]\n",
        "            pi_m = pi_star\n",
        "        else:                              # right boundary → backward diff\n",
        "            h = h_left\n",
        "            H_p  = H_star\n",
        "            H_m  = get(prev_alpha)[\"H_star\"]\n",
        "            pi_p = pi_star\n",
        "            pi_m = get(prev_alpha)[\"pi_star\"]\n",
        "\n",
        "        dpi_star = finite_diff_vec(pi_p, pi_m, h, K)\n",
        "\n",
        "        # --- constraint returns and λ vector -------------------------\n",
        "        cstr_ret = R_th.T @ pi_star if pi_star is not None else np.full(M, np.nan)\n",
        "        lam_vec  = np.zeros(M)                                # ← Q5: 0 埋め\n",
        "        if lam_star is not None and subset is not None:\n",
        "            for j, m_idx in enumerate(subset):\n",
        "                lam_vec[m_idx] = lam_star[j]\n",
        "\n",
        "        row = ([alpha, H_star,\n",
        "                int((w_star > 1e-6).sum()) if w_star is not None else np.nan,\n",
        "                lambda_min_val, iters]\n",
        "               + list(w_star) + list(pi_star) + list(cstr_ret) + list(lam_vec) + list(dpi_star))\n",
        "        rows.append(row)\n",
        "\n",
        "    df = pd.DataFrame(rows, columns=columns)\n",
        "    df.to_csv(csv_path, index=False, float_format=\"%.10g\")\n",
        "    log.info(\"CSV written to %s  (elapsed %.1fs)\", csv_path,\n",
        "             (datetime.now() - t0).total_seconds())\n",
        "    return df\n",
        "\n",
        "# ---------------------------------------------------------------------\n",
        "# 9. MAIN\n",
        "# ---------------------------------------------------------------------\n",
        "if __name__ == \"__main__\":\n",
        "    run_alpha_sweep()"
      ]
    }
  ]
}