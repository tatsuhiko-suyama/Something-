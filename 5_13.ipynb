{
  "nbformat": 4,
  "nbformat_minor": 0,
  "metadata": {
    "colab": {
      "provenance": [],
      "authorship_tag": "ABX9TyOU+K1zArmv5AC9TR+9gVby",
      "include_colab_link": true
    },
    "kernelspec": {
      "name": "python3",
      "display_name": "Python 3"
    },
    "language_info": {
      "name": "python"
    }
  },
  "cells": [
    {
      "cell_type": "markdown",
      "metadata": {
        "id": "view-in-github",
        "colab_type": "text"
      },
      "source": [
        "<a href=\"https://colab.research.google.com/github/tatsuhiko-suyama/Something-/blob/main/5_13.ipynb\" target=\"_parent\"><img src=\"https://colab.research.google.com/assets/colab-badge.svg\" alt=\"Open In Colab\"/></a>"
      ]
    },
    {
      "cell_type": "code",
      "execution_count": 54,
      "metadata": {
        "colab": {
          "base_uri": "https://localhost:8080/"
        },
        "id": "4x1PzjeG_t7h",
        "outputId": "c44af71f-1e80-41f5-e6eb-143f68647f57"
      },
      "outputs": [
        {
          "output_type": "stream",
          "name": "stdout",
          "text": [
            "[block_corr] K=4, r_in=0.75, r_out=0.5\n",
            "  Off-diag min: 0.5 max: 0.75\n",
            "  Diagonal all ones?: True\n",
            "[block_corr] K=4, r_in=0.85, r_out=0.4\n",
            "  Off-diag min: 0.4 max: 0.85\n",
            "  Diagonal all ones?: True\n",
            "[block_corr] K=4, r_in=0.65, r_out=0.4\n",
            "  Off-diag min: 0.4 max: 0.65\n",
            "  Diagonal all ones?: True\n",
            "[block_corr] K=4, r_in=0.65, r_out=0.6\n",
            "  Off-diag min: 0.6 max: 0.65\n",
            "  Diagonal all ones?: True\n",
            "[block_corr] K=4, r_in=0.85, r_out=0.6\n",
            "  Off-diag min: 0.6 max: 0.85\n",
            "  Diagonal all ones?: True\n"
          ]
        },
        {
          "output_type": "stream",
          "name": "stderr",
          "text": [
            "ERROR:analysis_flow:Param‑gen failed (α=1.000, AllVary): alpha must be in [0,1]\n",
            "Traceback (most recent call last):\n",
            "  File \"/content/analysis_flow.py\", line 175, in run_comparison_analysis_sweep\n",
            "    R_α, Σ_α, V_α, _ = gen_fn(α_val)\n",
            "                      ^^^^^^^^^^^^^\n",
            "  File \"/content/analysis_flow.py\", line 152, in <lambda>\n",
            "    \"AllVary\": lambda α: generate_params_all_vary(\n",
            "                         ^^^^^^^^^^^^^^^^^^^^^^^^^\n",
            "  File \"/content/utilities.py\", line 93, in generate_params_all_vary\n",
            "    C_alpha, lam = mix_corr(C_base, tilde_C_list[m], alpha, beta=beta_corr)\n",
            "                   ^^^^^^^^^^^^^^^^^^^^^^^^^^^^^^^^^^^^^^^^^^^^^^^^^^^^^^^^\n",
            "  File \"/content/utilities.py\", line 49, in mix_corr\n",
            "    raise ValueError(\"alpha must be in [0,1]\")\n",
            "ValueError: alpha must be in [0,1]\n",
            "ERROR:analysis_flow:Param‑gen failed (α=1.000, CVary): alpha must be in [0,1]\n",
            "Traceback (most recent call last):\n",
            "  File \"/content/analysis_flow.py\", line 175, in run_comparison_analysis_sweep\n",
            "    R_α, Σ_α, V_α, _ = gen_fn(α_val)\n",
            "                      ^^^^^^^^^^^^^\n",
            "  File \"/content/analysis_flow.py\", line 162, in <lambda>\n",
            "    \"CVary\": lambda α: generate_params_C_vary(\n",
            "                       ^^^^^^^^^^^^^^^^^^^^^^^\n",
            "  File \"/content/utilities.py\", line 182, in generate_params_C_vary\n",
            "    C_alpha, lam = mix_corr(C_base, tilde_C_list[m], alpha, beta=beta_corr)\n",
            "                   ^^^^^^^^^^^^^^^^^^^^^^^^^^^^^^^^^^^^^^^^^^^^^^^^^^^^^^^^\n",
            "  File \"/content/utilities.py\", line 49, in mix_corr\n",
            "    raise ValueError(\"alpha must be in [0,1]\")\n",
            "ValueError: alpha must be in [0,1]\n"
          ]
        }
      ],
      "source": [
        "import numpy as np\n",
        "import analysis_flow as af\n",
        "import logging                       # ← これを追加\n",
        "from scipy.optimize import minimize, Bounds, LinearConstraint\n",
        "logging.basicConfig(level=logging.INFO,\n",
        "                    format=\"%(levelname)s: %(message)s\")\n",
        "\n",
        "# ---- 0. グローバル定数 & ベースパラメータ -----------------------\n",
        "K = M = 4\n",
        "MU_TILDE = 0.03\n",
        "ALPHA_GRID = np.arange(0.1,1+0.001,0.001)  # 0〜1 を 0.01 刻み\n",
        "#   （以下は設計書どおり。ご自身のパラメータ設定に合わせて下さい）\n",
        "r_base  = np.array([0.02, 0.03, 0.04, 0.05])\n",
        "sigma_base = np.array([0.20, 0.25, 0.30, 0.35])\n",
        "Delta_A = np.array([[+1, 1, -1, -1],\n",
        "                    [+1, 1, -1, -1],\n",
        "                    [+2, -1, +2, -2],\n",
        "                    [+2, -2, +2, -2]], float)\n",
        "Delta_r = Delta_A/1000; Delta_sigma = Delta_A/100\n",
        "def block_corr(r_in: float, r_out: float, *, debug: bool = True) -> np.ndarray:\n",
        "    \"\"\"\n",
        "    Two-sector block correlation matrix with unit diagonal.\n",
        "\n",
        "    Parameters\n",
        "    ----------\n",
        "    r_in : float\n",
        "        Within-sector off-diagonal correlation.\n",
        "    r_out : float\n",
        "        Between-sector correlation.\n",
        "    debug : bool, default False\n",
        "        If True, print summary statistics for the generated matrix.\n",
        "\n",
        "    Returns\n",
        "    -------\n",
        "    C : (K,K) ndarray\n",
        "        Correlation matrix with diag(C)=1.\n",
        "    \"\"\"\n",
        "    k = 4  # use outer-scope K from self-test or call site\n",
        "    C = np.full((k, k), r_out, dtype=float)\n",
        "    np.fill_diagonal(C, 1.0)\n",
        "\n",
        "    mid = k // 2\n",
        "    for i in range(mid):\n",
        "        for j in range(mid):\n",
        "            if i != j:\n",
        "                C[i, j] = r_in\n",
        "    for i in range(mid, k):\n",
        "        for j in range(mid, k):\n",
        "            if i != j:\n",
        "                C[i, j] = r_in\n",
        "\n",
        "    if debug:\n",
        "        print(f\"[block_corr] K={k}, r_in={r_in}, r_out={r_out}\")\n",
        "        print(\"  Off-diag min:\", C[np.triu_indices(k, 1)].min(),\n",
        "              \"max:\", C[np.triu_indices(k, 1)].max())\n",
        "        print(\"  Diagonal all ones?:\", np.allclose(np.diag(C), 1.0))\n",
        "\n",
        "    return C\n",
        "\n",
        "C_base = block_corr(0.75,0.50)\n",
        "tilde_C = [block_corr(0.85,0.40), block_corr(0.65,0.40),\n",
        "           block_corr(0.65,0.60), block_corr(0.85,0.60)]\n",
        "V_base  = np.diag(sigma_base) @ C_base @ np.diag(sigma_base)\n",
        "df = af.run_comparison_analysis_sweep(\n",
        "    alpha_grid=ALPHA_GRID,\n",
        "    r_base=r_base, sigma_base=sigma_base, C_base=C_base, V_base=V_base,\n",
        "    Delta_r_m=Delta_r, Delta_sigma_m=Delta_sigma, tilde_C_list=tilde_C\n",
        ")\n",
        "df.to_csv('result.csv')"
      ]
    }
  ]
}