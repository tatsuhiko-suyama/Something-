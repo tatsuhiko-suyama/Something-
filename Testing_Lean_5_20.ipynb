{
  "nbformat": 4,
  "nbformat_minor": 0,
  "metadata": {
    "colab": {
      "provenance": [],
      "authorship_tag": "ABX9TyOnmrcr8KKd27P5lsAp1tpn",
      "include_colab_link": true
    },
    "kernelspec": {
      "name": "python3",
      "display_name": "Python 3"
    },
    "language_info": {
      "name": "python"
    }
  },
  "cells": [
    {
      "cell_type": "markdown",
      "metadata": {
        "id": "view-in-github",
        "colab_type": "text"
      },
      "source": [
        "<a href=\"https://colab.research.google.com/github/tatsuhiko-suyama/Something-/blob/main/Testing_Lean_5_20.ipynb\" target=\"_parent\"><img src=\"https://colab.research.google.com/assets/colab-badge.svg\" alt=\"Open In Colab\"/></a>"
      ]
    },
    {
      "cell_type": "code",
      "execution_count": 1,
      "metadata": {
        "colab": {
          "base_uri": "https://localhost:8080/"
        },
        "id": "CTv3JcwPLlQq",
        "outputId": "c23300f3-1539-4f4d-99f3-96951b20033b"
      },
      "outputs": [
        {
          "output_type": "stream",
          "name": "stdout",
          "text": [
            "\n",
            "  stable installed - Lean (version 4.19.0, x86_64-unknown-linux-gnu, commit 6caaee842e94, Release)\n",
            "\n",
            "\n",
            "  stable unchanged - Lean (version 4.19.0, x86_64-unknown-linux-gnu, commit 6caaee842e94, Release)\n",
            "\n",
            "Lean (version 4.19.0, x86_64-unknown-linux-gnu, commit 6caaee842e94, Release)\n"
          ]
        },
        {
          "output_type": "stream",
          "name": "stderr",
          "text": [
            "info: Version 4.1.1 of elan is available! Use `elan self update` to update.\n",
            "info: syncing channel updates for 'stable'\n",
            "info: latest update on stable, lean version v4.19.0\n",
            "info: downloading component 'lean'\n",
            "info: installing component 'lean'\n",
            "info: default toolchain set to 'stable'\n",
            "info: using existing install for 'stable'\n",
            "info: default toolchain set to 'stable'\n"
          ]
        }
      ],
      "source": [
        "%%bash\n",
        "# Lean 用バージョンマネージャ elan を取得してセットアップ\n",
        "wget -q https://github.com/leanprover/elan/releases/download/v3.1.1/elan-x86_64-unknown-linux-gnu.tar.gz\n",
        "tar -xzf elan-x86_64-unknown-linux-gnu.tar.gz\n",
        "./elan-init -y                          # すべて自動 Yes\n",
        "source ~/.elan/env                      # PATH を当セッションへ反映\n",
        "elan default stable                     # Lean4 安定版を取得\n",
        "lean --version                          # バージョンが表示されれば成功\n"
      ]
    },
    {
      "cell_type": "code",
      "source": [
        "%%bash\n",
        "source ~/.elan/env                      # ← 毎セル最初に PATH を通す\n",
        "rm -rf ~/lean-demo                      # 前回の残骸があれば削除（安全策）\n",
        "mkdir -p ~/lean-demo && cd ~/lean-demo\n",
        "\n",
        "lake init .                             # カレントディレクトリをプロジェクト化\n",
        "lake build                              # mathlib4 を取得して初回ビルド\n"
      ],
      "metadata": {
        "colab": {
          "base_uri": "https://localhost:8080/"
        },
        "id": "bCDpq7ttMG_x",
        "outputId": "e23f0bb2-4023-4ea2-ec45-a9fa43d50d39"
      },
      "execution_count": 2,
      "outputs": [
        {
          "output_type": "stream",
          "name": "stdout",
          "text": [
            "✔ [2/8] Built LeanDemo.Basic\n",
            "✔ [3/8] Built LeanDemo.Basic:c.o\n",
            "✔ [4/8] Built LeanDemo\n",
            "✔ [5/8] Built LeanDemo:c.o\n",
            "✔ [6/8] Built Main\n",
            "✔ [7/8] Built Main:c.o\n",
            "✔ [8/8] Built «lean-demo»\n",
            "Build completed successfully.\n"
          ]
        },
        {
          "output_type": "stream",
          "name": "stderr",
          "text": [
            "info: lean-demo: no previous manifest, creating one from scratch\n",
            "info: toolchain not updated; already up-to-date\n"
          ]
        }
      ]
    },
    {
      "cell_type": "code",
      "source": [
        "%%bash\n",
        "source ~/.elan/env\n",
        "cd ~/lean-demo                          # ★プロジェクトルートに移動（ここに lakefile がある）\n",
        "\n",
        "cat << 'EOF' > Hello.lean\n",
        "import Mathlib\n",
        "\n",
        "-- 自然数の恒等式サンプル\n",
        "example : 2 + 2 = 4 := by\n",
        "  norm_num\n",
        "EOF\n",
        "\n",
        "lake build                              # 追加ファイルを含めてビルド\n"
      ],
      "metadata": {
        "colab": {
          "base_uri": "https://localhost:8080/"
        },
        "id": "T_hYJKQGOKsQ",
        "outputId": "5d7713df-3fdf-40ce-f217-72298d2cc5fe"
      },
      "execution_count": 3,
      "outputs": [
        {
          "output_type": "stream",
          "name": "stdout",
          "text": [
            "Build completed successfully.\n"
          ]
        }
      ]
    },
    {
      "cell_type": "code",
      "source": [
        "%%bash\n",
        "source ~/.elan/env\n",
        "pip install -q leanclient               # Lean ↔ Python ラッパ\n",
        "\n",
        "python - << 'PY'\n",
        "import subprocess, pathlib, textwrap\n",
        "proj = pathlib.Path.home() / \"lean-demo\"          # ルートに lakefile がある場所\n",
        "code = textwrap.dedent(\"\"\"\n",
        "import Mathlib\n",
        "example : 3 * 3 = 9 := by\n",
        "  norm_num\n",
        "\"\"\")\n",
        "(proj / \"Quick.lean\").write_text(code)\n",
        "subprocess.run([\"lake\", \"build\"], cwd=proj, check=True)\n",
        "print(\"✅  Python から lake build 完了\")\n",
        "PY\n"
      ],
      "metadata": {
        "colab": {
          "base_uri": "https://localhost:8080/"
        },
        "id": "bCfs06tqOKud",
        "outputId": "8fc25f1b-19b8-41b4-ea82-0e2f1779ddb1"
      },
      "execution_count": 4,
      "outputs": [
        {
          "output_type": "stream",
          "name": "stdout",
          "text": [
            "Build completed successfully.\n",
            "✅  Python から lake build 完了\n"
          ]
        }
      ]
    },
    {
      "cell_type": "code",
      "source": [
        "%%bash\n",
        "source ~/.elan/env\n",
        "cd ~/lean-demo               # プロジェクトルート（lakefile.toml がある場所）\n",
        "\n",
        "# 追加・変更した .lean ファイルをまとめてビルド\n",
        "lake build                    # Hello.lean も自動で型チェックされます\n"
      ],
      "metadata": {
        "colab": {
          "base_uri": "https://localhost:8080/"
        },
        "id": "FfS7PT-TOK2C",
        "outputId": "c083b7e1-8c61-4d28-fddd-4ed82bdcee67"
      },
      "execution_count": 12,
      "outputs": [
        {
          "output_type": "stream",
          "name": "stdout",
          "text": [
            "Build completed successfully.\n"
          ]
        }
      ]
    },
    {
      "cell_type": "code",
      "source": [
        "%%bash\n",
        "source ~/.elan/env\n",
        "cd ~/lean-demo                       # プロジェクトルート（lakefile.toml がある場所）\n",
        "\n",
        "# 1) 新しい定理ファイルを書き込む\n",
        "cat << 'EOF' > AbsTriangle.lean\n",
        "import Mathlib\n",
        "\n",
        "/--\n",
        "実数の絶対値は三角不等式を満たす：\n",
        "`|x + y| ≤ |x| + |y|`.\n",
        "-/\n",
        "theorem abs_triangle (x y : ℝ) : |x + y| ≤ |x| + |y| := by\n",
        "  simpa using abs_add x y\n",
        "EOF\n",
        "\n",
        "# 2) ビルドして機械検証\n",
        "lake build\n"
      ],
      "metadata": {
        "colab": {
          "base_uri": "https://localhost:8080/"
        },
        "id": "9U8aE0dxPXr3",
        "outputId": "17272c8a-bec5-49a9-aee9-dadf59bbdf3f"
      },
      "execution_count": 13,
      "outputs": [
        {
          "output_type": "stream",
          "name": "stdout",
          "text": [
            "Build completed successfully.\n"
          ]
        }
      ]
    },
    {
      "cell_type": "code",
      "source": [
        "%%bash\n",
        "source ~/.elan/env\n",
        "cd ~/lean-demo                               # プロジェクトルート\n",
        "\n",
        "# ── 1. Semicontinuous.lean を作成 ───────────────────────────────\n",
        "cat << 'EOF' > Semicontinuous.lean\n",
        "import Mathlib.Topology.Algebra.Order\n",
        "import Mathlib.Topology.Basic\n",
        "\n",
        "/-! # Semicontinuity on ℝ-valued functions\n",
        "\n",
        "We define *upper* / *lower* semicontinuity and prove that a continuous\n",
        "function is both upper- and lower-semicontinuous.\n",
        "-/\n",
        "\n",
        "open Set Topology\n",
        "\n",
        "variable {α : Type*} [TopologicalSpace α]\n",
        "\n",
        "/-- `f` is *upper semicontinuous* if every sublevel set `{x | f x ≤ t}` is closed. -/\n",
        "def UpperSemicontinuous (f : α → ℝ) : Prop :=\n",
        "  ∀ t : ℝ, IsClosed {x : α | f x ≤ t}\n",
        "\n",
        "/-- `f` is *lower semicontinuous* if every superlevel set `{x | t ≤ f x}` is closed. -/\n",
        "def LowerSemicontinuous (f : α → ℝ) : Prop :=\n",
        "  ∀ t : ℝ, IsClosed {x : α | t ≤ f x}\n",
        "\n",
        "namespace UpperSemicontinuous\n",
        "\n",
        "/-- A continuous function is upper semicontinuous. -/\n",
        "lemma of_continuous {f : α → ℝ} (hf : Continuous f)\n",
        "    : UpperSemicontinuous f := by\n",
        "  intro t\n",
        "  -- `{x | f x ≤ t}` = `f ⁻¹' {r | r ≤ t}`\n",
        "  have hClosed : IsClosed {r : ℝ | r ≤ t} :=\n",
        "    isClosed_le continuous_id continuous_const\n",
        "  simpa using hClosed.preimage hf\n",
        "\n",
        "end UpperSemicontinuous\n",
        "\n",
        "namespace LowerSemicontinuous\n",
        "\n",
        "/-- A continuous function is lower semicontinuous. -/\n",
        "lemma of_continuous {f : α → ℝ} (hf : Continuous f)\n",
        "    : LowerSemicontinuous f := by\n",
        "  intro t\n",
        "  -- `{x | t ≤ f x}` = `f ⁻¹' {r | t ≤ r}`\n",
        "  have hClosed : IsClosed {r : ℝ | t ≤ r} :=\n",
        "    isClosed_le continuous_const continuous_id\n",
        "  simpa using hClosed.preimage hf\n",
        "\n",
        "end LowerSemicontinuous\n",
        "EOF\n",
        "\n",
        "# ── 2. プロジェクトにファイルを登録してビルド ────────────────\n",
        "lake build\n"
      ],
      "metadata": {
        "colab": {
          "base_uri": "https://localhost:8080/"
        },
        "id": "BU_VlR6tPX3h",
        "outputId": "a9bb1911-f87c-43e7-804b-1a8990e42105"
      },
      "execution_count": 16,
      "outputs": [
        {
          "output_type": "stream",
          "name": "stdout",
          "text": [
            "Build completed successfully.\n"
          ]
        }
      ]
    },
    {
      "cell_type": "code",
      "source": [
        "%%bash\n",
        "source ~/.elan/env\n",
        "cd ~/lean-demo                              # プロジェクトルート\n",
        "\n",
        "# ── 1. ConcaveSemicontinuous.lean ─────────────────────────────────────────\n",
        "cat << 'EOF' > ConcaveSemicontinuous.lean\n",
        "import Semicontinuous\n",
        "import Mathlib.Analysis.Convex.Function\n",
        "import Mathlib.Topology.Algebra.Order\n",
        "\n",
        "/-!\n",
        "  # Concave / Convex functions and semicontinuity\n",
        "\n",
        "  * `concave_upperSC_of_continuous`  :\n",
        "      連続かつ凹 ⇒ 上半連続\n",
        "  * `convex_lowerSC_of_continuous`   :\n",
        "      連続かつ凸 ⇒ 下半連続\n",
        "-/\n",
        "\n",
        "open Set\n",
        "\n",
        "variable {E : Type*} [TopologicalSpace E]\n",
        "variable {f : E → ℝ}\n",
        "\n",
        "/-- 連続かつ凹なら上半連続 -/\n",
        "lemma concave_upperSC_of_continuous\n",
        "    (hcont : Continuous f) (hconc : Concave ℝ f) :\n",
        "    UpperSemicontinuous f :=\n",
        "  UpperSemicontinuous.of_continuous hcont\n",
        "\n",
        "/-- 連続かつ凸なら下半連続 -/\n",
        "lemma convex_lowerSC_of_continuous\n",
        "    (hcont : Continuous f) (hconv : Convex ℝ (fun x ↦ f x)) :\n",
        "    LowerSemicontinuous f :=\n",
        "  LowerSemicontinuous.of_continuous hcont\n",
        "EOF\n",
        "\n",
        "# ── 2. KyFanFinite.lean  (有限次元・閉有界版の雛形) ─────────────────────\n",
        "cat << 'EOF' > KyFanFinite.lean\n",
        "import ConcaveSemicontinuous\n",
        "import Mathlib.Topology.Algebra.Algebra\n",
        "import Mathlib.Analysis.Convex.Topology\n",
        "\n",
        "/-!\n",
        "  # Ky Fan minimax inequality (finite‐dimensional, closed‐bounded sets)\n",
        "\n",
        "  **定理 (`kyFan_finite` の形で定式化)**\n",
        "  > `K, S` を `ℝ^n` (任意有限次元実線形空間) の *非空・閉・有界・凸集合* とし，\n",
        "  > `φ : K × S → ℝ` が\n",
        "  > * `x` 固有に凹 ＆ 上半連続\n",
        "  > * `y` 固有に凸 ＆ 下半連続\n",
        "  > を満たすとき\n",
        "  > ```lean\n",
        "  >   ∃ (x : K), ∀ y : S, φ (x, y) ≤ sup_{z∈S} φ (x, z)\n",
        "  >   ∧\n",
        "  >   ∃ (y : S), ∀ x : K, inf_{z∈K} φ (z, y) ≤ φ (x, y)\n",
        "  > ```\n",
        "  > が同時に成立する。\n",
        "\n",
        "  **備考** : 現在の mathlib4 では *weak\\* compactness* などが未整備のため，\n",
        "  一般位相線形空間での証明は保留。有限次元 `ℝ^n` では Heine–Borel で\n",
        "  コンパクト性が確保出来るため，そこに限定して formalize しています。\n",
        "-/\n",
        "\n",
        "open scoped Topology\n",
        "\n",
        "universe u\n",
        "\n",
        "variable {n : Type u} [NormedAddCommGroup n] [NormedSpace ℝ n]\n",
        "variable {K S : Set n}\n",
        "\n",
        "/-- (有限次元版) Ky Fan の不等式 *存在* 部分 ― *証明は今後実装* -/\n",
        "theorem kyFan_finite\n",
        "    (hK : IsClosed K) (hS : IsClosed S)\n",
        "    (hKbd : Bornology.IsBounded K) (hSbd : Bornology.IsBounded S)\n",
        "    (hKcvx : Convex ℝ K) (hScvx : Convex ℝ S)\n",
        "    (φ : n → n → ℝ)\n",
        "    (hconc : ∀ y ∈ S, Concave ℝ (fun x ↦ φ x y))\n",
        "    (hconv : ∀ x ∈ K, Convex ℝ (fun y ↦ φ x y))\n",
        "    (huSC  : ∀ y ∈ S, UpperSemicontinuous (fun x ↦ φ x y))\n",
        "    (hlSC  : ∀ x ∈ K, LowerSemicontinuous (fun y ↦ φ x y))\n",
        "    : ∃ v ∈ K, ∀ y ∈ S, φ v y ≤\n",
        "        sInf {r : ℝ | ∀ y ∈ S, φ v y ≤ r} := by\n",
        "  -- *** TODO ***\n",
        "  -- 証明は Heine–Borel コンパクト性と Weierstrass 極値定理の組合せで\n",
        "  -- 構築可能だが，現時点では未実装。\n",
        "  --\n",
        "  -- mathlib4 の今後の拡充に合わせて補完する予定。\n",
        "  admit\n",
        "EOF\n",
        "\n",
        "# ── 3. 再ビルド ──────────────────────────────────────────────────\n",
        "lake build\n"
      ],
      "metadata": {
        "colab": {
          "base_uri": "https://localhost:8080/"
        },
        "id": "NVxZLYmhOK3x",
        "outputId": "4a956f6d-fd2b-40a7-8ce2-e3bae7cd6328"
      },
      "execution_count": 17,
      "outputs": [
        {
          "output_type": "stream",
          "name": "stdout",
          "text": [
            "Build completed successfully.\n"
          ]
        }
      ]
    },
    {
      "cell_type": "code",
      "source": [
        "%%bash\n",
        "source ~/.elan/env\n",
        "cd ~/lean-demo                           # プロジェクトルート（lakefile.toml がある場所）\n",
        "\n",
        "# ── HeineBorel.lean 追加 ──────────────────────────────────────────\n",
        "cat << 'EOF' > HeineBorel.lean\n",
        "import Mathlib.Topology.MetricSpace.Proper\n",
        "import Mathlib.Analysis.NormedSpace.FiniteDimension\n",
        "\n",
        "/-!\n",
        "# Heine–Borel in finite-dimensional normed spaces\n",
        "\n",
        "In a finite-dimensional real normed vector space, every *closed* and *bounded*\n",
        "set is *compact*.  This lemma will be useful when proving the finite-dimensional\n",
        "version of Ky Fan’s minimax theorem (and ultimately Sion’s minimax theorem).\n",
        "-/\n",
        "\n",
        "open Set Bornology\n",
        "\n",
        "variable {E : Type*}\n",
        "variable [NormedAddCommGroup E] [NormedSpace ℝ E]\n",
        "variable [FiniteDimensional ℝ E]\n",
        "\n",
        "/-- **Heine–Borel (finite dimension)** : In a finite-dimensional real normed\n",
        "space, a closed and bounded set is compact. -/\n",
        "lemma isCompact_closed_bounded {s : Set E}\n",
        "    (h_closed  : IsClosed s)\n",
        "    (h_bounded : IsBounded s) :\n",
        "    IsCompact s := by\n",
        "  -- Finite-dimensional real normed spaces are *proper* metric spaces;\n",
        "  -- hence closed and bounded subsets are compact.\n",
        "  haveI : ProperSpace E := inferInstance\n",
        "  exact h_closed.isCompact_of_bounded h_bounded\n",
        "EOF\n",
        "\n",
        "# ── 再ビルド ─────────────────────────────────────────────────────\n",
        "lake build\n"
      ],
      "metadata": {
        "colab": {
          "base_uri": "https://localhost:8080/"
        },
        "id": "8_1odMDPSeUR",
        "outputId": "5ea0d098-f8f8-449b-81e9-f55c4f6d2bd5"
      },
      "execution_count": 18,
      "outputs": [
        {
          "output_type": "stream",
          "name": "stdout",
          "text": [
            "Build completed successfully.\n"
          ]
        }
      ]
    }
  ]
}