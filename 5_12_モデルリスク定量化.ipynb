{
  "nbformat": 4,
  "nbformat_minor": 0,
  "metadata": {
    "colab": {
      "provenance": [],
      "authorship_tag": "ABX9TyPjs9025jJL36gehReue8yc",
      "include_colab_link": true
    },
    "kernelspec": {
      "name": "python3",
      "display_name": "Python 3"
    },
    "language_info": {
      "name": "python"
    }
  },
  "cells": [
    {
      "cell_type": "markdown",
      "metadata": {
        "id": "view-in-github",
        "colab_type": "text"
      },
      "source": [
        "<a href=\"https://colab.research.google.com/github/tatsuhiko-suyama/Something-/blob/main/5_12_%E3%83%A2%E3%83%87%E3%83%AB%E3%83%AA%E3%82%B9%E3%82%AF%E5%AE%9A%E9%87%8F%E5%8C%96.ipynb\" target=\"_parent\"><img src=\"https://colab.research.google.com/assets/colab-badge.svg\" alt=\"Open In Colab\"/></a>"
      ]
    },
    {
      "cell_type": "code",
      "execution_count": 5,
      "metadata": {
        "colab": {
          "base_uri": "https://localhost:8080/"
        },
        "id": "a-l_SV4Lyi8A",
        "outputId": "aabafafc-6aaa-45f9-e837-ef395196ed9a"
      },
      "outputs": [
        {
          "output_type": "stream",
          "name": "stdout",
          "text": [
            "[block_corr] K=4, r_in=0.75, r_out=0.5\n",
            "  Off-diag min: 0.5 max: 0.75\n",
            "  Diagonal all ones?: True\n",
            "[block_corr] K=4, r_in=0.85, r_out=0.4\n",
            "  Off-diag min: 0.4 max: 0.85\n",
            "  Diagonal all ones?: True\n",
            "[block_corr] K=4, r_in=0.65, r_out=0.4\n",
            "  Off-diag min: 0.4 max: 0.65\n",
            "  Diagonal all ones?: True\n",
            "[block_corr] K=4, r_in=0.65, r_out=0.6\n",
            "  Off-diag min: 0.6 max: 0.65\n",
            "  Diagonal all ones?: True\n",
            "[block_corr] K=4, r_in=0.85, r_out=0.6\n",
            "  Off-diag min: 0.6 max: 0.85\n",
            "  Diagonal all ones?: True\n"
          ]
        }
      ],
      "source": [
        "import numpy as np\n",
        "import analysis_flow as af\n",
        "import logging                       # ← これを追加\n",
        "logging.basicConfig(level=logging.INFO,\n",
        "                    format=\"%(levelname)s: %(message)s\")\n",
        "\n",
        "# ---- 0. グローバル定数 & ベースパラメータ -----------------------\n",
        "K = M = 4\n",
        "MU_TILDE = 0.03\n",
        "ALPHA_GRID = np.linspace(0,1,1001)  # 0〜1 を 0.01 刻み\n",
        "#   （以下は設計書どおり。ご自身のパラメータ設定に合わせて下さい）\n",
        "r_base  = np.array([0.02, 0.03, 0.04, 0.05])\n",
        "sigma_base = np.array([0.20, 0.25, 0.30, 0.35])\n",
        "Delta_A = np.array([[+1, 1, -1, -1],\n",
        "                    [+1, 1, -1, -1],\n",
        "                    [+2, -1, +2, -2],\n",
        "                    [+2, -2, +2, -2]], float)\n",
        "Delta_r = Delta_A/1000; Delta_sigma = Delta_A/100\n",
        "def block_corr(r_in: float, r_out: float, *, debug: bool = True) -> np.ndarray:\n",
        "    \"\"\"\n",
        "    Two-sector block correlation matrix with unit diagonal.\n",
        "\n",
        "    Parameters\n",
        "    ----------\n",
        "    r_in : float\n",
        "        Within-sector off-diagonal correlation.\n",
        "    r_out : float\n",
        "        Between-sector correlation.\n",
        "    debug : bool, default False\n",
        "        If True, print summary statistics for the generated matrix.\n",
        "\n",
        "    Returns\n",
        "    -------\n",
        "    C : (K,K) ndarray\n",
        "        Correlation matrix with diag(C)=1.\n",
        "    \"\"\"\n",
        "    k = 4  # use outer-scope K from self-test or call site\n",
        "    C = np.full((k, k), r_out, dtype=float)\n",
        "    np.fill_diagonal(C, 1.0)\n",
        "\n",
        "    mid = k // 2\n",
        "    for i in range(mid):\n",
        "        for j in range(mid):\n",
        "            if i != j:\n",
        "                C[i, j] = r_in\n",
        "    for i in range(mid, k):\n",
        "        for j in range(mid, k):\n",
        "            if i != j:\n",
        "                C[i, j] = r_in\n",
        "\n",
        "    if debug:\n",
        "        print(f\"[block_corr] K={k}, r_in={r_in}, r_out={r_out}\")\n",
        "        print(\"  Off-diag min:\", C[np.triu_indices(k, 1)].min(),\n",
        "              \"max:\", C[np.triu_indices(k, 1)].max())\n",
        "        print(\"  Diagonal all ones?:\", np.allclose(np.diag(C), 1.0))\n",
        "\n",
        "    return C\n",
        "\n",
        "C_base = block_corr(0.75,0.50)\n",
        "tilde_C = [block_corr(0.85,0.40), block_corr(0.65,0.40),\n",
        "           block_corr(0.65,0.60), block_corr(0.85,0.60)]\n",
        "V_base  = np.diag(sigma_base) @ C_base @ np.diag(sigma_base)\n",
        "df = af.run_comparison_analysis_sweep(\n",
        "    alpha_grid=ALPHA_GRID,\n",
        "    r_base=r_base, sigma_base=sigma_base, C_base=C_base, V_base=V_base,\n",
        "    Delta_r_m=Delta_r, Delta_sigma_m=Delta_sigma, tilde_C_list=tilde_C\n",
        ")\n"
      ]
    },
    {
      "cell_type": "code",
      "source": [
        "0.029406685293587895/np.sqrt(0.036861095576995906)"
      ],
      "metadata": {
        "colab": {
          "base_uri": "https://localhost:8080/"
        },
        "id": "pkPOVHO46svx",
        "outputId": "505dcb66-fd5f-4435-94bf-97c6bdae1e24"
      },
      "execution_count": 6,
      "outputs": [
        {
          "output_type": "execute_result",
          "data": {
            "text/plain": [
              "np.float64(0.15316585313487016)"
            ]
          },
          "metadata": {},
          "execution_count": 6
        }
      ]
    },
    {
      "cell_type": "markdown",
      "source": [
        "csv_schema:\n",
        "  meta:\n",
        "    scenario:          \"シナリオ名（AllVary / RVary / SigmaVary / CVary）\"\n",
        "    alpha:             \"モデルリスク・パラメータ α (0–1)\"\n",
        "    solver_type:       \"ロバスト解法の種別（general / half-pair / common_r）\"\n",
        "    iters:             \"外側最適化のイテレーション数\"\n",
        "  kpi:\n",
        "    guarantee_return_rob: \"ロバスト π* の保証リターン  minₘ πᵀ rᵐ\"\n",
        "    worst_return_trad:    \"伝統 π_trad のワーストケース期待リターン\"\n",
        "    worst_F_trad:         \"伝統 π_trad のワーストケース分散 F(π_trad, w)\"\n",
        "    robust_SR:            \"ロバスト・シャープレシオ  (w*·r̄) / √H*\"\n",
        "    H_rob:                \"ロバスト π* で達成した分散 (H*)\"\n",
        "    HHI_trad:             \"伝統ポートフォリオの HHI（集中度指標）\"\n",
        "    HHI_rob:              \"ロバストポートフォリオの HHI\"\n",
        "    N_eff_trad:           \"伝統ポートフォリオの有効資産数 1/HHI\"\n",
        "    N_eff_rob:            \"ロバストポートフォリオの有効資産数\"\n",
        "    turnover:             \"∑|π_rob − π_trad|（転換量）\"\n",
        "    gross_exp_trad:       \"伝統ポートフォリオのグロス・エクスポージャー\"\n",
        "    gross_exp_rob:        \"ロバストポートフォリオのグロス・エクスポージャー\"\n",
        "  weights:\n",
        "    pi_rob_k:   \"資産 k のロバスト最適ウェイト（k = 0 … K−1）\"\n",
        "    pi_trad_k:  \"資産 k の伝統的ウェイト       （k = 0 … K−1）\"\n"
      ],
      "metadata": {
        "id": "L5vu-8QTSx72"
      }
    },
    {
      "cell_type": "code",
      "source": [],
      "metadata": {
        "id": "vq0CCtVi6uxR"
      },
      "execution_count": 6,
      "outputs": []
    },
    {
      "cell_type": "code",
      "source": [],
      "metadata": {
        "id": "eetlaNmC6ujC"
      },
      "execution_count": 6,
      "outputs": []
    },
    {
      "cell_type": "code",
      "source": [
        "df.to_csv('result.csv')"
      ],
      "metadata": {
        "id": "GinPBX-l0Tp-"
      },
      "execution_count": 7,
      "outputs": []
    },
    {
      "cell_type": "code",
      "source": [
        "import pandas as pd\n",
        "import pyarrow as pa\n",
        "import pyarrow.parquet as pq\n",
        "\n",
        "csv_path     = \"result.csv\"      # 入力 CSV\n",
        "parquet_path = \"result.parquet\"  # 出力 Parquet\n",
        "chunksize    = 50_000                 # 5万行ずつ読み込む（調整可）\n",
        "\n",
        "# ✓ 1回目にスキーマを作成して Parquet writer をオープン\n",
        "first_chunk = True\n",
        "parquet_writer = None\n",
        "\n",
        "for chunk in pd.read_csv(csv_path, chunksize=chunksize):\n",
        "    # === 必要なら前処理を挟む例 ===\n",
        "    # chunk = chunk[chunk[\"scenario\"] == \"AllVary\"]  # ←行フィルタ例\n",
        "    # chunk = chunk.filter(regex=\"^(scenario|alpha|SR_rob_m)\")  # ←列フィルタ例\n",
        "\n",
        "    # pandas → pyarrow Table\n",
        "    table = pa.Table.from_pandas(chunk, preserve_index=False)\n",
        "\n",
        "    if first_chunk:\n",
        "        parquet_writer = pq.ParquetWriter(parquet_path, table.schema,\n",
        "                                          compression=\"zstd\")\n",
        "        first_chunk = False\n",
        "\n",
        "    parquet_writer.write_table(table)\n",
        "\n",
        "parquet_writer.close()\n",
        "print(\"✅ Parquet 出力完了:\", parquet_path)\n"
      ],
      "metadata": {
        "colab": {
          "base_uri": "https://localhost:8080/"
        },
        "id": "BDrdcNw6I9iC",
        "outputId": "871533e7-9c96-49c8-ceaa-339c137866f1"
      },
      "execution_count": 8,
      "outputs": [
        {
          "output_type": "stream",
          "name": "stdout",
          "text": [
            "✅ Parquet 出力完了: result.parquet\n"
          ]
        }
      ]
    },
    {
      "cell_type": "code",
      "source": [
        "import pandas as pd\n",
        "import re\n",
        "import pyarrow.parquet as pq   # 必要に応じて: pip install pyarrow\n",
        "\n",
        "# --- 入出力ファイル名 ----------------------------------------------------\n",
        "parquet_path = \"result.parquet\"   # 元 Parquet\n",
        "csv_out      = \"allvary_sr.csv\"        # 出力 CSV\n",
        "# ------------------------------------------------------------------------\n",
        "\n",
        "# 1) Parquet のスキーマから列名を取得\n",
        "schema = pq.ParquetFile(parquet_path).schema\n",
        "all_cols = schema.names               # Parquet 内すべての列名リスト\n",
        "\n",
        "# 2) 正規表現で SR_rob_m<number> 形式を抽出\n",
        "sr_cols = [c for c in all_cols if re.fullmatch(r\"SR_rob_m\\d+\", c)]\n",
        "print(\"抽出した SR 列:\", sr_cols[:10], \"...\", f\"({len(sr_cols)} 列)\")\n",
        "\n",
        "# 3) 必要列だけ読み込み\n",
        "usecols = [\"scenario\", \"alpha\"] + sr_cols\n",
        "df = pd.read_parquet(parquet_path, columns=usecols)\n",
        "\n",
        "# 4) AllVary 行に限定\n",
        "df_allvary = df[df[\"scenario\"] == \"AllVary\"]\n",
        "\n",
        "# 5) CSV 保存\n",
        "df_allvary.to_csv(csv_out, index=False)\n",
        "print(f\"✅ 変換完了: {csv_out} へ {len(df_allvary)} 行を書き出しました。\")\n"
      ],
      "metadata": {
        "colab": {
          "base_uri": "https://localhost:8080/"
        },
        "id": "Efc5c5rmJVhU",
        "outputId": "b5c4d8b5-e2c7-484d-ee9a-84261d051f8d"
      },
      "execution_count": 13,
      "outputs": [
        {
          "output_type": "stream",
          "name": "stdout",
          "text": [
            "抽出した SR 列: ['SR_rob_m0', 'SR_rob_m1', 'SR_rob_m2', 'SR_rob_m3'] ... (4 列)\n",
            "✅ 変換完了: allvary_sr.csv へ 1001 行を書き出しました。\n"
          ]
        }
      ]
    },
    {
      "cell_type": "code",
      "source": [
        "import pandas as pd\n",
        "import numpy as np\n",
        "import re\n",
        "import matplotlib.pyplot as plt\n",
        "from pathlib import Path\n",
        "\n",
        "# ----------- パラメータ --------------------------------------------------\n",
        "csv_path   = \"result.csv\"          # 元 CSV\n",
        "out_plot   = \"elasticity_by_scenario.png\"\n",
        "summary_csv = \"elasticity_summary.csv\"\n",
        "alpha_offset = 1e-6                # log(α) 安定化用\n",
        "smooth_win   = 5                   # rolling median window\n",
        "# ------------------------------------------------------------------------\n",
        "\n",
        "# 1) ヘッダ行を読み、SR_rob 列を抽出\n",
        "with open(csv_path, \"r\") as f:\n",
        "    header_line = f.readline().strip()\n",
        "all_cols = header_line.split(\",\")\n",
        "sr_cols  = [c for c in all_cols if re.fullmatch(r\"SR_rob_m\\d+\", c)]\n",
        "if not sr_cols:\n",
        "    raise RuntimeError(\"SR_rob_m* 列が見つかりません。\")\n",
        "\n",
        "usecols = [\"scenario\", \"alpha\"] + sr_cols\n",
        "dtype_map = {c: np.float64 for c in sr_cols}\n",
        "dtype_map.update({\"alpha\": np.float64, \"scenario\": str})\n",
        "\n",
        "# 2) 必要列だけチャンク読み込み\n",
        "chunks = pd.read_csv(csv_path, usecols=usecols, dtype=dtype_map,\n",
        "                     chunksize=50_000)\n",
        "\n",
        "df = pd.concat(chunks, ignore_index=True)\n",
        "df.set_index([\"scenario\", \"alpha\"], inplace=True)\n",
        "\n",
        "# 3) シナリオ別 Elasticity 計算\n",
        "results = []\n",
        "plt.figure(figsize=(8,4))\n",
        "for sc, sub in df.groupby(level=0):\n",
        "    sub = sub.sort_index()\n",
        "    alpha_vals = sub.index.get_level_values(\"alpha\").astype(float).values\n",
        "    sr_mean = sub[sr_cols].mean(axis=1).values.astype(float)\n",
        "\n",
        "    log_alpha = np.log(alpha_vals + alpha_offset)\n",
        "    log_sr    = np.log(sr_mean + 1e-12)\n",
        "    epsilon   = np.gradient(log_sr, log_alpha)  # elasticity\n",
        "    eps_sm    = pd.Series(epsilon).rolling(smooth_win, center=True,\n",
        "                                           min_periods=1).median().values\n",
        "\n",
        "    # α* (|ε|最小)、SR 曲線面積\n",
        "    idx_star  = np.argmin(np.abs(eps_sm))\n",
        "    alpha_star = float(alpha_vals[idx_star])\n",
        "    eps_star   = float(eps_sm[idx_star])\n",
        "    area_sr    = float(np.trapz(sr_mean, alpha_vals))\n",
        "\n",
        "    results.append({\n",
        "        \"scenario\": sc,\n",
        "        \"alpha_star\": alpha_star,\n",
        "        \"elasticity_at_alpha_star\": eps_star,\n",
        "        \"area_SR_curve\": area_sr\n",
        "    })\n",
        "\n",
        "    # 描画（α が多いと重いので 1000 点以下に subsample）\n",
        "    step = max(1, len(alpha_vals)//1000)\n",
        "    plt.plot(alpha_vals[::step], eps_sm[::step], label=sc)\n",
        "\n",
        "plt.axhline(0, color=\"black\", linewidth=1)\n",
        "plt.xlabel(\"α\")\n",
        "plt.ylabel(\"ε = d ln SR / d ln α\")\n",
        "plt.title(\"Elasticity of Robust SR by scenario\")\n",
        "plt.legend()\n",
        "plt.tight_layout()\n",
        "plt.savefig(out_plot, dpi=300)\n",
        "print(\"✅ Plot saved to\", out_plot)\n",
        "\n",
        "# 4) サマリを CSV として保存\n",
        "summary_df = pd.DataFrame(results)\n",
        "summary_df.to_csv(summary_csv, index=False)\n",
        "print(\"✅ Summary saved to\", summary_csv)\n",
        "print(summary_df)\n"
      ],
      "metadata": {
        "colab": {
          "base_uri": "https://localhost:8080/",
          "height": 702
        },
        "id": "IbaNDmyNKoBp",
        "outputId": "e5d22522-9021-43a5-edac-53eac679ff08"
      },
      "execution_count": 15,
      "outputs": [
        {
          "output_type": "stream",
          "name": "stderr",
          "text": [
            "<ipython-input-15-023342f9d771>:52: DeprecationWarning: `trapz` is deprecated. Use `trapezoid` instead, or one of the numerical integration functions in `scipy.integrate`.\n",
            "  area_sr    = float(np.trapz(sr_mean, alpha_vals))\n",
            "<ipython-input-15-023342f9d771>:52: DeprecationWarning: `trapz` is deprecated. Use `trapezoid` instead, or one of the numerical integration functions in `scipy.integrate`.\n",
            "  area_sr    = float(np.trapz(sr_mean, alpha_vals))\n",
            "<ipython-input-15-023342f9d771>:52: DeprecationWarning: `trapz` is deprecated. Use `trapezoid` instead, or one of the numerical integration functions in `scipy.integrate`.\n",
            "  area_sr    = float(np.trapz(sr_mean, alpha_vals))\n",
            "<ipython-input-15-023342f9d771>:52: DeprecationWarning: `trapz` is deprecated. Use `trapezoid` instead, or one of the numerical integration functions in `scipy.integrate`.\n",
            "  area_sr    = float(np.trapz(sr_mean, alpha_vals))\n"
          ]
        },
        {
          "output_type": "stream",
          "name": "stdout",
          "text": [
            "✅ Plot saved to elasticity_by_scenario.png\n",
            "✅ Summary saved to elasticity_summary.csv\n",
            "    scenario  alpha_star  elasticity_at_alpha_star  area_SR_curve\n",
            "0    AllVary       0.197              4.498310e-08       0.158228\n",
            "1      CVary       0.000              5.560976e-09       0.157727\n",
            "2      RVary       0.000              2.073998e-06       0.158308\n",
            "3  SigmaVary       0.628             -8.341079e-07       0.158123\n"
          ]
        },
        {
          "output_type": "display_data",
          "data": {
            "text/plain": [
              "<Figure size 800x400 with 1 Axes>"
            ],
            "image/png": "[encoded data removed]"
          },
          "metadata": {}
        }
      ]
    },
    {
      "cell_type": "code",
      "source": [],
      "metadata": {
        "id": "1OH1phNLKoai"
      },
      "execution_count": null,
      "outputs": []
    }
  ]
}