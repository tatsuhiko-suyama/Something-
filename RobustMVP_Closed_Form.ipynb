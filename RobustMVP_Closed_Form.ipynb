{
  "nbformat": 4,
  "nbformat_minor": 0,
  "metadata": {
    "colab": {
      "provenance": [],
      "authorship_tag": "ABX9TyNLCtucNsqV47PGcBbK7m5U",
      "include_colab_link": true
    },
    "kernelspec": {
      "name": "python3",
      "display_name": "Python 3"
    },
    "language_info": {
      "name": "python"
    }
  },
  "cells": [
    {
      "cell_type": "markdown",
      "metadata": {
        "id": "view-in-github",
        "colab_type": "text"
      },
      "source": [
        "<a href=\"https://colab.research.google.com/github/tatsuhiko-suyama/Something-/blob/main/RobustMVP_Closed_Form.ipynb\" target=\"_parent\"><img src=\"https://colab.research.google.com/assets/colab-badge.svg\" alt=\"Open In Colab\"/></a>"
      ]
    },
    {
      "cell_type": "code",
      "source": [
        "from sympy.matrices.common import NonInvertibleMatrixError"
      ],
      "metadata": {
        "id": "Dr-zQtp68lw7"
      },
      "execution_count": 3,
      "outputs": []
    },
    {
      "cell_type": "code",
      "source": [],
      "metadata": {
        "id": "IlcQq_0i-OoW"
      },
      "execution_count": null,
      "outputs": []
    },
    {
      "cell_type": "code",
      "source": [
        "#!/usr/bin/env python3\n",
        "# -*- coding: utf-8 -*-\n",
        "\"\"\"\n",
        "Exact robust mean–variance solver (model-specific Cᵐ)\n",
        "— Matrix-int 加算バグ修正・substitution 完全化版\n",
        "\"\"\"\n",
        "\n",
        "from __future__ import annotations\n",
        "import itertools, random\n",
        "from fractions import Fraction\n",
        "from typing import List, Dict, Optional\n",
        "import sympy as sp\n",
        "from sympy.matrices.common import NonInvertibleMatrixError\n",
        "\n",
        "# ---------------- helper -------------------------------------------\n",
        "def R(x):\n",
        "    if isinstance(x, sp.Rational):        return x\n",
        "    if isinstance(x, (int, sp.Integer)):  return sp.Rational(x)\n",
        "    if isinstance(x, Fraction):           return sp.Rational(x.numerator, x.denominator)\n",
        "    return sp.Rational(Fraction(str(x)).limit_denominator())\n",
        "\n",
        "def fmt15(e: sp.Expr) -> str:\n",
        "    return format(float(sp.N(e, 17)), \".15f\")\n",
        "\n",
        "# ---------------- 前提チェック -------------------------------------\n",
        "def check_inputs(r, sigma, C, K, M):\n",
        "    assert 2 <= M <= 4 and 2 <= K <= 5\n",
        "    assert len(r) == len(sigma) == M\n",
        "    assert all(len(v) == K for v in r)\n",
        "    assert all(len(v) == K for v in sigma)\n",
        "    if sp.Matrix(r).rank() < M:\n",
        "        raise ValueError(\"r^m が線形独立でない\")\n",
        "    if any(any(x <= 0 for x in row) for row in sigma):\n",
        "        raise ValueError(\"σ に非正が混入\")\n",
        "    if C:\n",
        "        for Ci in C:\n",
        "            Cmat = sp.Matrix([[R(x) for x in row] for row in Ci])\n",
        "            if min(float(ev) for ev in Cmat.eigenvals()) <= 0:\n",
        "                raise ValueError(\"C^m 非正定値\")\n",
        "\n",
        "# ---------------- Problem container --------------------------------\n",
        "class ProblemData:\n",
        "    def __init__(self, r, sigma, mu, C=None):\n",
        "        self.M, self.K = len(r), len(r[0])\n",
        "        check_inputs(r, sigma, C, self.K, self.M)\n",
        "        self.mu = R(mu)\n",
        "        self.r  = [sp.Matrix([R(x) for x in row]) for row in r]\n",
        "        self.Vm = []\n",
        "        for m in range(self.M):\n",
        "            σ = sp.diag(*[R(x) for x in sigma[m]])\n",
        "            Cmat = sp.Matrix([[R(x) for x in row] for row in C[m]]) if C else sp.eye(self.K)\n",
        "            self.Vm.append(σ * Cmat * σ)\n",
        "\n",
        "    def Vw(self, w):\n",
        "        # ← sum() による Matrix+int エラーを回避するため明示ループ\n",
        "        rbar = sp.zeros(self.K, 1)\n",
        "        Vsum = sp.zeros(self.K, self.K)\n",
        "        for m in range(self.M):\n",
        "            rbar += w[m] * self.r[m]\n",
        "            Vsum += w[m] * (self.Vm[m] + self.r[m] * self.r[m].T)\n",
        "        return Vsum - rbar * rbar.T\n",
        "\n",
        "    def pi_lambda_g(self, w_syms, S):\n",
        "        V    = sp.simplify(self.Vw(w_syms))\n",
        "        Vinv = sp.simplify(V.inv())\n",
        "        R_S  = sp.Matrix.hstack(*[self.r[m] for m in S])\n",
        "        one  = sp.Matrix([[1]]*len(S))\n",
        "        M_inv= sp.simplify((R_S.T*Vinv*R_S).inv())\n",
        "        lam  = sp.simplify(2*self.mu*M_inv*one)\n",
        "        pi   = sp.simplify(0.5*Vinv*R_S*lam)\n",
        "        g    = sp.simplify((pi.T*V*pi)[0])\n",
        "        return pi, lam, g\n",
        "\n",
        "# ---------------- Outer solver -------------------------------------\n",
        "class Solver:\n",
        "    def __init__(self, data: ProblemData):\n",
        "        self.D = data\n",
        "        self.w  = sp.symbols(f\"w1:{data.M}\")\n",
        "        self.wM = 1 - sum(self.w)\n",
        "        self.W  = list(self.w) + [self.wM]\n",
        "        self.boundary = self._make_boundary()\n",
        "\n",
        "    def _make_boundary(self):\n",
        "        pts=[]\n",
        "        unit=[1]+[0]*(self.D.M-1)\n",
        "        for p in itertools.permutations(unit): pts.append(list(map(sp.Integer,p)))\n",
        "        for i,j in itertools.combinations(range(self.D.M),2):\n",
        "            p=[0]*self.D.M; p[i]=p[j]=sp.Rational(1,2); pts.append(list(map(sp.Integer,p)))\n",
        "        return pts\n",
        "\n",
        "    @staticmethod\n",
        "    def _feasible_numeric(w):\n",
        "        fl=[float(sp.N(x)) for x in w]\n",
        "        return all(v>=-1e-8 for v in fl) and abs(sum(fl)-1)<1e-8\n",
        "\n",
        "    def _numeric_roots(self,eqs):\n",
        "        roots=[]\n",
        "        for _ in range(30):\n",
        "            g0=[random.random() for _ in self.w]\n",
        "            g0=[v/sum(g0)*0.9 for v in g0]\n",
        "            try:\n",
        "                sol=sp.nsolve(eqs,self.w,g0,tol=1e-28,maxsteps=100)\n",
        "                sol=[sp.nsimplify(v,[sp.Rational(1,10000)]) for v in sol]\n",
        "                if sol not in roots: roots.append(sol)\n",
        "            except: pass\n",
        "        return [{wi:sol[i] for i,wi in enumerate(self.w)} for sol in roots]\n",
        "\n",
        "    # 共通可行性チェック\n",
        "    def _candidate(self, w_vals, S, pi_sym, lam_sym, g_sym):\n",
        "        if not self._feasible_numeric(w_vals): return None\n",
        "        subs={wi:w_vals[i] for i,wi in enumerate(self.w)}\n",
        "        subs[self.wM]=w_vals[-1]                       # ← wM も置換\n",
        "        if min(float(sp.N(lam_sym[i,0].subs(subs))) for i in range(len(S)))<=1e-8: return None\n",
        "        pi_num=[pi_sym[i].subs(subs) for i in range(self.D.K)]\n",
        "        for m in range(self.D.M):\n",
        "            if m not in S:\n",
        "                lhs=float(sp.N(sum(pi_num[i]*self.D.r[m][i] for i in range(self.D.K))))\n",
        "                if lhs < float(self.D.mu)-1e-12: return None\n",
        "        g_val=g_sym.subs(subs)\n",
        "        return {\"g\":sp.nsimplify(g_val),\"w\":w_vals,\"S\":S,\"pi\":pi_num}\n",
        "\n",
        "    def solve(self)->Optional[Dict]:\n",
        "        best=None\n",
        "        # 内部点\n",
        "        for k in range(1,self.D.K+1):\n",
        "            for S in itertools.combinations(range(self.D.M),k):\n",
        "                try: pi_s,lam_s,g_s=self.D.pi_lambda_g(self.W,S)\n",
        "                except NonInvertibleMatrixError: continue\n",
        "                grad=[sp.diff(g_s,wi).as_numer_denom()[0].cancel() for wi in self.w]\n",
        "                try: sols=sp.solve(grad,list(self.w),dict=True,rational=True)\n",
        "                except: sols=[]\n",
        "                if not sols: sols=self._numeric_roots(grad)\n",
        "                for sol in sols:\n",
        "                    w_vals=[sp.nsimplify(sol.get(wi,0)) for wi in self.w]+[sp.nsimplify(self.wM.subs(sol))]\n",
        "                    cand=self._candidate(w_vals,S,pi_s,lam_s,g_s)\n",
        "                    if cand and (best is None or sp.N(cand[\"g\"])>sp.N(best[\"g\"])): best=cand\n",
        "        # 境界点\n",
        "        for p in self.boundary:\n",
        "            w_vals=p\n",
        "            subs_dict={wi:p[i] for i,wi in enumerate(self.w)}\n",
        "            subs_dict[self.wM]=p[-1]\n",
        "            for k in range(1,self.D.K+1):\n",
        "                for S in itertools.combinations(range(self.D.M),k):\n",
        "                    try: pi_s,lam_s,g_s=self.D.pi_lambda_g(self.W,S)\n",
        "                    except NonInvertibleMatrixError: continue\n",
        "                    cand=self._candidate(w_vals,S,pi_s,lam_s,g_s)\n",
        "                    if cand and (best is None or sp.N(cand[\"g\"])>sp.N(best[\"g\"])): best=cand\n",
        "        return best\n",
        "\n",
        "# ------------------------------------------------------------------\n",
        "# demo\n",
        "# ------------------------------------------------------------------\n",
        "if __name__==\"__main__\":\n",
        "    r=[[0.015,0.03],[0.025,0.06]]\n",
        "    sigma=[[0.175,0.35],[0.225,0.45]]\n",
        "    C=[[[1,0.85],[0.85,1]],[[1,0.65],[0.65,1]]]\n",
        "    mu=0.03\n",
        "\n",
        "    res=Solver(ProblemData(r,sigma,mu,C)).solve()\n",
        "    if res is None:\n",
        "        print(\"★ 可行な活性集合が見つかりませんでした。μ を下げるかデータを見直してください。\")\n",
        "        exit()\n",
        "\n",
        "    sp.init_printing()\n",
        "    print(\"\\n=== 厳密最適解 ===\")\n",
        "    print(f\"活性集合 S : {res['S']}\\n\")\n",
        "\n",
        "    print(\"最適 w:\")\n",
        "    for i,w_i in enumerate(res[\"w\"],1):\n",
        "        print(f\"  w{i} = {w_i}  ≈ {fmt15(w_i)}\")\n",
        "\n",
        "    print(\"\\nπ* :\")\n",
        "    for i,pi_i in enumerate(res[\"pi\"],1):\n",
        "        print(f\"  π{i} = {pi_i}  ≈ {fmt15(pi_i)}\")\n",
        "\n",
        "    print(f\"\\n目的値 g(w*) = {res['g']}  ≈ {fmt15(res['g'])}\")\n"
      ],
      "metadata": {
        "colab": {
          "base_uri": "https://localhost:8080/"
        },
        "id": "zhBvAm7s_8Fz",
        "outputId": "f5d22363-b6f5-4744-ce94-8f33829b5bf3"
      },
      "execution_count": 34,
      "outputs": [
        {
          "output_type": "stream",
          "name": "stdout",
          "text": [
            "\n",
            "=== 厳密最適解 ===\n",
            "活性集合 S : (0,)\n",
            "\n",
            "最適 w:\n",
            "  w1 = 0  ≈ 0.000000000000000\n",
            "  w2 = 1  ≈ 1.000000000000000\n",
            "\n",
            "π* :\n",
            "  π1 = 1.00000000000000  ≈ 1.000000000000000\n",
            "  π2 = 0.500000000000000  ≈ 0.500000000000000\n",
            "\n",
            "目的値 g(w*) = 2673/16000  ≈ 0.167062500000000\n"
          ]
        }
      ]
    },
    {
      "cell_type": "code",
      "source": [
        "0.140795907942650*0.05+0.148010230143375*0.02"
      ],
      "metadata": {
        "colab": {
          "base_uri": "https://localhost:8080/",
          "height": 37
        },
        "id": "sV7eBpRiBY0f",
        "outputId": "63d3ded4-15fe-4565-8d41-a549cdea5e1b"
      },
      "execution_count": 22,
      "outputs": [
        {
          "output_type": "execute_result",
          "data": {
            "text/plain": [
              "0.010000000000000002"
            ],
            "text/latex": "$\\displaystyle 0.01$"
          },
          "metadata": {},
          "execution_count": 22
        }
      ]
    },
    {
      "cell_type": "code",
      "source": [
        "0.140795907942650*0.02+0.148010230143375*0.05"
      ],
      "metadata": {
        "colab": {
          "base_uri": "https://localhost:8080/",
          "height": 37
        },
        "id": "XRnSMuZOBb3C",
        "outputId": "450879ef-3b54-44a8-dfaf-29ff25cd2176"
      },
      "execution_count": 23,
      "outputs": [
        {
          "output_type": "execute_result",
          "data": {
            "text/plain": [
              "0.01021642966602175"
            ],
            "text/latex": "$\\displaystyle 0.0102164296660218$"
          },
          "metadata": {},
          "execution_count": 23
        }
      ]
    }
  ]
}