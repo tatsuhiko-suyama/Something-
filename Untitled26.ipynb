{
  "nbformat": 4,
  "nbformat_minor": 0,
  "metadata": {
    "colab": {
      "provenance": [],
      "authorship_tag": "ABX9TyPaISNS+xNEdgAeZYLI3knC",
      "include_colab_link": true
    },
    "kernelspec": {
      "name": "python3",
      "display_name": "Python 3"
    },
    "language_info": {
      "name": "python"
    }
  },
  "cells": [
    {
      "cell_type": "markdown",
      "metadata": {
        "id": "view-in-github",
        "colab_type": "text"
      },
      "source": [
        "<a href=\"https://colab.research.google.com/github/tatsuhiko-suyama/Something-/blob/main/Untitled26.ipynb\" target=\"_parent\"><img src=\"https://colab.research.google.com/assets/colab-badge.svg\" alt=\"Open In Colab\"/></a>"
      ]
    },
    {
      "cell_type": "code",
      "source": [
        "%%bash\n",
        "set -e\n",
        "source ~/.elan/env\n",
        "cd ~/lean-demo\n",
        "\n",
        "# 変更済み RegretLower.lean を上書き（既に canvas に反映済みの場合は不要）\n",
        "cat > RegretLower.lean <<'LEAN'\n",
        "-- 〈ここに最新の RegretLower.lean が自動で貼り付けられます〉\n",
        "LEAN\n",
        "\n",
        "lake build\n"
      ],
      "metadata": {
        "id": "9lrSHKpPQ8ot"
      },
      "execution_count": null,
      "outputs": []
    },
    {
      "cell_type": "code",
      "execution_count": null,
      "metadata": {
        "id": "eA47Rq8DQKjZ"
      },
      "outputs": [],
      "source": [
        "%%bash\n",
        "# Lean 用バージョンマネージャ elan を取得してセットアップ\n",
        "wget -q https://github.com/leanprover/elan/releases/download/v3.1.1/elan-x86_64-unknown-linux-gnu.tar.gz\n",
        "tar -xzf elan-x86_64-unknown-linux-gnu.tar.gz\n",
        "./elan-init -y                          # すべて自動 Yes\n",
        "source ~/.elan/env                      # PATH を当セッションへ反映\n",
        "elan default stable                     # Lean4 安定版を取得\n",
        "lean --version                          # バージョンが表示されれば成功\n"
      ]
    },
    {
      "cell_type": "code",
      "source": [
        "%%bash\n",
        "source ~/.elan/env                      # ← 毎セル最初に PATH を通す\n",
        "rm -rf ~/lean-demo                      # 前回の残骸があれば削除（安全策）\n",
        "mkdir -p ~/lean-demo && cd ~/lean-demo\n",
        "\n",
        "lake init .                             # カレントディレクトリをプロジェクト化\n",
        "lake build                              # mathlib4 を取得して初回ビルド\n"
      ],
      "metadata": {
        "id": "9SPEJ-a4QNPb"
      },
      "execution_count": null,
      "outputs": []
    },
    {
      "cell_type": "code",
      "source": [
        "%%bash\n",
        "source ~/.elan/env\n",
        "cd ~/lean-demo                          # ★プロジェクトルートに移動（ここに lakefile がある）\n",
        "\n",
        "cat << 'EOF' > Hello.lean\n",
        "import Mathlib\n",
        "\n",
        "-- 自然数の恒等式サンプル\n",
        "example : 2 + 2 = 4 := by\n",
        "  norm_num\n",
        "EOF\n",
        "\n",
        "lake build                              # 追加ファイルを含めてビルド\n"
      ],
      "metadata": {
        "id": "QcKoLhNJQO7C"
      },
      "execution_count": null,
      "outputs": []
    },
    {
      "cell_type": "code",
      "source": [
        "%%bash\n",
        "source ~/.elan/env\n",
        "pip install -q leanclient               # Lean ↔ Python ラッパ\n",
        "\n",
        "python - << 'PY'\n",
        "import subprocess, pathlib, textwrap\n",
        "proj = pathlib.Path.home() / \"lean-demo\"          # ルートに lakefile がある場所\n",
        "code = textwrap.dedent(\"\"\"\n",
        "import Mathlib\n",
        "example : 3 * 3 = 9 := by\n",
        "  norm_num\n",
        "\"\"\")\n",
        "(proj / \"Quick.lean\").write_text(code)\n",
        "subprocess.run([\"lake\", \"build\"], cwd=proj, check=True)\n",
        "print(\"✅  Python から lake build 完了\")\n",
        "PY\n"
      ],
      "metadata": {
        "id": "jI1vzJiQQQeF"
      },
      "execution_count": null,
      "outputs": []
    },
    {
      "cell_type": "code",
      "source": [
        "%%bash\n",
        "source ~/.elan/env\n",
        "cd ~/lean-demo               # プロジェクトルート（lakefile.toml がある場所）\n",
        "\n",
        "# 追加・変更した .lean ファイルをまとめてビルド\n",
        "lake build                    # Hello.lean も自動で型チェックされます\n"
      ],
      "metadata": {
        "id": "gIbCy7imQR5g"
      },
      "execution_count": null,
      "outputs": []
    },
    {
      "cell_type": "code",
      "source": [],
      "metadata": {
        "id": "ugRU8pBnY4QR"
      },
      "execution_count": null,
      "outputs": []
    }
  ]
}