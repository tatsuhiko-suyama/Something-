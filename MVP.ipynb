{
  "nbformat": 4,
  "nbformat_minor": 0,
  "metadata": {
    "colab": {
      "provenance": [],
      "authorship_tag": "ABX9TyPn98ckuOEAncJr73RwR0TG",
      "include_colab_link": true
    },
    "kernelspec": {
      "name": "python3",
      "display_name": "Python 3"
    },
    "language_info": {
      "name": "python"
    }
  },
  "cells": [
    {
      "cell_type": "markdown",
      "metadata": {
        "id": "view-in-github",
        "colab_type": "text"
      },
      "source": [
        "<a href=\"https://colab.research.google.com/github/tatsuhiko-suyama/Something-/blob/main/MVP.ipynb\" target=\"_parent\"><img src=\"https://colab.research.google.com/assets/colab-badge.svg\" alt=\"Open In Colab\"/></a>"
      ]
    },
    {
      "cell_type": "code",
      "execution_count": null,
      "metadata": {
        "id": "C9y47WAncuT4"
      },
      "outputs": [],
      "source": [
        "import numpy as np\n",
        "import pandas as pd\n",
        "import matplotlib.pyplot as plt\n",
        "import scipy.optimize as sco\n",
        "\n",
        "# サンプルデータの作成\n",
        "np.random.seed(42)\n",
        "returns = np.random.randn(100, 4)  # 100日間のリターン、4つの資産\n",
        "\n",
        "# 年次リターンと共分散行列を計算\n",
        "mean_returns = returns.mean(axis=0)\n",
        "cov_matrix = np.cov(returns, rowvar=False)\n",
        "num_assets = len(mean_returns)\n",
        "\n",
        "# リスクフリーレートを定義\n",
        "risk_free_rate = 0.01\n",
        "\n",
        "# ポートフォリオのパフォーマンスを計算する関数\n",
        "def portfolio_performance(weights, mean_returns, cov_matrix):\n",
        "    returns = np.dot(weights, mean_returns)\n",
        "    risk = np.sqrt(np.dot(weights.T, np.dot(cov_matrix, weights)))\n",
        "    return returns, risk\n",
        "\n",
        "# 最適化の目的関数（シャープレシオの最小化）\n",
        "def negative_sharpe_ratio(weights, mean_returns, cov_matrix, risk_free_rate):\n",
        "    p_returns, p_risk = portfolio_performance(weights, mean_returns, cov_matrix)\n",
        "    return -(p_returns - risk_free_rate) / p_risk\n",
        "\n",
        "# 制約条件と境界条件\n",
        "constraints = ({'type': 'eq', 'fun': lambda x: np.sum(x) - 1})\n",
        "bounds = tuple((0, 1) for asset in range(num_assets))\n",
        "\n",
        "# 初期の重み\n",
        "initial_weights = num_assets * [1. / num_assets,]\n",
        "\n",
        "# 最適化の実行\n",
        "opts = sco.minimize(negative_sharpe_ratio, initial_weights, args=(mean_returns, cov_matrix, risk_free_rate),\n",
        "                    method='SLSQP', bounds=bounds, constraints=constraints)\n",
        "\n",
        "# 最適なポートフォリオの重み\n",
        "optimal_weights = opts.x\n",
        "\n",
        "# 最適なポートフォリオのパフォーマンス\n",
        "opt_returns, opt_risk = portfolio_performance(optimal_weights, mean_returns, cov_matrix)\n",
        "opt_sharpe_ratio = (opt_returns - risk_free_rate) / opt_risk\n",
        "\n",
        "# 結果の表示\n",
        "print(\"最適なポートフォリオの重み:\", optimal_weights)\n",
        "print(\"最適なポートフォリオのリターン:\", opt_returns)\n",
        "print(\"最適なポートフォリオのリスク:\", opt_risk)\n",
        "print(\"最適なポートフォリオのシャープレシオ:\", opt_sharpe_ratio)\n",
        "\n",
        "# ポートフォリオの可視化\n",
        "def display_simulated_ef_with_random(mean_returns, cov_matrix, num_portfolios, risk_free_rate):\n",
        "    results = np.zeros((3, num_portfolios))\n",
        "    weight_array = []\n",
        "    for i in range(num_portfolios):\n",
        "        weights = np.random.random(num_assets)\n",
        "        weights /= np.sum(weights)\n",
        "        weight_array.append(weights)\n",
        "        portfolio_return, portfolio_stddev = portfolio_performance(weights, mean_returns, cov_matrix)\n",
        "        results[0,i] = portfolio_return\n",
        "        results[1,i] = portfolio_stddev\n",
        "        results[2,i] = (portfolio_return - risk_free_rate) / portfolio_stddev\n",
        "\n",
        "    max_sharpe_idx = np.argmax(results[2])\n",
        "    sdp, rp = results[1,max_sharpe_idx], results[0,max_sharpe_idx]\n",
        "    max_sharpe_allocation = weight_array[max_sharpe_idx]\n",
        "\n",
        "    min_vol_idx = np.argmin(results[1])\n",
        "    sdp_min, rp_min = results[1,min_vol_idx], results[0,min_vol_idx]\n",
        "    min_vol_allocation = weight_array[min_vol_idx]\n",
        "\n",
        "    plt.figure(figsize=(10, 7))\n",
        "    plt.scatter(results[1,:],results[0,:],c=results[2,:],cmap='YlGnBu', marker='o')\n",
        "    plt.scatter(sdp, rp, marker='*',color='r',s=500, label='Maximum Sharpe ratio')\n",
        "    plt.scatter(sdp_min, rp_min, marker='*',color='g',s=500, label='Minimum volatility')\n",
        "\n",
        "    plt.title('Simulated Portfolio Optimization based on Efficient Frontier')\n",
        "    plt.xlabel('annualised volatility')\n",
        "    plt.ylabel('annualised returns')\n",
        "    plt.colorbar(label='Sharpe ratio')\n",
        "    plt.legend(labelspacing=0.8)\n",
        "\n",
        "display_simulated_ef_with_random(mean_returns, cov_matrix, 10000, risk_free_rate)\n",
        "plt.show()\n"
      ]
    }
  ]
}